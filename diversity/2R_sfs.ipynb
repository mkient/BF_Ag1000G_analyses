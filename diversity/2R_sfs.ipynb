{
 "cells": [
  {
   "cell_type": "markdown",
   "metadata": {
    "id": "3UrQMDiTXghY"
   },
   "source": [
    "# Allele frequency spectrum"
   ]
  },
  {
   "cell_type": "code",
   "execution_count": 1,
   "metadata": {
    "colab": {
     "base_uri": "https://localhost:8080/"
    },
    "executionInfo": {
     "elapsed": 28713,
     "status": "ok",
     "timestamp": 1673543208349,
     "user": {
      "displayName": "Mahamadi Kientega",
      "userId": "09005529550051576731"
     },
     "user_tz": 0
    },
    "id": "_r-bZjefXM7e",
    "outputId": "ebd63597-28c8-47df-d769-fbd627f63f84"
   },
   "outputs": [
    {
     "name": "stdout",
     "output_type": "stream",
     "text": [
      "\u001b[2K     \u001b[90m━━━━━━━━━━━━━━━━━━━━━━━━━━━━━━━━━━━━━━━\u001b[0m \u001b[32m102.0/102.0 KB\u001b[0m \u001b[31m5.2 MB/s\u001b[0m eta \u001b[36m0:00:00\u001b[0m\n",
      "\u001b[2K     \u001b[90m━━━━━━━━━━━━━━━━━━━━━━━━━━━━━━━━━━━━━━━━\u001b[0m \u001b[32m7.2/7.2 MB\u001b[0m \u001b[31m62.7 MB/s\u001b[0m eta \u001b[36m0:00:00\u001b[0m\n",
      "\u001b[2K     \u001b[90m━━━━━━━━━━━━━━━━━━━━━━━━━━━━━━━━━━━━━━━━\u001b[0m \u001b[32m3.1/3.1 MB\u001b[0m \u001b[31m52.9 MB/s\u001b[0m eta \u001b[36m0:00:00\u001b[0m\n",
      "\u001b[2K     \u001b[90m━━━━━━━━━━━━━━━━━━━━━━━━━━━━━━━━━━━━━━\u001b[0m \u001b[32m309.8/309.8 KB\u001b[0m \u001b[31m24.5 MB/s\u001b[0m eta \u001b[36m0:00:00\u001b[0m\n",
      "\u001b[2K     \u001b[90m━━━━━━━━━━━━━━━━━━━━━━━━━━━━━━━━━━━━━━━━\u001b[0m \u001b[32m9.9/9.9 MB\u001b[0m \u001b[31m80.5 MB/s\u001b[0m eta \u001b[36m0:00:00\u001b[0m\n",
      "\u001b[2K     \u001b[90m━━━━━━━━━━━━━━━━━━━━━━━━━━━━━━━━━━━━━━━━\u001b[0m \u001b[32m3.7/3.7 MB\u001b[0m \u001b[31m70.4 MB/s\u001b[0m eta \u001b[36m0:00:00\u001b[0m\n",
      "\u001b[2K     \u001b[90m━━━━━━━━━━━━━━━━━━━━━━━━━━━━━━━━━━━━━━\u001b[0m \u001b[32m191.1/191.1 KB\u001b[0m \u001b[31m18.1 MB/s\u001b[0m eta \u001b[36m0:00:00\u001b[0m\n",
      "\u001b[2K     \u001b[90m━━━━━━━━━━━━━━━━━━━━━━━━━━━━━━━━━━━━━━━━\u001b[0m \u001b[32m3.6/3.6 MB\u001b[0m \u001b[31m80.3 MB/s\u001b[0m eta \u001b[36m0:00:00\u001b[0m\n",
      "\u001b[2K     \u001b[90m━━━━━━━━━━━━━━━━━━━━━━━━━━━━━━━━━━━━━━━━\u001b[0m \u001b[32m55.9/55.9 KB\u001b[0m \u001b[31m5.7 MB/s\u001b[0m eta \u001b[36m0:00:00\u001b[0m\n",
      "\u001b[?25h  Preparing metadata (setup.py) ... \u001b[?25l\u001b[?25hdone\n",
      "\u001b[2K     \u001b[90m━━━━━━━━━━━━━━━━━━━━━━━━━━━━━━━━━━━━━━━━\u001b[0m \u001b[32m6.7/6.7 MB\u001b[0m \u001b[31m54.7 MB/s\u001b[0m eta \u001b[36m0:00:00\u001b[0m\n",
      "\u001b[2K     \u001b[90m━━━━━━━━━━━━━━━━━━━━━━━━━━━━━━━━━━━━━━━━\u001b[0m \u001b[32m1.6/1.6 MB\u001b[0m \u001b[31m22.7 MB/s\u001b[0m eta \u001b[36m0:00:00\u001b[0m\n",
      "\u001b[?25h  Building wheel for asciitree (setup.py) ... \u001b[?25l\u001b[?25hdone\n"
     ]
    }
   ],
   "source": [
    "!pip install -q malariagen_data\n",
    "!pip install -q scikit-allel"
   ]
  },
  {
   "cell_type": "markdown",
   "metadata": {
    "id": "SgxvcSHGX0eW"
   },
   "source": [
    "### importing necessary package"
   ]
  },
  {
   "cell_type": "code",
   "execution_count": 2,
   "metadata": {
    "executionInfo": {
     "elapsed": 4657,
     "status": "ok",
     "timestamp": 1673543213002,
     "user": {
      "displayName": "Mahamadi Kientega",
      "userId": "09005529550051576731"
     },
     "user_tz": 0
    },
    "id": "ECFgL8yDXakn"
   },
   "outputs": [],
   "source": [
    "import allel\n",
    "import malariagen_data\n",
    "import numpy as np\n",
    "import pandas as pd\n",
    "import dask\n",
    "import dask.array as da\n",
    "# silence some dask warnings\n",
    "dask.config.set(**{'array.slicing.split_large_chunks': True})\n",
    "from dask.diagnostics.progress import ProgressBar"
   ]
  },
  {
   "cell_type": "code",
   "execution_count": 3,
   "metadata": {
    "executionInfo": {
     "elapsed": 6,
     "status": "ok",
     "timestamp": 1673543213003,
     "user": {
      "displayName": "Mahamadi Kientega",
      "userId": "09005529550051576731"
     },
     "user_tz": 0
    },
    "id": "nVFl0IwmU2m5"
   },
   "outputs": [],
   "source": [
    "#import random\n",
    "from collections import Counter\n",
    "from tqdm.dask import TqdmCallback\n",
    "from tqdm.auto import tqdm\n",
    "import functools\n"
   ]
  },
  {
   "cell_type": "code",
   "execution_count": 4,
   "metadata": {
    "executionInfo": {
     "elapsed": 820,
     "status": "ok",
     "timestamp": 1673543213817,
     "user": {
      "displayName": "Mahamadi Kientega",
      "userId": "09005529550051576731"
     },
     "user_tz": 0
    },
    "id": "77zlahrtl8fp"
   },
   "outputs": [],
   "source": [
    "# plotting setup\n",
    "import matplotlib as mpl\n",
    "import matplotlib.pyplot as plt\n",
    "from matplotlib.colors import ListedColormap\n",
    "from matplotlib.gridspec import GridSpec\n",
    "import matplotlib_venn as venn\n",
    "import seaborn as sns"
   ]
  },
  {
   "cell_type": "code",
   "execution_count": 5,
   "metadata": {
    "colab": {
     "base_uri": "https://localhost:8080/"
    },
    "executionInfo": {
     "elapsed": 23582,
     "status": "ok",
     "timestamp": 1673543237395,
     "user": {
      "displayName": "Mahamadi Kientega",
      "userId": "09005529550051576731"
     },
     "user_tz": 0
    },
    "id": "Ab5ffhWQ21BI",
    "outputId": "80edebb0-3b82-46df-d17d-61ff896c597c"
   },
   "outputs": [
    {
     "name": "stdout",
     "output_type": "stream",
     "text": [
      "Mounted at drive\n"
     ]
    }
   ],
   "source": [
    "#Mounting Google Drive\n",
    "import os\n",
    "from google.colab import drive\n",
    "drive.mount(\"drive\")\n",
    "\n",
    "# make dir \n",
    "results_dir = \"drive/MyDrive/\"\n",
    "os.makedirs(results_dir, exist_ok=True)"
   ]
  },
  {
   "cell_type": "markdown",
   "metadata": {
    "id": "S-MllSLqYD9J"
   },
   "source": [
    "Importing malariagen data set"
   ]
  },
  {
   "cell_type": "code",
   "execution_count": 6,
   "metadata": {
    "colab": {
     "base_uri": "https://localhost:8080/",
     "height": 49,
     "referenced_widgets": [
      "42faf4bab78e429898fb64d75da20ad2",
      "dc1a343fcc604bffbfad3dbedc0d50a9",
      "17137c03527b493790104a7c1fd990cb",
      "b6e383215e094f62975559de4eae2430",
      "f60283aa3b1d477da76b9598bdf0fa98",
      "c1ae9e0ddc924a2c89e8ceb21bfd7983",
      "aeb92c53c8b342e18e89bd47879e07d9",
      "a8275e43e1804d8bbcc0ca153108a2da",
      "22e72271a9c74faebc6678522fff7ba2",
      "123d17a595c544dc89d8baaff9f2dc90",
      "a11115c316d042d39b3cb47e789d42ea"
     ]
    },
    "executionInfo": {
     "elapsed": 5084,
     "status": "ok",
     "timestamp": 1673543242477,
     "user": {
      "displayName": "Mahamadi Kientega",
      "userId": "09005529550051576731"
     },
     "user_tz": 0
    },
    "id": "KJXtu7dJXanP",
    "outputId": "a06562be-5dfd-48bc-adb1-817542523f4f"
   },
   "outputs": [
    {
     "data": {
      "application/vnd.jupyter.widget-view+json": {
       "model_id": "42faf4bab78e429898fb64d75da20ad2",
       "version_major": 2,
       "version_minor": 0
      },
      "text/plain": [
       "Load sample metadata:   0%|          | 0/5 [00:00<?, ?it/s]"
      ]
     },
     "metadata": {},
     "output_type": "display_data"
    }
   ],
   "source": [
    "ag3 = malariagen_data.Ag3()\n",
    "#ag3\n",
    "\n",
    "#samples sets\n",
    "sets = [\"1191-VO-MULTI-OLOUGHLIN-VMF00106\", \"1191-VO-MULTI-OLOUGHLIN-VMF00140\", \n",
    "        \"AG1000G-BF-A\", \"AG1000G-BF-B\", \"AG1000G-BF-C\"]\n",
    "df_samples = ag3.sample_metadata(sample_sets=sets)#.set_index(\"sample_id\")\n",
    "bf_samples = df_samples.query('country == \"Burkina Faso\"')\n",
    "#bf_samples.groupby(['location', 'aim_species']).size()"
   ]
  },
  {
   "cell_type": "markdown",
   "metadata": {
    "id": "OXyiqrJTYWE8"
   },
   "source": [
    "Let's select the the sample set from "
   ]
  },
  {
   "cell_type": "code",
   "execution_count": 7,
   "metadata": {
    "executionInfo": {
     "elapsed": 4,
     "status": "ok",
     "timestamp": 1673543242477,
     "user": {
      "displayName": "Mahamadi Kientega",
      "userId": "09005529550051576731"
     },
     "user_tz": 0
    },
    "id": "BFTWJ7ILXaqJ"
   },
   "outputs": [],
   "source": [
    "from collections import Counter\n",
    "\n",
    "#Create population column \n",
    "bf_samples = df_samples.query('country == \"Burkina Faso\"')\n",
    "s1, s2, s3, y,  pop_labels, pop_colors, pop_labels_year, pop_colors_year = [], [], [],[], {}, {}, {}, {}\n",
    "for iso, species in zip(bf_samples.location, bf_samples.aim_species):\n",
    "    s1.append(iso[:4]+'_'+species[:3])\n",
    "bf_samples.insert(4, 'population', s1)\n",
    "bf_samples_sel = pd.concat([bf_samples, bf_samples])\n",
    "pop_ids = list(bf_samples.population.unique())\n",
    "\n",
    "# Pop_year \n",
    "for pop, year in zip(bf_samples.population, bf_samples.year):\n",
    "    y.append(pop+'_'+str(year))\n",
    "bf_samples.insert(5, 'pop_year', y)\n",
    "pop_year = list(bf_samples.pop_year.unique())\n",
    "\n",
    "#pop_id\n",
    "for idx, species in zip(bf_samples.location, bf_samples.aim_species):\n",
    "  w = idx.split(' ')[0][:14]\n",
    "  s2.append(w+' $An.'+species)\n",
    "val = list(Counter(s2).keys())\n",
    "for idx, vl in zip(pop_ids, val):\n",
    "    pop_labels[idx]=vl\n",
    "pop_labels\n",
    "\n",
    "for idx, species, year in zip(bf_samples.location, bf_samples.aim_species, bf_samples.year):\n",
    "  w = idx.split(' ')[0][:14]\n",
    "  s3.append(w+' $An.'+species+' ('+f'{year}' +')')\n",
    "val2 = list(Counter(s3).keys())\n",
    "for idx, vl in zip(pop_year, val2):\n",
    "    pop_labels_year[idx]=vl\n",
    "pop_labels_year\n",
    "\n",
    "#pop_labels\n",
    "colored = sns.color_palette(\"husl\", len(pop_ids))\n",
    "for i in range(len(pop_ids)):\n",
    "    pop_colors[pop_ids[i]] = colored[i]\n",
    "\n",
    "colored2 = sns.color_palette(\"husl\", len(pop_year))\n",
    "for i in range(len(pop_year)):\n",
    "    pop_colors_year[pop_year[i]] = colored2[i]\n",
    "\n",
    "#pop_cohort\n",
    "coh_pop = dict([(f\"{p}\", list(df.index)) for (p), df in bf_samples.reset_index().groupby(['population'])])\n",
    "\n",
    "#remove some populations \n",
    "pop_rm = ['Bana_ara', 'Bana_int', 'Sour_ara']\n",
    "del s1, s2, s3, y, val, val2, colored, colored2"
   ]
  },
  {
   "cell_type": "code",
   "execution_count": 8,
   "metadata": {
    "executionInfo": {
     "elapsed": 6,
     "status": "ok",
     "timestamp": 1673543242948,
     "user": {
      "displayName": "Mahamadi Kientega",
      "userId": "09005529550051576731"
     },
     "user_tz": 0
    },
    "id": "YQdJAYofr_dk"
   },
   "outputs": [],
   "source": [
    "query_year = {'Bana_ara_2014': \"location == ['Bana Market', 'Bana Village'] and aim_species == 'arabiensis' and year==2014\",\n",
    "              'Bana_col_2012': \"location == ['Bana Market', 'Bana Village'] and aim_species == 'coluzzii' and year==2012\",\n",
    "              'Bana_col_2014': \"location == ['Bana Market', 'Bana Village'] and aim_species == 'coluzzii' and year==2014\",\n",
    "              'Bana_col_2015': \"location == ['Bana Market', 'Bana Village'] and aim_species == 'coluzzii' and year==2015\",\n",
    "              'Bana_col_2016': \"location == ['Bana Market', 'Bana Village'] and aim_species == 'coluzzii' and year==2016\",\n",
    "              'Bana_col_2017': \"location == ['Bana Market', 'Bana Village'] and aim_species == 'coluzzii' and year==2012\",\n",
    "              'Bana_gam_2012': \"location == ['Bana Market', 'Bana Village'] and aim_species == 'gambiae' and year==2012\",\n",
    "              'Bana_gam_2014': \"location == ['Bana Market', 'Bana Village'] and aim_species == 'gambiae' and year==2014\",\n",
    "              'Bana_gam_2015': \"location == ['Bana Market', 'Bana Village'] and aim_species == 'gambiae' and year==2015\", \n",
    "              'Bana_gam_2016': \"location == ['Bana Market', 'Bana Village'] and aim_species == 'gambiae' and year==2016\",\n",
    "              'Bana_int_2012': \"location == ['Bana Market', 'Bana Village'] and aim_species == 'intermediate_gambiae_coluzzii' and year==2012\",\n",
    "              'Mono_gam_2004': \"location == 'Monomtenga' and aim_species == 'gambiae' and year==2004\",\n",
    "              'Pala_ara_2014': \"location == 'Pala' and aim_species == 'arabiensis' and year==2014\",\n",
    "              'Pala_ara_2015': \"location == 'Pala' and aim_species == 'arabiensis' and year==2015\",\n",
    "              'Pala_ara_2016': \"location == 'Pala' and aim_species == 'arabiensis' and year==2016\",\n",
    "              'Pala_col_2012': \"location == 'Pala' and aim_species == 'coluzzii' and year==2012\",\n",
    "              'Pala_gam_2012': \"location == 'Pala' and aim_species == 'gambiae' and year==2012\",\n",
    "              'Pala_gam_2014': \"location == 'Pala' and aim_species == 'gambiae' and year==2014\",\n",
    "              'Pala_gam_2015': \"location == 'Pala' and aim_species == 'gambiae' and year==2015\",\n",
    "              'Pala_gam_2016': \"location == 'Pala' and aim_species == 'gambiae' and year==2016\",\n",
    "              'Pala_gam_2017': \"location == 'Pala' and aim_species == 'gambiae' and year==2017\",\n",
    "              'Pala_int_2017': \"location == 'Pala' and aim_species == 'intermediate_gambiae_coluzzii' and year==2017\",\n",
    "              'Sour_ara_2017': \"location == 'Souroukoudinga' and aim_species == 'arabiensis' and year==2017\",\n",
    "              'Sour_col_2012': \"location == 'Souroukoudinga' and aim_species == 'coluzzii' and year==2012\",\n",
    "              'Sour_col_2014': \"location == 'Souroukoudinga' and aim_species == 'coluzzii' and year==2014\",\n",
    "              'Sour_col_2015': \"location == 'Souroukoudinga' and aim_species == 'coluzzii' and year==2015\",\n",
    "              'Sour_col_2016': \"location == 'Souroukoudinga' and aim_species == 'coluzzii' and year==2016\",\n",
    "              'Sour_col_2017': \"location == 'Souroukoudinga' and aim_species == 'coluzzii' and year==2017\",\n",
    "              'Sour_gam_2012': \"location == 'Souroukoudinga' and aim_species == 'gambiae' and year==2012\",\n",
    "              'Sour_gam_2014': \"location == 'Souroukoudinga' and aim_species == 'gambiae' and year==2014\",\n",
    "              'Sour_gam_2015': \"location == 'Souroukoudinga' and aim_species == 'gambiae' and year==2015\",\n",
    "              'Sour_gam_2016': \"location == 'Souroukoudinga' and aim_species == 'gambiae' and year==2016\"}\n",
    "              \n",
    "query_sp = {'Bana_ara': \"location == ['Bana Market', 'Bana Village'] and aim_species == 'arabiensis'\",\n",
    "            'Bana_col': \"location == ['Bana Market', 'Bana Village'] and aim_species == 'coluzzii'\",\n",
    "            'Bana_gam': \"location == ['Bana Market', 'Bana Village'] and aim_species == 'gambiae'\",\n",
    "            'Bana_int': \"location == ['Bana Market', 'Bana Village'] and aim_species == 'intermediate_gambiae_coluzzii'\",\n",
    "            'Mono_gam': \"location == 'Monomtenga' and aim_species == 'gambiae'\",\n",
    "            'Pala_ara': \"location == 'Pala' and aim_species == 'arabiensis'\",\n",
    "            'Pala_col': \"location == 'Pala' and aim_species == 'coluzzii'\",\n",
    "            'Pala_gam': \"location == 'Pala' and aim_species == 'gambiae'\",\n",
    "            'Pala_int': \"location == 'Pala' and aim_species == 'intermediate_gambiae_coluzzii'\",\n",
    "            'Sour_ara': \"location == 'Souroukoudinga' and aim_species == 'arabiensis'\",\n",
    "            'Sour_col': \"location == 'Souroukoudinga' and aim_species == 'coluzzii'\",\n",
    "            'Sour_gam': \"location == 'Souroukoudinga' and aim_species == 'gambiae'\"\n",
    "            }\n",
    "\n",
    "pops1 = ['Bana_col_2012','Bana_col_2014','Bana_col_2015','Bana_col_2016','Bana_col_2017',\n",
    "       'Bana_gam_2012','Bana_gam_2014','Bana_gam_2015','Bana_gam_2016','Mono_gam_2004',\n",
    "       'Pala_ara_2014','Pala_ara_2015','Pala_ara_2016','Pala_col_2012','Pala_gam_2012',\n",
    "       'Pala_gam_2014','Pala_gam_2015','Pala_gam_2016','Pala_gam_2017','Sour_col_2012',\n",
    "       'Sour_col_2014','Sour_col_2015','Sour_col_2016','Sour_col_2017','Sour_gam_2012',\n",
    "       'Sour_gam_2014','Sour_gam_2015','Sour_gam_2016']\n",
    "\n",
    "pops = ['Bana_col', 'Bana_gam', 'Mono_gam', 'Pala_ara', 'Pala_col', 'Pala_gam', 'Sour_col', 'Sour_gam']"
   ]
  },
  {
   "cell_type": "code",
   "execution_count": 9,
   "metadata": {
    "executionInfo": {
     "elapsed": 7,
     "status": "ok",
     "timestamp": 1673543242949,
     "user": {
      "displayName": "Mahamadi Kientega",
      "userId": "09005529550051576731"
     },
     "user_tz": 0
    },
    "id": "MiCm6Da2kK9-"
   },
   "outputs": [],
   "source": [
    "@functools.lru_cache(maxsize=None)\n",
    "def compute_sfs(contig, sample_query):\n",
    "  # access genotypes\n",
    "  ds_geno = ag3.snp_calls(region=contig, sample_query=sample_query, sample_sets=sets)\n",
    "  #count alleles and load into memory\n",
    "  pos = ds_geno[\"variant_position\"].values\n",
    "  filt = 'gamb_colu_arab' \n",
    "  filt_val = ds_geno[f\"variant_filter_pass_{filt}\"].values \n",
    "  gt_filtered = allel.GenotypeDaskArray(ds_geno[\"call_genotype\"][filt_val].data)\n",
    "    \n",
    "  # count alleles and load into memory\n",
    "  with TqdmCallback(desc=\"Count max alleles\"):\n",
    "    ac = gt_filtered.count_alleles(max_allele=3).compute()\n",
    "  # compute sfs \n",
    "  loca = (ac.max_allele() <= 1) & (ac.is_segregating())\n",
    "  aca = ac[loca][:, :2]\n",
    "  n = np.max(ac.sum(axis=1))\n",
    "  s = allel.sfs_folded_scaled(aca)\n",
    "  return pos, s, n\n",
    "\n",
    "def compute_2R_accessible_length(region='2R', site_mask='gamb_colu_arab'):\n",
    "  access = ag3.is_accessible(region=region, site_mask='gamb_colu_arab')\n",
    "  l = np.count_nonzero(access)\n",
    "  return l"
   ]
  },
  {
   "cell_type": "code",
   "execution_count": 10,
   "metadata": {
    "colab": {
     "base_uri": "https://localhost:8080/"
    },
    "executionInfo": {
     "elapsed": 6,
     "status": "ok",
     "timestamp": 1673543242949,
     "user": {
      "displayName": "Mahamadi Kientega",
      "userId": "09005529550051576731"
     },
     "user_tz": 0
    },
    "id": "EkHyT1mzr2Iy",
    "outputId": "c6e9494e-eb8a-4e5b-8abe-1eb3f86ff679"
   },
   "outputs": [
    {
     "data": {
      "text/plain": [
       "{'Pala_gam_2014': 'Pala $An.gambiae (2014)',\n",
       " 'Sour_gam_2014': 'Souroukoudinga $An.gambiae (2014)',\n",
       " 'Sour_col_2014': 'Souroukoudinga $An.coluzzii (2014)',\n",
       " 'Bana_gam_2014': 'Bana $An.gambiae (2014)',\n",
       " 'Pala_ara_2014': 'Pala $An.arabiensis (2014)',\n",
       " 'Bana_col_2014': 'Bana $An.coluzzii (2014)',\n",
       " 'Pala_ara_2015': 'Pala $An.arabiensis (2015)',\n",
       " 'Pala_gam_2015': 'Pala $An.gambiae (2015)',\n",
       " 'Sour_col_2015': 'Souroukoudinga $An.coluzzii (2015)',\n",
       " 'Bana_col_2015': 'Bana $An.coluzzii (2015)',\n",
       " 'Sour_gam_2015': 'Souroukoudinga $An.gambiae (2015)',\n",
       " 'Bana_gam_2015': 'Bana $An.gambiae (2015)',\n",
       " 'Bana_col_2016': 'Bana $An.coluzzii (2016)',\n",
       " 'Bana_gam_2016': 'Bana $An.gambiae (2016)',\n",
       " 'Pala_gam_2016': 'Pala $An.gambiae (2016)',\n",
       " 'Pala_ara_2016': 'Pala $An.arabiensis (2016)',\n",
       " 'Sour_col_2016': 'Souroukoudinga $An.coluzzii (2016)',\n",
       " 'Sour_gam_2016': 'Souroukoudinga $An.gambiae (2016)',\n",
       " 'Bana_col_2017': 'Bana $An.coluzzii (2017)',\n",
       " 'Pala_gam_2017': 'Pala $An.gambiae (2017)',\n",
       " 'Sour_col_2017': 'Souroukoudinga $An.coluzzii (2017)',\n",
       " 'Pala_int_2017': 'Pala $An.intermediate_gambiae_coluzzii (2017)',\n",
       " 'Sour_ara_2017': 'Souroukoudinga $An.arabiensis (2017)',\n",
       " 'Pala_gam_2012': 'Pala $An.gambiae (2012)',\n",
       " 'Bana_col_2012': 'Bana $An.coluzzii (2012)',\n",
       " 'Bana_gam_2012': 'Bana $An.gambiae (2012)',\n",
       " 'Bana_int_2012': 'Bana $An.intermediate_gambiae_coluzzii (2012)',\n",
       " 'Sour_col_2012': 'Souroukoudinga $An.coluzzii (2012)',\n",
       " 'Sour_gam_2012': 'Souroukoudinga $An.gambiae (2012)',\n",
       " 'Pala_col_2012': 'Pala $An.coluzzii (2012)',\n",
       " 'Bana_ara_2014': 'Bana $An.arabiensis (2014)',\n",
       " 'Mono_gam_2004': 'Monomtenga $An.gambiae (2004)'}"
      ]
     },
     "execution_count": 10,
     "metadata": {},
     "output_type": "execute_result"
    }
   ],
   "source": [
    "pop_labels_year"
   ]
  },
  {
   "cell_type": "code",
   "execution_count": 11,
   "metadata": {
    "executionInfo": {
     "elapsed": 5,
     "status": "ok",
     "timestamp": 1673543242949,
     "user": {
      "displayName": "Mahamadi Kientega",
      "userId": "09005529550051576731"
     },
     "user_tz": 0
    },
    "id": "3qEIXiHtblhj"
   },
   "outputs": [],
   "source": [
    "## compute sfs by pop - village - year\n",
    "#sf1, nf1 = {}, {}\n",
    "#for key in pops1:\n",
    "#  _, sf1[key], nf1[key] = compute_sfs(contig='2R', sample_query=f'{query_year[key]}')"
   ]
  },
  {
   "cell_type": "code",
   "execution_count": 12,
   "metadata": {
    "executionInfo": {
     "elapsed": 5,
     "status": "ok",
     "timestamp": 1673543242949,
     "user": {
      "displayName": "Mahamadi Kientega",
      "userId": "09005529550051576731"
     },
     "user_tz": 0
    },
    "id": "w-keWh7G5Np4"
   },
   "outputs": [],
   "source": [
    "## compute sfs by pop - village\n",
    "#sf2, nf2 = {}, {}\n",
    "#for key in pops:\n",
    "#  _, sf2[key], nf2[key] = compute_sfs(contig='2R', sample_query=f'{query_sp[key]}')"
   ]
  },
  {
   "cell_type": "code",
   "execution_count": 13,
   "metadata": {
    "executionInfo": {
     "elapsed": 5,
     "status": "ok",
     "timestamp": 1673543242950,
     "user": {
      "displayName": "Mahamadi Kientega",
      "userId": "09005529550051576731"
     },
     "user_tz": 0
    },
    "id": "aasZFw4Dw1eM"
   },
   "outputs": [],
   "source": [
    "## Save data sfs \n",
    "#np.save('drive/MyDrive/Genomic/diversity_stats/2R_sf1.npy', sf1)\n",
    "#np.save('drive/MyDrive/Genomic/diversity_stats/2R_nf1.npy', nf1)\n",
    "\n",
    "#np.save('drive/MyDrive/Genomic/diversity_stats/2R_sf2.npy', sf2)\n",
    "#np.save('drive/MyDrive/Genomic/diversity_stats/2R_nf2.npy', nf2)"
   ]
  },
  {
   "cell_type": "code",
   "execution_count": 14,
   "metadata": {
    "executionInfo": {
     "elapsed": 899,
     "status": "ok",
     "timestamp": 1673543243844,
     "user": {
      "displayName": "Mahamadi Kientega",
      "userId": "09005529550051576731"
     },
     "user_tz": 0
    },
    "id": "mgGdVDnKyjgF"
   },
   "outputs": [],
   "source": [
    "## load sfs data \n",
    "sf1 = np.load('drive/MyDrive/Genomic/diversity_stats/2R_sf1.npy', allow_pickle='TRUE').item()\n",
    "nf1 = np.load('drive/MyDrive/Genomic/diversity_stats/2R_nf1.npy', allow_pickle='TRUE').item()"
   ]
  },
  {
   "cell_type": "code",
   "execution_count": 26,
   "metadata": {
    "executionInfo": {
     "elapsed": 5,
     "status": "ok",
     "timestamp": 1673544283251,
     "user": {
      "displayName": "Mahamadi Kientega",
      "userId": "09005529550051576731"
     },
     "user_tz": 0
    },
    "id": "C3xulcoFBlOA"
   },
   "outputs": [],
   "source": [
    "pop_id = ['Bana_gam_2016']\n",
    "def plot_sfs_year(sf, nf, legend=False, ax=None, lw=2, fn=None, ylab=False, xlab=False):\n",
    "    l = compute_2R_accessible_length(region='2R', site_mask='gamb_colu_arab')\n",
    "    if ax is None:\n",
    "        fig, ax = plt.subplots(figsize=(12,12))\n",
    "    # set order for Z\n",
    "    for pop in pop_id:\n",
    "      s1 = sf[pop] / l\n",
    "      n1 = nf[pop]\n",
    "      allel.plot_sfs_folded_scaled(s=s1, n=n1, label=pop, ax=ax, \n",
    "                                   plot_kwargs=dict(color=pop_colors_year[pop],lw=lw, alpha=0.8))\n",
    "        \n",
    "    if ylab == True:    \n",
    "        ax.set_ylabel('Densité des SNPs (pb$^{-1}$)', fontsize=12)\n",
    "    else:\n",
    "        ax.set_ylabel('')\n",
    "    \n",
    "    if xlab == True:\n",
    "        ax.set_xlabel('Frequences alléliques mineures (MAF)', fontsize=12)\n",
    "    else:\n",
    "        ax.set_xlabel('')\n",
    "    ax.set_ylim(0, 0.06)\n",
    "    ax.set_xlim(0, 0.5)\n",
    "#     if legend:\n",
    "#         ax.legend()\n",
    "\n",
    "\n",
    "    handles = [mpl.patches.Patch(color=pop_colors_year[pop], label=pop_labels_year[pop]) for pop in pop_id]\n",
    "    ax.legend(handles=handles, loc='upper left', ncol=1, labelspacing=0.8)\n",
    "    if fn:\n",
    "        fig.savefig(fn, jpeg_quality=100, dpi=300, bbox_inches='tight');"
   ]
  },
  {
   "cell_type": "code",
   "execution_count": 21,
   "metadata": {
    "colab": {
     "base_uri": "https://localhost:8080/",
     "height": 192
    },
    "executionInfo": {
     "elapsed": 2153,
     "status": "ok",
     "timestamp": 1673543986517,
     "user": {
      "displayName": "Mahamadi Kientega",
      "userId": "09005529550051576731"
     },
     "user_tz": 0
    },
    "id": "UwJnta5IyFe_",
    "outputId": "c51ef05e-06b2-4da4-a8cf-150755c21210"
   },
   "outputs": [
    {
     "data": {
      "image/png": "[encoded data removed]",
      "text/plain": [
       "<Figure size 1728x1296 with 1 Axes>"
      ]
     },
     "metadata": {
      "needs_background": "light"
     },
     "output_type": "display_data"
    }
   ],
   "source": [
    "## An. gambiae \n",
    "fig, ax = plt.subplots(figsize=(24,18))\n",
    "gs = GridSpec(6, 4)\n",
    "\n",
    "ax0 = plt.subplot(gs[0, 0])\n",
    "pop_id = ['Sour_gam_2015']\n",
    "plot_sfs_year(sf=sf1, nf=nf1, legend=False, ax=ax0, lw=2, fn=None, ylab=False, xlab=False)\n"
   ]
  },
  {
   "cell_type": "code",
   "execution_count": 27,
   "metadata": {
    "colab": {
     "base_uri": "https://localhost:8080/",
     "height": 686
    },
    "executionInfo": {
     "elapsed": 37439,
     "status": "ok",
     "timestamp": 1673544324642,
     "user": {
      "displayName": "Mahamadi Kientega",
      "userId": "09005529550051576731"
     },
     "user_tz": 0
    },
    "id": "1fyi4TIHC1bY",
    "outputId": "5d73e0d4-ee41-4b32-8368-335a25ddf7c8"
   },
   "outputs": [
    {
     "data": {
      "image/png": "[encoded data removed]",
      "text/plain": [
       "<Figure size 1728x1296 with 14 Axes>"
      ]
     },
     "metadata": {
      "needs_background": "light"
     },
     "output_type": "display_data"
    }
   ],
   "source": [
    "## An. gambiae \n",
    "fig, ax = plt.subplots(figsize=(24,18))\n",
    "gs = GridSpec(6, 4)\n",
    "\n",
    "ax0 = plt.subplot(gs[0, 0])\n",
    "pop_id = ['Bana_gam_2012']\n",
    "plot_sfs_year(sf=sf1, nf=nf1, legend=False, ax=ax0, lw=2, fn=None, ylab=True, xlab=False)\n",
    "\n",
    "ax1 = plt.subplot(gs[0, 1])\n",
    "pop_id = ['Bana_gam_2014']\n",
    "plot_sfs_year(sf=sf1, nf=nf1, legend=False, ax=ax1, lw=2, fn=None, ylab=False, xlab=False)\n",
    "\n",
    "ax2 = plt.subplot(gs[0, 2])\n",
    "pop_id = ['Bana_gam_2015']\n",
    "plot_sfs_year(sf=sf1, nf=nf1, legend=False, ax=ax2, lw=2, fn=None, ylab=False, xlab=False)\n",
    "\n",
    "ax3 = plt.subplot(gs[0, 3])\n",
    "pop_id = ['Bana_gam_2016']\n",
    "plot_sfs_year(sf=sf1, nf=nf1, legend=False, ax=ax3, lw=2, fn=None, ylab=False, xlab=False)\n",
    "\n",
    "ax4 = plt.subplot(gs[1, 0])\n",
    "pop_id = ['Sour_gam_2012']\n",
    "plot_sfs_year(sf=sf1, nf=nf1, legend=False, ax=ax4, lw=2, fn=None, ylab=True, xlab=False)\n",
    "\n",
    "ax5 = plt.subplot(gs[1, 1])\n",
    "pop_id = ['Sour_gam_2014']\n",
    "plot_sfs_year(sf=sf1, nf=nf1, legend=False, ax=ax5, lw=2, fn=None, ylab=False, xlab=False)\n",
    "\n",
    "ax6 = plt.subplot(gs[1, 2])\n",
    "pop_id = ['Sour_gam_2015']\n",
    "plot_sfs_year(sf=sf1, nf=nf1, legend=False, ax=ax6, lw=2, fn=None, ylab=False, xlab=False)\n",
    "\n",
    "ax7 = plt.subplot(gs[1, 3])\n",
    "pop_id = ['Sour_gam_2016']\n",
    "plot_sfs_year(sf=sf1, nf=nf1, legend=False, ax=ax7, lw=2, fn=None, ylab=False, xlab=False)\n",
    "\n",
    "ax8 = plt.subplot(gs[2, 0])\n",
    "pop_id = ['Pala_gam_2012']\n",
    "plot_sfs_year(sf=sf1, nf=nf1, legend=False, ax=ax8, lw=2, fn=None, ylab=True, xlab=False)\n",
    "\n",
    "ax9 = plt.subplot(gs[2, 1])\n",
    "pop_id = ['Pala_gam_2014']\n",
    "plot_sfs_year(sf=sf1, nf=nf1, legend=False, ax=ax9, lw=2, fn=None, ylab=False, xlab=False)\n",
    "\n",
    "ax10 = plt.subplot(gs[2, 2])\n",
    "pop_id = ['Pala_gam_2015']\n",
    "plot_sfs_year(sf=sf1, nf=nf1, legend=False, ax=ax10, lw=2, fn=None, ylab=False, xlab=True)\n",
    "\n",
    "ax11 = plt.subplot(gs[2, 3])\n",
    "pop_id = ['Pala_gam_2016']\n",
    "plot_sfs_year(sf=sf1, nf=nf1, legend=False, ax=ax11, lw=2, fn=None, ylab=False, xlab=True)\n",
    "\n",
    "ax12 = plt.subplot(gs[3, 0])\n",
    "pop_id = ['Pala_gam_2017']\n",
    "plot_sfs_year(sf=sf1, nf=nf1, legend=False, ax=ax12, lw=2, fn=None, ylab=True, xlab=True)\n",
    "\n",
    "ax13 = plt.subplot(gs[3, 1])\n",
    "pop_id = ['Mono_gam_2004']\n",
    "plot_sfs_year(sf=sf1, nf=nf1, legend=False, ax=ax13, lw=2, fn=None, ylab=False, xlab=True)\n",
    "\n",
    "#ax14 = plt.subplot(gs[3, 2])\n",
    "#pop_id = [' ']\n",
    "#plot_sfs_year(sf=sf1, nf=nf1, legend=False, ax=ax2, lw=2, fn=None, ylab=False, xlab=False)\n",
    "\n",
    "#ax15 = plt.subplot(gs[3, 3])\n",
    "#pop_id = [' ']\n",
    "#plot_sfs_year(sf=sf1, nf=nf1, legend=False, ax=ax3, lw=2, fn=None, ylab=False, xlab=False)\n",
    "\n",
    "# Save fig\n",
    "fig.savefig(f\"drive/MyDrive/Genomic/diversity_stats/ag_2R_sf1.png\", dpi=600, bbox_inches='tight')"
   ]
  },
  {
   "cell_type": "code",
   "execution_count": 28,
   "metadata": {
    "colab": {
     "base_uri": "https://localhost:8080/",
     "height": 524
    },
    "executionInfo": {
     "elapsed": 27456,
     "status": "ok",
     "timestamp": 1673544352095,
     "user": {
      "displayName": "Mahamadi Kientega",
      "userId": "09005529550051576731"
     },
     "user_tz": 0
    },
    "id": "Xe6yCfamiBHY",
    "outputId": "f7ae61b2-b1f3-47f2-8103-6fba3c11a461"
   },
   "outputs": [
    {
     "data": {
      "image/png": "[encoded data removed]",
      "text/plain": [
       "<Figure size 1728x1296 with 11 Axes>"
      ]
     },
     "metadata": {
      "needs_background": "light"
     },
     "output_type": "display_data"
    }
   ],
   "source": [
    "## An. coluzzii \n",
    "fig, ax = plt.subplots(figsize=(24,18))\n",
    "gs = GridSpec(6, 4)\n",
    "\n",
    "ax0 = plt.subplot(gs[0, 0])\n",
    "pop_id = ['Bana_col_2012']\n",
    "plot_sfs_year(sf=sf1, nf=nf1, legend=False, ax=ax0, lw=2, fn=None, ylab=True, xlab=False)\n",
    "\n",
    "ax1 = plt.subplot(gs[0, 1])\n",
    "pop_id = ['Bana_col_2014']\n",
    "plot_sfs_year(sf=sf1, nf=nf1, legend=False, ax=ax1, lw=2, fn=None, ylab=False, xlab=False)\n",
    "\n",
    "ax2 = plt.subplot(gs[0, 2])\n",
    "pop_id = ['Bana_col_2015']\n",
    "plot_sfs_year(sf=sf1, nf=nf1, legend=False, ax=ax2, lw=2, fn=None, ylab=False, xlab=False)\n",
    "\n",
    "ax3 = plt.subplot(gs[0, 3])\n",
    "pop_id = ['Bana_col_2016']\n",
    "plot_sfs_year(sf=sf1, nf=nf1, legend=False, ax=ax3, lw=2, fn=None, ylab=False, xlab=False)\n",
    "\n",
    "ax4 = plt.subplot(gs[1, 0])\n",
    "pop_id = ['Bana_col_2017']\n",
    "plot_sfs_year(sf=sf1, nf=nf1, legend=False, ax=ax4, lw=2, fn=None, ylab=True, xlab=False)\n",
    "\n",
    "ax5 = plt.subplot(gs[1, 1])\n",
    "pop_id = ['Sour_col_2012']\n",
    "plot_sfs_year(sf=sf1, nf=nf1, legend=False, ax=ax5, lw=2, fn=None, ylab=False, xlab=False)\n",
    "\n",
    "ax6 = plt.subplot(gs[1, 2])\n",
    "pop_id = ['Sour_col_2014']\n",
    "plot_sfs_year(sf=sf1, nf=nf1, legend=False, ax=ax6, lw=2, fn=None, ylab=False, xlab=False)\n",
    "\n",
    "ax7 = plt.subplot(gs[1, 3])\n",
    "pop_id = ['Sour_col_2015']\n",
    "plot_sfs_year(sf=sf1, nf=nf1, legend=False, ax=ax7, lw=2, fn=None, ylab=False, xlab=True)\n",
    "\n",
    "ax8 = plt.subplot(gs[2, 0])\n",
    "pop_id = ['Sour_col_2016']\n",
    "plot_sfs_year(sf=sf1, nf=nf1, legend=False, ax=ax8, lw=2, fn=None, ylab=True, xlab=True)\n",
    "\n",
    "ax9 = plt.subplot(gs[2, 1])\n",
    "pop_id = ['Sour_col_2017']\n",
    "plot_sfs_year(sf=sf1, nf=nf1, legend=False, ax=ax9, lw=2, fn=None, ylab=False, xlab=True)\n",
    "\n",
    "ax10 = plt.subplot(gs[2, 2])\n",
    "pop_id = ['Pala_col_2012']\n",
    "plot_sfs_year(sf=sf1, nf=nf1, legend=False, ax=ax10, lw=2, fn=None, ylab=False, xlab=True)\n",
    "\n",
    "# Save fig\n",
    "fig.savefig(f\"drive/MyDrive/Genomic/diversity_stats/ac_2R_sf1.png\", dpi=600, bbox_inches='tight')"
   ]
  },
  {
   "cell_type": "code",
   "execution_count": 29,
   "metadata": {
    "colab": {
     "base_uri": "https://localhost:8080/",
     "height": 209
    },
    "executionInfo": {
     "elapsed": 7078,
     "status": "ok",
     "timestamp": 1673544359159,
     "user": {
      "displayName": "Mahamadi Kientega",
      "userId": "09005529550051576731"
     },
     "user_tz": 0
    },
    "id": "_nUCvxvyPF_3",
    "outputId": "fe2634f1-4668-48c4-8aad-259ffe4bee7c"
   },
   "outputs": [
    {
     "data": {
      "image/png": "[encoded data removed]",
      "text/plain": [
       "<Figure size 1728x1296 with 3 Axes>"
      ]
     },
     "metadata": {
      "needs_background": "light"
     },
     "output_type": "display_data"
    }
   ],
   "source": [
    "## An. arabiensis \n",
    "fig, ax = plt.subplots(figsize=(24,18))\n",
    "gs = GridSpec(6, 4)\n",
    "\n",
    "ax0 = plt.subplot(gs[0, 0])\n",
    "pop_id = ['Pala_ara_2014']\n",
    "plot_sfs_year(sf=sf1, nf=nf1, legend=False, ax=ax0, lw=2, fn=None, ylab=True, xlab=True)\n",
    "\n",
    "ax1 = plt.subplot(gs[0, 1])\n",
    "pop_id = ['Pala_ara_2015']\n",
    "plot_sfs_year(sf=sf1, nf=nf1, legend=False, ax=ax1, lw=2, fn=None, ylab=True, xlab=True)\n",
    "\n",
    "ax2 = plt.subplot(gs[0, 2])\n",
    "pop_id = ['Pala_ara_2016']\n",
    "plot_sfs_year(sf=sf1, nf=nf1, legend=False, ax=ax2, lw=2, fn=None, ylab=True, xlab=True)\n",
    "\n",
    "# Save fig\n",
    "fig.savefig(f\"drive/MyDrive/Genomic/diversity_stats/aa_2R_sf1.png\", dpi=600, bbox_inches='tight')"
   ]
  },
  {
   "cell_type": "code",
   "execution_count": 19,
   "metadata": {
    "executionInfo": {
     "elapsed": 6,
     "status": "ok",
     "timestamp": 1673543333682,
     "user": {
      "displayName": "Mahamadi Kientega",
      "userId": "09005529550051576731"
     },
     "user_tz": 0
    },
    "id": "N3t9Kvms6ibz"
   },
   "outputs": [],
   "source": []
  },
  {
   "cell_type": "code",
   "execution_count": 19,
   "metadata": {
    "executionInfo": {
     "elapsed": 6,
     "status": "ok",
     "timestamp": 1673543333682,
     "user": {
      "displayName": "Mahamadi Kientega",
      "userId": "09005529550051576731"
     },
     "user_tz": 0
    },
    "id": "In0Kav3y6iZA"
   },
   "outputs": [],
   "source": []
  },
  {
   "cell_type": "code",
   "execution_count": 19,
   "metadata": {
    "executionInfo": {
     "elapsed": 6,
     "status": "ok",
     "timestamp": 1673543333683,
     "user": {
      "displayName": "Mahamadi Kientega",
      "userId": "09005529550051576731"
     },
     "user_tz": 0
    },
    "id": "gcRaehu26iWG"
   },
   "outputs": [],
   "source": []
  }
 ],
 "metadata": {
  "colab": {
   "authorship_tag": "ABX9TyNp3pin9/7ZePNBTZvyirQM",
   "provenance": [
    {
     "file_id": "13y-8fqXI5ZHtwmCsXFS_Ga0c2V1mxOSe",
     "timestamp": 1649238389824
    },
    {
     "file_id": "19amoJl5xCzxYHZFyXe4adndUxP2oVVJQ",
     "timestamp": 1647513732037
    },
    {
     "file_id": "1D8TW3w9XCWXgic9XhpRB536XOzpTp4tT",
     "timestamp": 1647513242536
    }
   ]
  },
  "kernelspec": {
   "display_name": "Python 3 (ipykernel)",
   "language": "python",
   "name": "python3"
  },
  "language_info": {
   "codemirror_mode": {
    "name": "ipython",
    "version": 3
   },
   "file_extension": ".py",
   "mimetype": "text/x-python",
   "name": "python",
   "nbconvert_exporter": "python",
   "pygments_lexer": "ipython3",
   "version": "3.12.3"
  },
  "widgets": {
   "application/vnd.jupyter.widget-state+json": {
    "123d17a595c544dc89d8baaff9f2dc90": {
     "model_module": "@jupyter-widgets/base",
     "model_module_version": "1.2.0",
     "model_name": "LayoutModel",
     "state": {
      "_model_module": "@jupyter-widgets/base",
      "_model_module_version": "1.2.0",
      "_model_name": "LayoutModel",
      "_view_count": null,
      "_view_module": "@jupyter-widgets/base",
      "_view_module_version": "1.2.0",
      "_view_name": "LayoutView",
      "align_content": null,
      "align_items": null,
      "align_self": null,
      "border": null,
      "bottom": null,
      "display": null,
      "flex": null,
      "flex_flow": null,
      "grid_area": null,
      "grid_auto_columns": null,
      "grid_auto_flow": null,
      "grid_auto_rows": null,
      "grid_column": null,
      "grid_gap": null,
      "grid_row": null,
      "grid_template_areas": null,
      "grid_template_columns": null,
      "grid_template_rows": null,
      "height": null,
      "justify_content": null,
      "justify_items": null,
      "left": null,
      "margin": null,
      "max_height": null,
      "max_width": null,
      "min_height": null,
      "min_width": null,
      "object_fit": null,
      "object_position": null,
      "order": null,
      "overflow": null,
      "overflow_x": null,
      "overflow_y": null,
      "padding": null,
      "right": null,
      "top": null,
      "visibility": null,
      "width": null
     }
    },
    "17137c03527b493790104a7c1fd990cb": {
     "model_module": "@jupyter-widgets/controls",
     "model_module_version": "1.5.0",
     "model_name": "FloatProgressModel",
     "state": {
      "_dom_classes": [],
      "_model_module": "@jupyter-widgets/controls",
      "_model_module_version": "1.5.0",
      "_model_name": "FloatProgressModel",
      "_view_count": null,
      "_view_module": "@jupyter-widgets/controls",
      "_view_module_version": "1.5.0",
      "_view_name": "ProgressView",
      "bar_style": "success",
      "description": "",
      "description_tooltip": null,
      "layout": "IPY_MODEL_a8275e43e1804d8bbcc0ca153108a2da",
      "max": 5,
      "min": 0,
      "orientation": "horizontal",
      "style": "IPY_MODEL_22e72271a9c74faebc6678522fff7ba2",
      "value": 5
     }
    },
    "22e72271a9c74faebc6678522fff7ba2": {
     "model_module": "@jupyter-widgets/controls",
     "model_module_version": "1.5.0",
     "model_name": "ProgressStyleModel",
     "state": {
      "_model_module": "@jupyter-widgets/controls",
      "_model_module_version": "1.5.0",
      "_model_name": "ProgressStyleModel",
      "_view_count": null,
      "_view_module": "@jupyter-widgets/base",
      "_view_module_version": "1.2.0",
      "_view_name": "StyleView",
      "bar_color": null,
      "description_width": ""
     }
    },
    "42faf4bab78e429898fb64d75da20ad2": {
     "model_module": "@jupyter-widgets/controls",
     "model_module_version": "1.5.0",
     "model_name": "HBoxModel",
     "state": {
      "_dom_classes": [],
      "_model_module": "@jupyter-widgets/controls",
      "_model_module_version": "1.5.0",
      "_model_name": "HBoxModel",
      "_view_count": null,
      "_view_module": "@jupyter-widgets/controls",
      "_view_module_version": "1.5.0",
      "_view_name": "HBoxView",
      "box_style": "",
      "children": [
       "IPY_MODEL_dc1a343fcc604bffbfad3dbedc0d50a9",
       "IPY_MODEL_17137c03527b493790104a7c1fd990cb",
       "IPY_MODEL_b6e383215e094f62975559de4eae2430"
      ],
      "layout": "IPY_MODEL_f60283aa3b1d477da76b9598bdf0fa98"
     }
    },
    "a11115c316d042d39b3cb47e789d42ea": {
     "model_module": "@jupyter-widgets/controls",
     "model_module_version": "1.5.0",
     "model_name": "DescriptionStyleModel",
     "state": {
      "_model_module": "@jupyter-widgets/controls",
      "_model_module_version": "1.5.0",
      "_model_name": "DescriptionStyleModel",
      "_view_count": null,
      "_view_module": "@jupyter-widgets/base",
      "_view_module_version": "1.2.0",
      "_view_name": "StyleView",
      "description_width": ""
     }
    },
    "a8275e43e1804d8bbcc0ca153108a2da": {
     "model_module": "@jupyter-widgets/base",
     "model_module_version": "1.2.0",
     "model_name": "LayoutModel",
     "state": {
      "_model_module": "@jupyter-widgets/base",
      "_model_module_version": "1.2.0",
      "_model_name": "LayoutModel",
      "_view_count": null,
      "_view_module": "@jupyter-widgets/base",
      "_view_module_version": "1.2.0",
      "_view_name": "LayoutView",
      "align_content": null,
      "align_items": null,
      "align_self": null,
      "border": null,
      "bottom": null,
      "display": null,
      "flex": null,
      "flex_flow": null,
      "grid_area": null,
      "grid_auto_columns": null,
      "grid_auto_flow": null,
      "grid_auto_rows": null,
      "grid_column": null,
      "grid_gap": null,
      "grid_row": null,
      "grid_template_areas": null,
      "grid_template_columns": null,
      "grid_template_rows": null,
      "height": null,
      "justify_content": null,
      "justify_items": null,
      "left": null,
      "margin": null,
      "max_height": null,
      "max_width": null,
      "min_height": null,
      "min_width": null,
      "object_fit": null,
      "object_position": null,
      "order": null,
      "overflow": null,
      "overflow_x": null,
      "overflow_y": null,
      "padding": null,
      "right": null,
      "top": null,
      "visibility": null,
      "width": null
     }
    },
    "aeb92c53c8b342e18e89bd47879e07d9": {
     "model_module": "@jupyter-widgets/controls",
     "model_module_version": "1.5.0",
     "model_name": "DescriptionStyleModel",
     "state": {
      "_model_module": "@jupyter-widgets/controls",
      "_model_module_version": "1.5.0",
      "_model_name": "DescriptionStyleModel",
      "_view_count": null,
      "_view_module": "@jupyter-widgets/base",
      "_view_module_version": "1.2.0",
      "_view_name": "StyleView",
      "description_width": ""
     }
    },
    "b6e383215e094f62975559de4eae2430": {
     "model_module": "@jupyter-widgets/controls",
     "model_module_version": "1.5.0",
     "model_name": "HTMLModel",
     "state": {
      "_dom_classes": [],
      "_model_module": "@jupyter-widgets/controls",
      "_model_module_version": "1.5.0",
      "_model_name": "HTMLModel",
      "_view_count": null,
      "_view_module": "@jupyter-widgets/controls",
      "_view_module_version": "1.5.0",
      "_view_name": "HTMLView",
      "description": "",
      "description_tooltip": null,
      "layout": "IPY_MODEL_123d17a595c544dc89d8baaff9f2dc90",
      "placeholder": "​",
      "style": "IPY_MODEL_a11115c316d042d39b3cb47e789d42ea",
      "value": " 5/5 [00:03&lt;00:00,  1.78it/s]"
     }
    },
    "c1ae9e0ddc924a2c89e8ceb21bfd7983": {
     "model_module": "@jupyter-widgets/base",
     "model_module_version": "1.2.0",
     "model_name": "LayoutModel",
     "state": {
      "_model_module": "@jupyter-widgets/base",
      "_model_module_version": "1.2.0",
      "_model_name": "LayoutModel",
      "_view_count": null,
      "_view_module": "@jupyter-widgets/base",
      "_view_module_version": "1.2.0",
      "_view_name": "LayoutView",
      "align_content": null,
      "align_items": null,
      "align_self": null,
      "border": null,
      "bottom": null,
      "display": null,
      "flex": null,
      "flex_flow": null,
      "grid_area": null,
      "grid_auto_columns": null,
      "grid_auto_flow": null,
      "grid_auto_rows": null,
      "grid_column": null,
      "grid_gap": null,
      "grid_row": null,
      "grid_template_areas": null,
      "grid_template_columns": null,
      "grid_template_rows": null,
      "height": null,
      "justify_content": null,
      "justify_items": null,
      "left": null,
      "margin": null,
      "max_height": null,
      "max_width": null,
      "min_height": null,
      "min_width": null,
      "object_fit": null,
      "object_position": null,
      "order": null,
      "overflow": null,
      "overflow_x": null,
      "overflow_y": null,
      "padding": null,
      "right": null,
      "top": null,
      "visibility": null,
      "width": null
     }
    },
    "dc1a343fcc604bffbfad3dbedc0d50a9": {
     "model_module": "@jupyter-widgets/controls",
     "model_module_version": "1.5.0",
     "model_name": "HTMLModel",
     "state": {
      "_dom_classes": [],
      "_model_module": "@jupyter-widgets/controls",
      "_model_module_version": "1.5.0",
      "_model_name": "HTMLModel",
      "_view_count": null,
      "_view_module": "@jupyter-widgets/controls",
      "_view_module_version": "1.5.0",
      "_view_name": "HTMLView",
      "description": "",
      "description_tooltip": null,
      "layout": "IPY_MODEL_c1ae9e0ddc924a2c89e8ceb21bfd7983",
      "placeholder": "​",
      "style": "IPY_MODEL_aeb92c53c8b342e18e89bd47879e07d9",
      "value": "Load sample metadata: 100%"
     }
    },
    "f60283aa3b1d477da76b9598bdf0fa98": {
     "model_module": "@jupyter-widgets/base",
     "model_module_version": "1.2.0",
     "model_name": "LayoutModel",
     "state": {
      "_model_module": "@jupyter-widgets/base",
      "_model_module_version": "1.2.0",
      "_model_name": "LayoutModel",
      "_view_count": null,
      "_view_module": "@jupyter-widgets/base",
      "_view_module_version": "1.2.0",
      "_view_name": "LayoutView",
      "align_content": null,
      "align_items": null,
      "align_self": null,
      "border": null,
      "bottom": null,
      "display": null,
      "flex": null,
      "flex_flow": null,
      "grid_area": null,
      "grid_auto_columns": null,
      "grid_auto_flow": null,
      "grid_auto_rows": null,
      "grid_column": null,
      "grid_gap": null,
      "grid_row": null,
      "grid_template_areas": null,
      "grid_template_columns": null,
      "grid_template_rows": null,
      "height": null,
      "justify_content": null,
      "justify_items": null,
      "left": null,
      "margin": null,
      "max_height": null,
      "max_width": null,
      "min_height": null,
      "min_width": null,
      "object_fit": null,
      "object_position": null,
      "order": null,
      "overflow": null,
      "overflow_x": null,
      "overflow_y": null,
      "padding": null,
      "right": null,
      "top": null,
      "visibility": null,
      "width": null
     }
    }
   }
  }
 },
 "nbformat": 4,
 "nbformat_minor": 4
}
