{
 "cells": [
  {
   "cell_type": "markdown",
   "metadata": {
    "id": "3UrQMDiTXghY"
   },
   "source": [
    "# Number of SNPs"
   ]
  },
  {
   "cell_type": "code",
   "execution_count": null,
   "metadata": {
    "id": "_r-bZjefXM7e"
   },
   "outputs": [],
   "source": [
    "!pip install -q malariagen_data\n",
    "!pip install -q scikit-allel"
   ]
  },
  {
   "cell_type": "markdown",
   "metadata": {
    "id": "SgxvcSHGX0eW"
   },
   "source": [
    "### importing necessary package"
   ]
  },
  {
   "cell_type": "code",
   "execution_count": null,
   "metadata": {
    "id": "ECFgL8yDXakn"
   },
   "outputs": [],
   "source": [
    "import allel\n",
    "import malariagen_data\n",
    "import numpy as np\n",
    "import pandas as pd\n",
    "import dask\n",
    "import dask.array as da\n",
    "# silence some dask warnings\n",
    "dask.config.set(**{'array.slicing.split_large_chunks': True})\n",
    "from dask.diagnostics.progress import ProgressBar"
   ]
  },
  {
   "cell_type": "code",
   "execution_count": null,
   "metadata": {
    "id": "nVFl0IwmU2m5"
   },
   "outputs": [],
   "source": [
    "#import random\n",
    "from collections import Counter\n",
    "from tqdm.dask import TqdmCallback\n",
    "from tqdm.auto import tqdm\n",
    "import functools\n"
   ]
  },
  {
   "cell_type": "code",
   "execution_count": null,
   "metadata": {
    "id": "77zlahrtl8fp"
   },
   "outputs": [],
   "source": [
    "# plotting setup\n",
    "import matplotlib as mpl\n",
    "import matplotlib.pyplot as plt\n",
    "from matplotlib.colors import ListedColormap\n",
    "from matplotlib.gridspec import GridSpec\n",
    "import matplotlib_venn as venn\n",
    "import seaborn as sns"
   ]
  },
  {
   "cell_type": "code",
   "execution_count": null,
   "metadata": {
    "colab": {
     "base_uri": "https://localhost:8080/"
    },
    "executionInfo": {
     "elapsed": 21083,
     "status": "ok",
     "timestamp": 1667841682399,
     "user": {
      "displayName": "Mahamadi Kientega",
      "userId": "09005529550051576731"
     },
     "user_tz": 0
    },
    "id": "Ab5ffhWQ21BI",
    "outputId": "c808c6b1-6a31-4972-8a0b-df7e68c9bcbb"
   },
   "outputs": [
    {
     "name": "stdout",
     "output_type": "stream",
     "text": [
      "Mounted at drive\n"
     ]
    }
   ],
   "source": [
    "#Mounting Google Drive\n",
    "import os\n",
    "from google.colab import drive\n",
    "drive.mount(\"drive\")\n",
    "\n",
    "# make dir \n",
    "results_dir = \"drive/MyDrive/\"\n",
    "os.makedirs(results_dir, exist_ok=True)"
   ]
  },
  {
   "cell_type": "markdown",
   "metadata": {
    "id": "S-MllSLqYD9J"
   },
   "source": [
    "Importing malariagen data set"
   ]
  },
  {
   "cell_type": "code",
   "execution_count": 1,
   "metadata": {
    "colab": {
     "base_uri": "https://localhost:8080/",
     "height": 49,
     "referenced_widgets": [
      "1e84093d08884640a2d4e7c5ebcfc90c",
      "e8368aaa69274d9fae3d44c908e6db49",
      "fa541b1fb28b4f51a024136dc1f22ffa",
      "95f36eb4da2c40888c9c423edce4f90a",
      "c0bec8a8b6834e568216e889d16ff391",
      "9dafa0e78c1e4c978af21b726c429e12",
      "da792b203d6749dfbb9f93612eb49168",
      "0ffa3685eebc4ce292212721365e1fe4",
      "29f66dc8eff845329706515335eaad65",
      "fd142bb41d534292b572ba900ec6ee5a",
      "045d987222b242b0a2279bba92cbe06e"
     ]
    },
    "executionInfo": {
     "elapsed": 3676,
     "status": "ok",
     "timestamp": 1667841686068,
     "user": {
      "displayName": "Mahamadi Kientega",
      "userId": "09005529550051576731"
     },
     "user_tz": 0
    },
    "id": "KJXtu7dJXanP",
    "outputId": "9a171119-f507-433f-bfea-17b891e5ad24"
   },
   "outputs": [
    {
     "ename": "NameError",
     "evalue": "name 'malariagen_data' is not defined",
     "output_type": "error",
     "traceback": [
      "\u001b[0;31m---------------------------------------------------------------------------\u001b[0m",
      "\u001b[0;31mNameError\u001b[0m                                 Traceback (most recent call last)",
      "Cell \u001b[0;32mIn[1], line 1\u001b[0m\n\u001b[0;32m----> 1\u001b[0m ag3 \u001b[38;5;241m=\u001b[39m \u001b[43mmalariagen_data\u001b[49m\u001b[38;5;241m.\u001b[39mAg3()\n\u001b[1;32m      2\u001b[0m \u001b[38;5;66;03m#ag3\u001b[39;00m\n\u001b[1;32m      3\u001b[0m \n\u001b[1;32m      4\u001b[0m \u001b[38;5;66;03m#samples sets\u001b[39;00m\n\u001b[1;32m      5\u001b[0m sets \u001b[38;5;241m=\u001b[39m [\u001b[38;5;124m\"\u001b[39m\u001b[38;5;124m1191-VO-MULTI-OLOUGHLIN-VMF00106\u001b[39m\u001b[38;5;124m\"\u001b[39m, \u001b[38;5;124m\"\u001b[39m\u001b[38;5;124m1191-VO-MULTI-OLOUGHLIN-VMF00140\u001b[39m\u001b[38;5;124m\"\u001b[39m, \n\u001b[1;32m      6\u001b[0m         \u001b[38;5;124m\"\u001b[39m\u001b[38;5;124mAG1000G-BF-A\u001b[39m\u001b[38;5;124m\"\u001b[39m, \u001b[38;5;124m\"\u001b[39m\u001b[38;5;124mAG1000G-BF-B\u001b[39m\u001b[38;5;124m\"\u001b[39m, \u001b[38;5;124m\"\u001b[39m\u001b[38;5;124mAG1000G-BF-C\u001b[39m\u001b[38;5;124m\"\u001b[39m]\n",
      "\u001b[0;31mNameError\u001b[0m: name 'malariagen_data' is not defined"
     ]
    }
   ],
   "source": [
    "ag3 = malariagen_data.Ag3()\n",
    "#ag3\n",
    "\n",
    "#samples sets\n",
    "sets = [\"1191-VO-MULTI-OLOUGHLIN-VMF00106\", \"1191-VO-MULTI-OLOUGHLIN-VMF00140\", \n",
    "        \"AG1000G-BF-A\", \"AG1000G-BF-B\", \"AG1000G-BF-C\"]\n",
    "df_samples = ag3.sample_metadata(sample_sets=sets)#.set_index(\"sample_id\")\n",
    "bf_samples = df_samples.query('country == \"Burkina Faso\"')\n",
    "#bf_samples.groupby(['location', 'aim_species']).size()"
   ]
  },
  {
   "cell_type": "markdown",
   "metadata": {
    "id": "OXyiqrJTYWE8"
   },
   "source": [
    "Let's select the the sample set from "
   ]
  },
  {
   "cell_type": "code",
   "execution_count": null,
   "metadata": {
    "id": "BFTWJ7ILXaqJ"
   },
   "outputs": [],
   "source": [
    "from collections import Counter\n",
    "\n",
    "#Create population column \n",
    "bf_samples = df_samples.query('country == \"Burkina Faso\"')\n",
    "s1, s2, s3, y,  pop_labels, pop_colors, pop_labels_year, pop_colors_year = [], [], [],[], {}, {}, {}, {}\n",
    "for iso, species in zip(bf_samples.location, bf_samples.aim_species):\n",
    "    s1.append(iso[:4]+'_'+species[:3])\n",
    "bf_samples.insert(4, 'population', s1)\n",
    "bf_samples_sel = pd.concat([bf_samples, bf_samples])\n",
    "pop_ids = list(bf_samples.population.unique())\n",
    "\n",
    "# Pop_year \n",
    "for pop, year in zip(bf_samples.population, bf_samples.year):\n",
    "    y.append(pop+'_'+str(year))\n",
    "bf_samples.insert(5, 'pop_year', y)\n",
    "pop_year = list(bf_samples.pop_year.unique())\n",
    "\n",
    "#pop_id\n",
    "for idx, species in zip(bf_samples.location, bf_samples.aim_species):\n",
    "  w = idx.split(' ')[0][:14]\n",
    "  s2.append(w+' $An.'+species)\n",
    "val = list(Counter(s2).keys())\n",
    "for idx, vl in zip(pop_ids, val):\n",
    "    pop_labels[idx]=vl\n",
    "pop_labels\n",
    "\n",
    "for idx, species, year in zip(bf_samples.location, bf_samples.aim_species, bf_samples.year):\n",
    "  w = idx.split(' ')[0][:14]\n",
    "  s3.append(w+' $An.'+species+' ('+f'{year}' +')')\n",
    "val2 = list(Counter(s3).keys())\n",
    "for idx, vl in zip(pop_year, val2):\n",
    "    pop_labels_year[idx]=vl\n",
    "pop_labels_year\n",
    "\n",
    "#pop_labels\n",
    "colored = sns.color_palette(\"husl\", len(pop_ids))\n",
    "for i in range(len(pop_ids)):\n",
    "    pop_colors[pop_ids[i]] = colored[i]\n",
    "\n",
    "colored2 = sns.color_palette(\"husl\", len(pop_year))\n",
    "for i in range(len(pop_year)):\n",
    "    pop_colors_year[pop_year[i]] = colored2[i]\n",
    "\n",
    "#pop_cohort\n",
    "coh_pop = dict([(f\"{p}\", list(df.index)) for (p), df in bf_samples.reset_index().groupby(['population'])])\n",
    "\n",
    "#remove some populations \n",
    "pop_rm = ['Bana_ara', 'Bana_int', 'Sour_ara']\n",
    "del s1, s2, s3, y, val, val2, colored, colored2"
   ]
  },
  {
   "cell_type": "code",
   "execution_count": null,
   "metadata": {
    "id": "YQdJAYofr_dk"
   },
   "outputs": [],
   "source": [
    "query_year = {'Bana_ara_2014': \"location == ['Bana Market', 'Bana Village'] and aim_species == 'arabiensis' and year==2014\",\n",
    "              'Bana_col_2012': \"location == ['Bana Market', 'Bana Village'] and aim_species == 'coluzzii' and year==2012\",\n",
    "              'Bana_col_2014': \"location == ['Bana Market', 'Bana Village'] and aim_species == 'coluzzii' and year==2014\",\n",
    "              'Bana_col_2015': \"location == ['Bana Market', 'Bana Village'] and aim_species == 'coluzzii' and year==2015\",\n",
    "              'Bana_col_2016': \"location == ['Bana Market', 'Bana Village'] and aim_species == 'coluzzii' and year==2016\",\n",
    "              'Bana_col_2017': \"location == ['Bana Market', 'Bana Village'] and aim_species == 'coluzzii' and year==2012\",\n",
    "              'Bana_gam_2012': \"location == ['Bana Market', 'Bana Village'] and aim_species == 'gambiae' and year==2012\",\n",
    "              'Bana_gam_2014': \"location == ['Bana Market', 'Bana Village'] and aim_species == 'gambiae' and year==2014\",\n",
    "              'Bana_gam_2015': \"location == ['Bana Market', 'Bana Village'] and aim_species == 'gambiae' and year==2015\", \n",
    "              'Bana_gam_2016': \"location == ['Bana Market', 'Bana Village'] and aim_species == 'gambiae' and year==2016\",\n",
    "              'Bana_int_2012': \"location == ['Bana Market', 'Bana Village'] and aim_species == 'intermediate_gambiae_coluzzii' and year==2012\",\n",
    "              'Mono_gam_2004': \"location == 'Monomtenga' and aim_species == 'gambiae' and year==2004\",\n",
    "              'Pala_ara_2014': \"location == 'Pala' and aim_species == 'arabiensis' and year==2014\",\n",
    "              'Pala_ara_2015': \"location == 'Pala' and aim_species == 'arabiensis' and year==2015\",\n",
    "              'Pala_ara_2016': \"location == 'Pala' and aim_species == 'arabiensis' and year==2016\",\n",
    "              'Pala_col_2012': \"location == 'Pala' and aim_species == 'coluzzii' and year==2012\",\n",
    "              'Pala_gam_2012': \"location == 'Pala' and aim_species == 'gambiae' and year==2012\",\n",
    "              'Pala_gam_2014': \"location == 'Pala' and aim_species == 'gambiae' and year==2014\",\n",
    "              'Pala_gam_2015': \"location == 'Pala' and aim_species == 'gambiae' and year==2015\",\n",
    "              'Pala_gam_2016': \"location == 'Pala' and aim_species == 'gambiae' and year==2016\",\n",
    "              'Pala_gam_2017': \"location == 'Pala' and aim_species == 'gambiae' and year==2017\",\n",
    "              'Pala_int_2017': \"location == 'Pala' and aim_species == 'intermediate_gambiae_coluzzii' and year==2017\",\n",
    "              'Sour_ara_2017': \"location == 'Souroukoudinga' and aim_species == 'arabiensis' and year==2017\",\n",
    "              'Sour_col_2012': \"location == 'Souroukoudinga' and aim_species == 'coluzzii' and year==2012\",\n",
    "              'Sour_col_2014': \"location == 'Souroukoudinga' and aim_species == 'coluzzii' and year==2014\",\n",
    "              'Sour_col_2015': \"location == 'Souroukoudinga' and aim_species == 'coluzzii' and year==2015\",\n",
    "              'Sour_col_2016': \"location == 'Souroukoudinga' and aim_species == 'coluzzii' and year==2016\",\n",
    "              'Sour_col_2017': \"location == 'Souroukoudinga' and aim_species == 'coluzzii' and year==2017\",\n",
    "              'Sour_gam_2012': \"location == 'Souroukoudinga' and aim_species == 'gambiae' and year==2012\",\n",
    "              'Sour_gam_2014': \"location == 'Souroukoudinga' and aim_species == 'gambiae' and year==2014\",\n",
    "              'Sour_gam_2015': \"location == 'Souroukoudinga' and aim_species == 'gambiae' and year==2015\",\n",
    "              'Sour_gam_2016': \"location == 'Souroukoudinga' and aim_species == 'gambiae' and year==2016\"}\n",
    "              \n",
    "query_sp = {'Bana_ara': \"location == ['Bana Market', 'Bana Village'] and aim_species == 'arabiensis'\",\n",
    "            'Bana_col': \"location == ['Bana Market', 'Bana Village'] and aim_species == 'coluzzii'\",\n",
    "            'Bana_gam': \"location == ['Bana Market', 'Bana Village'] and aim_species == 'gambiae'\",\n",
    "            'Bana_int': \"location == ['Bana Market', 'Bana Village'] and aim_species == 'intermediate_gambiae_coluzzii'\",\n",
    "            'Mono_gam': \"location == 'Monomtenga' and aim_species == 'gambiae'\",\n",
    "            'Pala_ara': \"location == 'Pala' and aim_species == 'arabiensis'\",\n",
    "            'Pala_col': \"location == 'Pala' and aim_species == 'coluzzii'\",\n",
    "            'Pala_gam': \"location == 'Pala' and aim_species == 'gambiae'\",\n",
    "            'Pala_int': \"location == 'Pala' and aim_species == 'intermediate_gambiae_coluzzii'\",\n",
    "            'Sour_ara': \"location == 'Souroukoudinga' and aim_species == 'arabiensis'\",\n",
    "            'Sour_col': \"location == 'Souroukoudinga' and aim_species == 'coluzzii'\",\n",
    "            'Sour_gam': \"location == 'Souroukoudinga' and aim_species == 'gambiae'\"\n",
    "            }\n",
    "\n",
    "pops1 = ['Bana_col_2012','Bana_col_2014','Bana_col_2015','Bana_col_2016','Bana_col_2017',\n",
    "       'Bana_gam_2012','Bana_gam_2014','Bana_gam_2015','Bana_gam_2016','Mono_gam_2004',\n",
    "       'Pala_ara_2014','Pala_ara_2015','Pala_ara_2016','Pala_col_2012','Pala_gam_2012',\n",
    "       'Pala_gam_2014','Pala_gam_2015','Pala_gam_2016','Pala_gam_2017','Sour_col_2012',\n",
    "       'Sour_col_2014','Sour_col_2015','Sour_col_2016','Sour_col_2017','Sour_gam_2012',\n",
    "       'Sour_gam_2014','Sour_gam_2015','Sour_gam_2016']\n",
    "\n",
    "pops = ['Bana_col', 'Bana_gam', 'Mono_gam', 'Pala_ara', 'Pala_col', 'Pala_gam', 'Sour_col', 'Sour_gam']"
   ]
  },
  {
   "cell_type": "code",
   "execution_count": null,
   "metadata": {
    "id": "MiCm6Da2kK9-"
   },
   "outputs": [],
   "source": [
    "@functools.lru_cache(maxsize=None)\n",
    "def compute_stats(contig, sample_query, sample_sets=sets):\n",
    "  # access genotypes\n",
    "  ds_geno = ag3.snp_calls(region=contig, sample_query=sample_query, sample_sets=sample_sets)\n",
    "  #count alleles and load into memory\n",
    "  filt = 'gamb_colu_arab' \n",
    "  filt_val = ds_geno[f\"variant_filter_pass_{filt}\"].values \n",
    "  pos = ds_geno[\"variant_position\"][filt_val].values\n",
    "  gt_filtered = allel.GenotypeDaskArray(ds_geno[\"call_genotype\"][filt_val].data)\n",
    "    \n",
    "  # count alleles and load into memory\n",
    "  with TqdmCallback(desc=\"Count max alleles\"):\n",
    "    ac = gt_filtered.count_alleles(max_allele=3).compute()\n",
    "  # compute SNPs  \n",
    "  n_seg = ac.count_segregating() \n",
    "  n_var = ac.count_variant()\n",
    "  n_biallelic = ac.is_biallelic().sum()\n",
    "  n_multiallelic = ac.count_segregating() - ac.is_biallelic().sum()\n",
    "  tx_multiallelic = 100*(ac.count_segregating() - ac.is_biallelic().sum())/ac.count_segregating()\n",
    "  \n",
    "  # diversity stats\n",
    "  nuc_div = allel.sequence_diversity(pos, ac)\n",
    "  tajima_d = allel.tajima_d(ac, pos)\n",
    "  w_theta = allel.watterson_theta(pos, ac)\n",
    "\n",
    "  # list of stats \n",
    "  SNPs_list = [n_seg, n_var, n_biallelic, n_multiallelic, tx_multiallelic]\n",
    "  div_stat = [nuc_div, tajima_d, w_theta]\n",
    "\n",
    "  return pos, SNPs_list, div_stat\n"
   ]
  },
  {
   "cell_type": "code",
   "execution_count": null,
   "metadata": {
    "id": "3qEIXiHtblhj"
   },
   "outputs": [],
   "source": [
    "## compute div stats by pop - village - year\n",
    "pos_, div, nb_snps = {}, {}, {}\n",
    "for key in pops1:\n",
    "  pos_[key], nb_snps[key], div[key] = compute_stats(contig='2L', sample_query=f'{query_year[key]}')"
   ]
  },
  {
   "cell_type": "code",
   "execution_count": null,
   "metadata": {
    "id": "w-keWh7G5Np4"
   },
   "outputs": [],
   "source": [
    "## compute div stats by pop - village\n",
    "#pos_X1, div1, nb_snps1 = {}, {}, {}\n",
    "#for key in pops:\n",
    "#  pos_X1[key], div1[key], nb_snps1[key] = compute_sfs(contig='X', sample_query=f'{query_sp[key]}')"
   ]
  },
  {
   "cell_type": "code",
   "execution_count": null,
   "metadata": {
    "id": "aasZFw4Dw1eM"
   },
   "outputs": [],
   "source": [
    "## Save data sfs \n",
    "np.save('drive/MyDrive/Genomic/diversity_stats/2L_nb_snps.npy', nb_snps)\n",
    "np.save('drive/MyDrive/Genomic/diversity_stats/2L_div.npy', div)\n",
    "\n"
   ]
  },
  {
   "cell_type": "code",
   "execution_count": null,
   "metadata": {
    "id": "mgGdVDnKyjgF"
   },
   "outputs": [],
   "source": [
    "## load div stats data \n",
    "nb_snps_load = np.load('drive/MyDrive/Genomic/diversity_stats/2L_nb_snps.npy', allow_pickle='TRUE').item()\n",
    "div_load = np.load('drive/MyDrive/Genomic/diversity_stats/2L_div.npy', allow_pickle='TRUE').item()"
   ]
  },
  {
   "cell_type": "code",
   "execution_count": null,
   "metadata": {
    "id": "In0Kav3y6iZA"
   },
   "outputs": [],
   "source": []
  },
  {
   "cell_type": "code",
   "execution_count": null,
   "metadata": {
    "id": "gcRaehu26iWG"
   },
   "outputs": [],
   "source": []
  }
 ],
 "metadata": {
  "colab": {
   "authorship_tag": "ABX9TyNCd0Nig2fm5oXCIOLBM2nP",
   "collapsed_sections": [],
   "provenance": [
    {
     "file_id": "13y-8fqXI5ZHtwmCsXFS_Ga0c2V1mxOSe",
     "timestamp": 1649238389824
    },
    {
     "file_id": "19amoJl5xCzxYHZFyXe4adndUxP2oVVJQ",
     "timestamp": 1647513732037
    },
    {
     "file_id": "1D8TW3w9XCWXgic9XhpRB536XOzpTp4tT",
     "timestamp": 1647513242536
    }
   ]
  },
  "kernelspec": {
   "display_name": "Python 3 (ipykernel)",
   "language": "python",
   "name": "python3"
  },
  "language_info": {
   "codemirror_mode": {
    "name": "ipython",
    "version": 3
   },
   "file_extension": ".py",
   "mimetype": "text/x-python",
   "name": "python",
   "nbconvert_exporter": "python",
   "pygments_lexer": "ipython3",
   "version": "3.12.3"
  },
  "widgets": {
   "application/vnd.jupyter.widget-state+json": {
    "045d987222b242b0a2279bba92cbe06e": {
     "model_module": "@jupyter-widgets/controls",
     "model_module_version": "1.5.0",
     "model_name": "DescriptionStyleModel",
     "state": {
      "_model_module": "@jupyter-widgets/controls",
      "_model_module_version": "1.5.0",
      "_model_name": "DescriptionStyleModel",
      "_view_count": null,
      "_view_module": "@jupyter-widgets/base",
      "_view_module_version": "1.2.0",
      "_view_name": "StyleView",
      "description_width": ""
     }
    },
    "0ffa3685eebc4ce292212721365e1fe4": {
     "model_module": "@jupyter-widgets/base",
     "model_module_version": "1.2.0",
     "model_name": "LayoutModel",
     "state": {
      "_model_module": "@jupyter-widgets/base",
      "_model_module_version": "1.2.0",
      "_model_name": "LayoutModel",
      "_view_count": null,
      "_view_module": "@jupyter-widgets/base",
      "_view_module_version": "1.2.0",
      "_view_name": "LayoutView",
      "align_content": null,
      "align_items": null,
      "align_self": null,
      "border": null,
      "bottom": null,
      "display": null,
      "flex": null,
      "flex_flow": null,
      "grid_area": null,
      "grid_auto_columns": null,
      "grid_auto_flow": null,
      "grid_auto_rows": null,
      "grid_column": null,
      "grid_gap": null,
      "grid_row": null,
      "grid_template_areas": null,
      "grid_template_columns": null,
      "grid_template_rows": null,
      "height": null,
      "justify_content": null,
      "justify_items": null,
      "left": null,
      "margin": null,
      "max_height": null,
      "max_width": null,
      "min_height": null,
      "min_width": null,
      "object_fit": null,
      "object_position": null,
      "order": null,
      "overflow": null,
      "overflow_x": null,
      "overflow_y": null,
      "padding": null,
      "right": null,
      "top": null,
      "visibility": null,
      "width": null
     }
    },
    "1e84093d08884640a2d4e7c5ebcfc90c": {
     "model_module": "@jupyter-widgets/controls",
     "model_module_version": "1.5.0",
     "model_name": "HBoxModel",
     "state": {
      "_dom_classes": [],
      "_model_module": "@jupyter-widgets/controls",
      "_model_module_version": "1.5.0",
      "_model_name": "HBoxModel",
      "_view_count": null,
      "_view_module": "@jupyter-widgets/controls",
      "_view_module_version": "1.5.0",
      "_view_name": "HBoxView",
      "box_style": "",
      "children": [
       "IPY_MODEL_e8368aaa69274d9fae3d44c908e6db49",
       "IPY_MODEL_fa541b1fb28b4f51a024136dc1f22ffa",
       "IPY_MODEL_95f36eb4da2c40888c9c423edce4f90a"
      ],
      "layout": "IPY_MODEL_c0bec8a8b6834e568216e889d16ff391"
     }
    },
    "29f66dc8eff845329706515335eaad65": {
     "model_module": "@jupyter-widgets/controls",
     "model_module_version": "1.5.0",
     "model_name": "ProgressStyleModel",
     "state": {
      "_model_module": "@jupyter-widgets/controls",
      "_model_module_version": "1.5.0",
      "_model_name": "ProgressStyleModel",
      "_view_count": null,
      "_view_module": "@jupyter-widgets/base",
      "_view_module_version": "1.2.0",
      "_view_name": "StyleView",
      "bar_color": null,
      "description_width": ""
     }
    },
    "95f36eb4da2c40888c9c423edce4f90a": {
     "model_module": "@jupyter-widgets/controls",
     "model_module_version": "1.5.0",
     "model_name": "HTMLModel",
     "state": {
      "_dom_classes": [],
      "_model_module": "@jupyter-widgets/controls",
      "_model_module_version": "1.5.0",
      "_model_name": "HTMLModel",
      "_view_count": null,
      "_view_module": "@jupyter-widgets/controls",
      "_view_module_version": "1.5.0",
      "_view_name": "HTMLView",
      "description": "",
      "description_tooltip": null,
      "layout": "IPY_MODEL_fd142bb41d534292b572ba900ec6ee5a",
      "placeholder": "​",
      "style": "IPY_MODEL_045d987222b242b0a2279bba92cbe06e",
      "value": " 5/5 [00:02&lt;00:00,  3.12it/s]"
     }
    },
    "9dafa0e78c1e4c978af21b726c429e12": {
     "model_module": "@jupyter-widgets/base",
     "model_module_version": "1.2.0",
     "model_name": "LayoutModel",
     "state": {
      "_model_module": "@jupyter-widgets/base",
      "_model_module_version": "1.2.0",
      "_model_name": "LayoutModel",
      "_view_count": null,
      "_view_module": "@jupyter-widgets/base",
      "_view_module_version": "1.2.0",
      "_view_name": "LayoutView",
      "align_content": null,
      "align_items": null,
      "align_self": null,
      "border": null,
      "bottom": null,
      "display": null,
      "flex": null,
      "flex_flow": null,
      "grid_area": null,
      "grid_auto_columns": null,
      "grid_auto_flow": null,
      "grid_auto_rows": null,
      "grid_column": null,
      "grid_gap": null,
      "grid_row": null,
      "grid_template_areas": null,
      "grid_template_columns": null,
      "grid_template_rows": null,
      "height": null,
      "justify_content": null,
      "justify_items": null,
      "left": null,
      "margin": null,
      "max_height": null,
      "max_width": null,
      "min_height": null,
      "min_width": null,
      "object_fit": null,
      "object_position": null,
      "order": null,
      "overflow": null,
      "overflow_x": null,
      "overflow_y": null,
      "padding": null,
      "right": null,
      "top": null,
      "visibility": null,
      "width": null
     }
    },
    "c0bec8a8b6834e568216e889d16ff391": {
     "model_module": "@jupyter-widgets/base",
     "model_module_version": "1.2.0",
     "model_name": "LayoutModel",
     "state": {
      "_model_module": "@jupyter-widgets/base",
      "_model_module_version": "1.2.0",
      "_model_name": "LayoutModel",
      "_view_count": null,
      "_view_module": "@jupyter-widgets/base",
      "_view_module_version": "1.2.0",
      "_view_name": "LayoutView",
      "align_content": null,
      "align_items": null,
      "align_self": null,
      "border": null,
      "bottom": null,
      "display": null,
      "flex": null,
      "flex_flow": null,
      "grid_area": null,
      "grid_auto_columns": null,
      "grid_auto_flow": null,
      "grid_auto_rows": null,
      "grid_column": null,
      "grid_gap": null,
      "grid_row": null,
      "grid_template_areas": null,
      "grid_template_columns": null,
      "grid_template_rows": null,
      "height": null,
      "justify_content": null,
      "justify_items": null,
      "left": null,
      "margin": null,
      "max_height": null,
      "max_width": null,
      "min_height": null,
      "min_width": null,
      "object_fit": null,
      "object_position": null,
      "order": null,
      "overflow": null,
      "overflow_x": null,
      "overflow_y": null,
      "padding": null,
      "right": null,
      "top": null,
      "visibility": null,
      "width": null
     }
    },
    "da792b203d6749dfbb9f93612eb49168": {
     "model_module": "@jupyter-widgets/controls",
     "model_module_version": "1.5.0",
     "model_name": "DescriptionStyleModel",
     "state": {
      "_model_module": "@jupyter-widgets/controls",
      "_model_module_version": "1.5.0",
      "_model_name": "DescriptionStyleModel",
      "_view_count": null,
      "_view_module": "@jupyter-widgets/base",
      "_view_module_version": "1.2.0",
      "_view_name": "StyleView",
      "description_width": ""
     }
    },
    "e8368aaa69274d9fae3d44c908e6db49": {
     "model_module": "@jupyter-widgets/controls",
     "model_module_version": "1.5.0",
     "model_name": "HTMLModel",
     "state": {
      "_dom_classes": [],
      "_model_module": "@jupyter-widgets/controls",
      "_model_module_version": "1.5.0",
      "_model_name": "HTMLModel",
      "_view_count": null,
      "_view_module": "@jupyter-widgets/controls",
      "_view_module_version": "1.5.0",
      "_view_name": "HTMLView",
      "description": "",
      "description_tooltip": null,
      "layout": "IPY_MODEL_9dafa0e78c1e4c978af21b726c429e12",
      "placeholder": "​",
      "style": "IPY_MODEL_da792b203d6749dfbb9f93612eb49168",
      "value": "Load sample metadata: 100%"
     }
    },
    "fa541b1fb28b4f51a024136dc1f22ffa": {
     "model_module": "@jupyter-widgets/controls",
     "model_module_version": "1.5.0",
     "model_name": "FloatProgressModel",
     "state": {
      "_dom_classes": [],
      "_model_module": "@jupyter-widgets/controls",
      "_model_module_version": "1.5.0",
      "_model_name": "FloatProgressModel",
      "_view_count": null,
      "_view_module": "@jupyter-widgets/controls",
      "_view_module_version": "1.5.0",
      "_view_name": "ProgressView",
      "bar_style": "success",
      "description": "",
      "description_tooltip": null,
      "layout": "IPY_MODEL_0ffa3685eebc4ce292212721365e1fe4",
      "max": 5,
      "min": 0,
      "orientation": "horizontal",
      "style": "IPY_MODEL_29f66dc8eff845329706515335eaad65",
      "value": 5
     }
    },
    "fd142bb41d534292b572ba900ec6ee5a": {
     "model_module": "@jupyter-widgets/base",
     "model_module_version": "1.2.0",
     "model_name": "LayoutModel",
     "state": {
      "_model_module": "@jupyter-widgets/base",
      "_model_module_version": "1.2.0",
      "_model_name": "LayoutModel",
      "_view_count": null,
      "_view_module": "@jupyter-widgets/base",
      "_view_module_version": "1.2.0",
      "_view_name": "LayoutView",
      "align_content": null,
      "align_items": null,
      "align_self": null,
      "border": null,
      "bottom": null,
      "display": null,
      "flex": null,
      "flex_flow": null,
      "grid_area": null,
      "grid_auto_columns": null,
      "grid_auto_flow": null,
      "grid_auto_rows": null,
      "grid_column": null,
      "grid_gap": null,
      "grid_row": null,
      "grid_template_areas": null,
      "grid_template_columns": null,
      "grid_template_rows": null,
      "height": null,
      "justify_content": null,
      "justify_items": null,
      "left": null,
      "margin": null,
      "max_height": null,
      "max_width": null,
      "min_height": null,
      "min_width": null,
      "object_fit": null,
      "object_position": null,
      "order": null,
      "overflow": null,
      "overflow_x": null,
      "overflow_y": null,
      "padding": null,
      "right": null,
      "top": null,
      "visibility": null,
      "width": null
     }
    }
   }
  }
 },
 "nbformat": 4,
 "nbformat_minor": 4
}
