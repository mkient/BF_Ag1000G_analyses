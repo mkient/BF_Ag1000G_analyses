{
 "cells": [
  {
   "cell_type": "markdown",
   "metadata": {
    "id": "3UrQMDiTXghY"
   },
   "source": [
    "# Number of SNPs"
   ]
  },
  {
   "cell_type": "code",
   "execution_count": null,
   "metadata": {
    "colab": {
     "base_uri": "https://localhost:8080/"
    },
    "executionInfo": {
     "elapsed": 36602,
     "status": "ok",
     "timestamp": 1667842129629,
     "user": {
      "displayName": "Mahamadi Kientega",
      "userId": "09005529550051576731"
     },
     "user_tz": 0
    },
    "id": "_r-bZjefXM7e",
    "outputId": "d41136b2-18a1-4ca5-b517-db4501605956"
   },
   "outputs": [
    {
     "name": "stdout",
     "output_type": "stream",
     "text": [
      "\u001b[K     |████████████████████████████████| 100 kB 3.0 MB/s \n",
      "\u001b[K     |████████████████████████████████| 3.7 MB 21.3 MB/s \n",
      "\u001b[K     |████████████████████████████████| 301 kB 50.9 MB/s \n",
      "\u001b[K     |████████████████████████████████| 9.9 MB 33.6 MB/s \n",
      "\u001b[K     |████████████████████████████████| 2.6 MB 23.6 MB/s \n",
      "\u001b[K     |████████████████████████████████| 3.6 MB 24.7 MB/s \n",
      "\u001b[K     |████████████████████████████████| 185 kB 49.2 MB/s \n",
      "\u001b[K     |████████████████████████████████| 5.7 MB 14.6 MB/s \n",
      "\u001b[K     |████████████████████████████████| 55 kB 713 kB/s \n",
      "\u001b[K     |████████████████████████████████| 1.6 MB 12.1 MB/s \n",
      "\u001b[K     |████████████████████████████████| 6.6 MB 7.2 MB/s \n",
      "\u001b[?25h  Building wheel for retrying (setup.py) ... \u001b[?25l\u001b[?25hdone\n",
      "  Building wheel for asciitree (setup.py) ... \u001b[?25l\u001b[?25hdone\n"
     ]
    }
   ],
   "source": [
    "!pip install -q malariagen_data\n",
    "!pip install -q scikit-allel"
   ]
  },
  {
   "cell_type": "markdown",
   "metadata": {
    "id": "SgxvcSHGX0eW"
   },
   "source": [
    "### importing necessary package"
   ]
  },
  {
   "cell_type": "code",
   "execution_count": null,
   "metadata": {
    "id": "ECFgL8yDXakn"
   },
   "outputs": [],
   "source": [
    "import allel\n",
    "import malariagen_data\n",
    "import numpy as np\n",
    "import pandas as pd\n",
    "import dask\n",
    "import dask.array as da\n",
    "# silence some dask warnings\n",
    "dask.config.set(**{'array.slicing.split_large_chunks': True})\n",
    "from dask.diagnostics.progress import ProgressBar"
   ]
  },
  {
   "cell_type": "code",
   "execution_count": null,
   "metadata": {
    "id": "nVFl0IwmU2m5"
   },
   "outputs": [],
   "source": [
    "#import random\n",
    "from collections import Counter\n",
    "from tqdm.dask import TqdmCallback\n",
    "from tqdm.auto import tqdm\n",
    "import functools\n"
   ]
  },
  {
   "cell_type": "code",
   "execution_count": null,
   "metadata": {
    "id": "77zlahrtl8fp"
   },
   "outputs": [],
   "source": [
    "# plotting setup\n",
    "import matplotlib as mpl\n",
    "import matplotlib.pyplot as plt\n",
    "from matplotlib.colors import ListedColormap\n",
    "from matplotlib.gridspec import GridSpec\n",
    "import matplotlib_venn as venn\n",
    "import seaborn as sns"
   ]
  },
  {
   "cell_type": "code",
   "execution_count": null,
   "metadata": {
    "colab": {
     "base_uri": "https://localhost:8080/"
    },
    "executionInfo": {
     "elapsed": 142740,
     "status": "ok",
     "timestamp": 1667842277507,
     "user": {
      "displayName": "Mahamadi Kientega",
      "userId": "09005529550051576731"
     },
     "user_tz": 0
    },
    "id": "Ab5ffhWQ21BI",
    "outputId": "c3154293-4871-4e07-ed9f-c7aa02fc22dc"
   },
   "outputs": [
    {
     "name": "stdout",
     "output_type": "stream",
     "text": [
      "Mounted at drive\n"
     ]
    }
   ],
   "source": [
    "#Mounting Google Drive\n",
    "import os\n",
    "from google.colab import drive\n",
    "drive.mount(\"drive\")\n",
    "\n",
    "# make dir \n",
    "results_dir = \"drive/MyDrive/\"\n",
    "os.makedirs(results_dir, exist_ok=True)"
   ]
  },
  {
   "cell_type": "markdown",
   "metadata": {
    "id": "S-MllSLqYD9J"
   },
   "source": [
    "Importing malariagen data set"
   ]
  },
  {
   "cell_type": "code",
   "execution_count": null,
   "metadata": {
    "colab": {
     "base_uri": "https://localhost:8080/",
     "height": 49,
     "referenced_widgets": [
      "656ceea655434bc594900219283edbcc",
      "9b64d5ccc8614e8fb1cf3abb6e2c0886",
      "1b81eb0aa6694e94b139352523561597",
      "9eeb95f3f8194ac2ac014c6565de12b6",
      "378eb40360294080b9fa2cfee6987a79",
      "bf2663f0efaf4705b8a784f2876f2580",
      "711b2304d516471ba5554bc10907d5c7",
      "c4e1e9cb70384eab9602b3ca38661539",
      "49a09c8775a240e0b77f3c84c2a76b2c",
      "d6c9d2a82f244b4a8a5a08fd1b5d2750",
      "05eb37b19b5e4c11929c0ad72919cdec"
     ]
    },
    "executionInfo": {
     "elapsed": 3521,
     "status": "ok",
     "timestamp": 1667842281021,
     "user": {
      "displayName": "Mahamadi Kientega",
      "userId": "09005529550051576731"
     },
     "user_tz": 0
    },
    "id": "KJXtu7dJXanP",
    "outputId": "5be4c853-e472-4698-a953-4b824ca8de71"
   },
   "outputs": [
    {
     "data": {
      "application/vnd.jupyter.widget-view+json": {
       "model_id": "656ceea655434bc594900219283edbcc",
       "version_major": 2,
       "version_minor": 0
      },
      "text/plain": [
       "Load sample metadata:   0%|          | 0/5 [00:00<?, ?it/s]"
      ]
     },
     "metadata": {},
     "output_type": "display_data"
    }
   ],
   "source": [
    "ag3 = malariagen_data.Ag3()\n",
    "#ag3\n",
    "\n",
    "#samples sets\n",
    "sets = [\"1191-VO-MULTI-OLOUGHLIN-VMF00106\", \"1191-VO-MULTI-OLOUGHLIN-VMF00140\", \n",
    "        \"AG1000G-BF-A\", \"AG1000G-BF-B\", \"AG1000G-BF-C\"]\n",
    "df_samples = ag3.sample_metadata(sample_sets=sets)#.set_index(\"sample_id\")\n",
    "bf_samples = df_samples.query('country == \"Burkina Faso\"')\n",
    "#bf_samples.groupby(['location', 'aim_species']).size()"
   ]
  },
  {
   "cell_type": "markdown",
   "metadata": {
    "id": "OXyiqrJTYWE8"
   },
   "source": [
    "Let's select the the sample set from "
   ]
  },
  {
   "cell_type": "code",
   "execution_count": null,
   "metadata": {
    "id": "BFTWJ7ILXaqJ"
   },
   "outputs": [],
   "source": [
    "from collections import Counter\n",
    "\n",
    "#Create population column \n",
    "bf_samples = df_samples.query('country == \"Burkina Faso\"')\n",
    "s1, s2, s3, y,  pop_labels, pop_colors, pop_labels_year, pop_colors_year = [], [], [],[], {}, {}, {}, {}\n",
    "for iso, species in zip(bf_samples.location, bf_samples.aim_species):\n",
    "    s1.append(iso[:4]+'_'+species[:3])\n",
    "bf_samples.insert(4, 'population', s1)\n",
    "bf_samples_sel = pd.concat([bf_samples, bf_samples])\n",
    "pop_ids = list(bf_samples.population.unique())\n",
    "\n",
    "# Pop_year \n",
    "for pop, year in zip(bf_samples.population, bf_samples.year):\n",
    "    y.append(pop+'_'+str(year))\n",
    "bf_samples.insert(5, 'pop_year', y)\n",
    "pop_year = list(bf_samples.pop_year.unique())\n",
    "\n",
    "#pop_id\n",
    "for idx, species in zip(bf_samples.location, bf_samples.aim_species):\n",
    "  w = idx.split(' ')[0][:14]\n",
    "  s2.append(w+' $An.'+species)\n",
    "val = list(Counter(s2).keys())\n",
    "for idx, vl in zip(pop_ids, val):\n",
    "    pop_labels[idx]=vl\n",
    "pop_labels\n",
    "\n",
    "for idx, species, year in zip(bf_samples.location, bf_samples.aim_species, bf_samples.year):\n",
    "  w = idx.split(' ')[0][:14]\n",
    "  s3.append(w+' $An.'+species+' ('+f'{year}' +')')\n",
    "val2 = list(Counter(s3).keys())\n",
    "for idx, vl in zip(pop_year, val2):\n",
    "    pop_labels_year[idx]=vl\n",
    "pop_labels_year\n",
    "\n",
    "#pop_labels\n",
    "colored = sns.color_palette(\"husl\", len(pop_ids))\n",
    "for i in range(len(pop_ids)):\n",
    "    pop_colors[pop_ids[i]] = colored[i]\n",
    "\n",
    "colored2 = sns.color_palette(\"husl\", len(pop_year))\n",
    "for i in range(len(pop_year)):\n",
    "    pop_colors_year[pop_year[i]] = colored2[i]\n",
    "\n",
    "#pop_cohort\n",
    "coh_pop = dict([(f\"{p}\", list(df.index)) for (p), df in bf_samples.reset_index().groupby(['population'])])\n",
    "\n",
    "#remove some populations \n",
    "pop_rm = ['Bana_ara', 'Bana_int', 'Sour_ara']\n",
    "del s1, s2, s3, y, val, val2, colored, colored2"
   ]
  },
  {
   "cell_type": "code",
   "execution_count": null,
   "metadata": {
    "id": "YQdJAYofr_dk"
   },
   "outputs": [],
   "source": [
    "query_year = {'Bana_ara_2014': \"location == ['Bana Market', 'Bana Village'] and aim_species == 'arabiensis' and year==2014\",\n",
    "              'Bana_col_2012': \"location == ['Bana Market', 'Bana Village'] and aim_species == 'coluzzii' and year==2012\",\n",
    "              'Bana_col_2014': \"location == ['Bana Market', 'Bana Village'] and aim_species == 'coluzzii' and year==2014\",\n",
    "              'Bana_col_2015': \"location == ['Bana Market', 'Bana Village'] and aim_species == 'coluzzii' and year==2015\",\n",
    "              'Bana_col_2016': \"location == ['Bana Market', 'Bana Village'] and aim_species == 'coluzzii' and year==2016\",\n",
    "              'Bana_col_2017': \"location == ['Bana Market', 'Bana Village'] and aim_species == 'coluzzii' and year==2012\",\n",
    "              'Bana_gam_2012': \"location == ['Bana Market', 'Bana Village'] and aim_species == 'gambiae' and year==2012\",\n",
    "              'Bana_gam_2014': \"location == ['Bana Market', 'Bana Village'] and aim_species == 'gambiae' and year==2014\",\n",
    "              'Bana_gam_2015': \"location == ['Bana Market', 'Bana Village'] and aim_species == 'gambiae' and year==2015\", \n",
    "              'Bana_gam_2016': \"location == ['Bana Market', 'Bana Village'] and aim_species == 'gambiae' and year==2016\",\n",
    "              'Bana_int_2012': \"location == ['Bana Market', 'Bana Village'] and aim_species == 'intermediate_gambiae_coluzzii' and year==2012\",\n",
    "              'Mono_gam_2004': \"location == 'Monomtenga' and aim_species == 'gambiae' and year==2004\",\n",
    "              'Pala_ara_2014': \"location == 'Pala' and aim_species == 'arabiensis' and year==2014\",\n",
    "              'Pala_ara_2015': \"location == 'Pala' and aim_species == 'arabiensis' and year==2015\",\n",
    "              'Pala_ara_2016': \"location == 'Pala' and aim_species == 'arabiensis' and year==2016\",\n",
    "              'Pala_col_2012': \"location == 'Pala' and aim_species == 'coluzzii' and year==2012\",\n",
    "              'Pala_gam_2012': \"location == 'Pala' and aim_species == 'gambiae' and year==2012\",\n",
    "              'Pala_gam_2014': \"location == 'Pala' and aim_species == 'gambiae' and year==2014\",\n",
    "              'Pala_gam_2015': \"location == 'Pala' and aim_species == 'gambiae' and year==2015\",\n",
    "              'Pala_gam_2016': \"location == 'Pala' and aim_species == 'gambiae' and year==2016\",\n",
    "              'Pala_gam_2017': \"location == 'Pala' and aim_species == 'gambiae' and year==2017\",\n",
    "              'Pala_int_2017': \"location == 'Pala' and aim_species == 'intermediate_gambiae_coluzzii' and year==2017\",\n",
    "              'Sour_ara_2017': \"location == 'Souroukoudinga' and aim_species == 'arabiensis' and year==2017\",\n",
    "              'Sour_col_2012': \"location == 'Souroukoudinga' and aim_species == 'coluzzii' and year==2012\",\n",
    "              'Sour_col_2014': \"location == 'Souroukoudinga' and aim_species == 'coluzzii' and year==2014\",\n",
    "              'Sour_col_2015': \"location == 'Souroukoudinga' and aim_species == 'coluzzii' and year==2015\",\n",
    "              'Sour_col_2016': \"location == 'Souroukoudinga' and aim_species == 'coluzzii' and year==2016\",\n",
    "              'Sour_col_2017': \"location == 'Souroukoudinga' and aim_species == 'coluzzii' and year==2017\",\n",
    "              'Sour_gam_2012': \"location == 'Souroukoudinga' and aim_species == 'gambiae' and year==2012\",\n",
    "              'Sour_gam_2014': \"location == 'Souroukoudinga' and aim_species == 'gambiae' and year==2014\",\n",
    "              'Sour_gam_2015': \"location == 'Souroukoudinga' and aim_species == 'gambiae' and year==2015\",\n",
    "              'Sour_gam_2016': \"location == 'Souroukoudinga' and aim_species == 'gambiae' and year==2016\"}\n",
    "              \n",
    "query_sp = {'Bana_ara': \"location == ['Bana Market', 'Bana Village'] and aim_species == 'arabiensis'\",\n",
    "            'Bana_col': \"location == ['Bana Market', 'Bana Village'] and aim_species == 'coluzzii'\",\n",
    "            'Bana_gam': \"location == ['Bana Market', 'Bana Village'] and aim_species == 'gambiae'\",\n",
    "            'Bana_int': \"location == ['Bana Market', 'Bana Village'] and aim_species == 'intermediate_gambiae_coluzzii'\",\n",
    "            'Mono_gam': \"location == 'Monomtenga' and aim_species == 'gambiae'\",\n",
    "            'Pala_ara': \"location == 'Pala' and aim_species == 'arabiensis'\",\n",
    "            'Pala_col': \"location == 'Pala' and aim_species == 'coluzzii'\",\n",
    "            'Pala_gam': \"location == 'Pala' and aim_species == 'gambiae'\",\n",
    "            'Pala_int': \"location == 'Pala' and aim_species == 'intermediate_gambiae_coluzzii'\",\n",
    "            'Sour_ara': \"location == 'Souroukoudinga' and aim_species == 'arabiensis'\",\n",
    "            'Sour_col': \"location == 'Souroukoudinga' and aim_species == 'coluzzii'\",\n",
    "            'Sour_gam': \"location == 'Souroukoudinga' and aim_species == 'gambiae'\"\n",
    "            }\n",
    "\n",
    "pops1 = ['Bana_col_2012','Bana_col_2014','Bana_col_2015','Bana_col_2016','Bana_col_2017',\n",
    "       'Bana_gam_2012','Bana_gam_2014','Bana_gam_2015','Bana_gam_2016','Mono_gam_2004',\n",
    "       'Pala_ara_2014','Pala_ara_2015','Pala_ara_2016','Pala_col_2012','Pala_gam_2012',\n",
    "       'Pala_gam_2014','Pala_gam_2015','Pala_gam_2016','Pala_gam_2017','Sour_col_2012',\n",
    "       'Sour_col_2014','Sour_col_2015','Sour_col_2016','Sour_col_2017','Sour_gam_2012',\n",
    "       'Sour_gam_2014','Sour_gam_2015','Sour_gam_2016']\n",
    "\n",
    "pops = ['Bana_col', 'Bana_gam', 'Mono_gam', 'Pala_ara', 'Pala_col', 'Pala_gam', 'Sour_col', 'Sour_gam']"
   ]
  },
  {
   "cell_type": "code",
   "execution_count": null,
   "metadata": {
    "id": "MiCm6Da2kK9-"
   },
   "outputs": [],
   "source": [
    "@functools.lru_cache(maxsize=None)\n",
    "def compute_stats(contig, sample_query, sample_sets=sets):\n",
    "  # access genotypes\n",
    "  ds_geno = ag3.snp_calls(region=contig, sample_query=sample_query, sample_sets=sample_sets)\n",
    "  #count alleles and load into memory\n",
    "  filt = 'gamb_colu_arab' \n",
    "  filt_val = ds_geno[f\"variant_filter_pass_{filt}\"].values \n",
    "  pos = ds_geno[\"variant_position\"][filt_val].values\n",
    "  gt_filtered = allel.GenotypeDaskArray(ds_geno[\"call_genotype\"][filt_val].data)\n",
    "    \n",
    "  # count alleles and load into memory\n",
    "  with TqdmCallback(desc=\"Count max alleles\"):\n",
    "    ac = gt_filtered.count_alleles(max_allele=3).compute()\n",
    "  # compute SNPs  \n",
    "  n_seg = ac.count_segregating() \n",
    "  n_var = ac.count_variant()\n",
    "  n_biallelic = ac.is_biallelic().sum()\n",
    "  n_multiallelic = ac.count_segregating() - ac.is_biallelic().sum()\n",
    "  tx_multiallelic = 100*(ac.count_segregating() - ac.is_biallelic().sum())/ac.count_segregating()\n",
    "  \n",
    "  # diversity stats\n",
    "  nuc_div = allel.sequence_diversity(pos, ac)\n",
    "  tajima_d = allel.tajima_d(ac, pos)\n",
    "  w_theta = allel.watterson_theta(pos, ac)\n",
    "\n",
    "  # list of stats \n",
    "  SNPs_list = [n_seg, n_var, n_biallelic, n_multiallelic, tx_multiallelic]\n",
    "  div_stat = [nuc_div, tajima_d, w_theta]\n",
    "\n",
    "  return pos, SNPs_list, div_stat\n"
   ]
  },
  {
   "cell_type": "code",
   "execution_count": null,
   "metadata": {
    "id": "3qEIXiHtblhj"
   },
   "outputs": [],
   "source": [
    "## compute div stats by pop - village - year\n",
    "pos_, div, nb_snps = {}, {}, {}\n",
    "for key in pops1:\n",
    "  pos_[key], nb_snps[key], div[key] = compute_stats(contig='2R', sample_query=f'{query_year[key]}')"
   ]
  },
  {
   "cell_type": "code",
   "execution_count": null,
   "metadata": {
    "id": "w-keWh7G5Np4"
   },
   "outputs": [],
   "source": [
    "## compute div stats by pop - village\n",
    "#pos_X1, div1, nb_snps1 = {}, {}, {}\n",
    "#for key in pops:\n",
    "#  pos_X1[key], div1[key], nb_snps1[key] = compute_sfs(contig='X', sample_query=f'{query_sp[key]}')"
   ]
  },
  {
   "cell_type": "code",
   "execution_count": null,
   "metadata": {
    "id": "aasZFw4Dw1eM"
   },
   "outputs": [],
   "source": [
    "## Save data snps \n",
    "np.save('drive/MyDrive/Genomic/diversity_stats/2R_nb_snps.npy', nb_snps)\n",
    "np.save('drive/MyDrive/Genomic/diversity_stats/2R_div.npy', div)\n"
   ]
  },
  {
   "cell_type": "code",
   "execution_count": null,
   "metadata": {
    "id": "mgGdVDnKyjgF"
   },
   "outputs": [],
   "source": [
    "## load div stats data \n",
    "nb_snps_load = np.load('drive/MyDrive/Genomic/diversity_stats/2R_nb_snps.npy', allow_pickle='TRUE').item()\n",
    "div_load = np.load('drive/MyDrive/Genomic/diversity_stats/2R_div.npy', allow_pickle='TRUE').item()"
   ]
  },
  {
   "cell_type": "code",
   "execution_count": null,
   "metadata": {
    "id": "In0Kav3y6iZA"
   },
   "outputs": [],
   "source": []
  },
  {
   "cell_type": "code",
   "execution_count": null,
   "metadata": {
    "id": "gcRaehu26iWG"
   },
   "outputs": [],
   "source": []
  },
  {
   "cell_type": "code",
   "execution_count": null,
   "metadata": {
    "id": "QFFwbcT6Gio5"
   },
   "outputs": [],
   "source": []
  }
 ],
 "metadata": {
  "colab": {
   "authorship_tag": "ABX9TyN6a9OP7AJsLV868M8ojLum",
   "provenance": [
    {
     "file_id": "13y-8fqXI5ZHtwmCsXFS_Ga0c2V1mxOSe",
     "timestamp": 1649238389824
    },
    {
     "file_id": "19amoJl5xCzxYHZFyXe4adndUxP2oVVJQ",
     "timestamp": 1647513732037
    },
    {
     "file_id": "1D8TW3w9XCWXgic9XhpRB536XOzpTp4tT",
     "timestamp": 1647513242536
    }
   ]
  },
  "kernelspec": {
   "display_name": "Python 3 (ipykernel)",
   "language": "python",
   "name": "python3"
  },
  "language_info": {
   "codemirror_mode": {
    "name": "ipython",
    "version": 3
   },
   "file_extension": ".py",
   "mimetype": "text/x-python",
   "name": "python",
   "nbconvert_exporter": "python",
   "pygments_lexer": "ipython3",
   "version": "3.12.3"
  },
  "widgets": {
   "application/vnd.jupyter.widget-state+json": {
    "05eb37b19b5e4c11929c0ad72919cdec": {
     "model_module": "@jupyter-widgets/controls",
     "model_module_version": "1.5.0",
     "model_name": "DescriptionStyleModel",
     "state": {
      "_model_module": "@jupyter-widgets/controls",
      "_model_module_version": "1.5.0",
      "_model_name": "DescriptionStyleModel",
      "_view_count": null,
      "_view_module": "@jupyter-widgets/base",
      "_view_module_version": "1.2.0",
      "_view_name": "StyleView",
      "description_width": ""
     }
    },
    "1b81eb0aa6694e94b139352523561597": {
     "model_module": "@jupyter-widgets/controls",
     "model_module_version": "1.5.0",
     "model_name": "FloatProgressModel",
     "state": {
      "_dom_classes": [],
      "_model_module": "@jupyter-widgets/controls",
      "_model_module_version": "1.5.0",
      "_model_name": "FloatProgressModel",
      "_view_count": null,
      "_view_module": "@jupyter-widgets/controls",
      "_view_module_version": "1.5.0",
      "_view_name": "ProgressView",
      "bar_style": "success",
      "description": "",
      "description_tooltip": null,
      "layout": "IPY_MODEL_c4e1e9cb70384eab9602b3ca38661539",
      "max": 5,
      "min": 0,
      "orientation": "horizontal",
      "style": "IPY_MODEL_49a09c8775a240e0b77f3c84c2a76b2c",
      "value": 5
     }
    },
    "378eb40360294080b9fa2cfee6987a79": {
     "model_module": "@jupyter-widgets/base",
     "model_module_version": "1.2.0",
     "model_name": "LayoutModel",
     "state": {
      "_model_module": "@jupyter-widgets/base",
      "_model_module_version": "1.2.0",
      "_model_name": "LayoutModel",
      "_view_count": null,
      "_view_module": "@jupyter-widgets/base",
      "_view_module_version": "1.2.0",
      "_view_name": "LayoutView",
      "align_content": null,
      "align_items": null,
      "align_self": null,
      "border": null,
      "bottom": null,
      "display": null,
      "flex": null,
      "flex_flow": null,
      "grid_area": null,
      "grid_auto_columns": null,
      "grid_auto_flow": null,
      "grid_auto_rows": null,
      "grid_column": null,
      "grid_gap": null,
      "grid_row": null,
      "grid_template_areas": null,
      "grid_template_columns": null,
      "grid_template_rows": null,
      "height": null,
      "justify_content": null,
      "justify_items": null,
      "left": null,
      "margin": null,
      "max_height": null,
      "max_width": null,
      "min_height": null,
      "min_width": null,
      "object_fit": null,
      "object_position": null,
      "order": null,
      "overflow": null,
      "overflow_x": null,
      "overflow_y": null,
      "padding": null,
      "right": null,
      "top": null,
      "visibility": null,
      "width": null
     }
    },
    "49a09c8775a240e0b77f3c84c2a76b2c": {
     "model_module": "@jupyter-widgets/controls",
     "model_module_version": "1.5.0",
     "model_name": "ProgressStyleModel",
     "state": {
      "_model_module": "@jupyter-widgets/controls",
      "_model_module_version": "1.5.0",
      "_model_name": "ProgressStyleModel",
      "_view_count": null,
      "_view_module": "@jupyter-widgets/base",
      "_view_module_version": "1.2.0",
      "_view_name": "StyleView",
      "bar_color": null,
      "description_width": ""
     }
    },
    "656ceea655434bc594900219283edbcc": {
     "model_module": "@jupyter-widgets/controls",
     "model_module_version": "1.5.0",
     "model_name": "HBoxModel",
     "state": {
      "_dom_classes": [],
      "_model_module": "@jupyter-widgets/controls",
      "_model_module_version": "1.5.0",
      "_model_name": "HBoxModel",
      "_view_count": null,
      "_view_module": "@jupyter-widgets/controls",
      "_view_module_version": "1.5.0",
      "_view_name": "HBoxView",
      "box_style": "",
      "children": [
       "IPY_MODEL_9b64d5ccc8614e8fb1cf3abb6e2c0886",
       "IPY_MODEL_1b81eb0aa6694e94b139352523561597",
       "IPY_MODEL_9eeb95f3f8194ac2ac014c6565de12b6"
      ],
      "layout": "IPY_MODEL_378eb40360294080b9fa2cfee6987a79"
     }
    },
    "711b2304d516471ba5554bc10907d5c7": {
     "model_module": "@jupyter-widgets/controls",
     "model_module_version": "1.5.0",
     "model_name": "DescriptionStyleModel",
     "state": {
      "_model_module": "@jupyter-widgets/controls",
      "_model_module_version": "1.5.0",
      "_model_name": "DescriptionStyleModel",
      "_view_count": null,
      "_view_module": "@jupyter-widgets/base",
      "_view_module_version": "1.2.0",
      "_view_name": "StyleView",
      "description_width": ""
     }
    },
    "9b64d5ccc8614e8fb1cf3abb6e2c0886": {
     "model_module": "@jupyter-widgets/controls",
     "model_module_version": "1.5.0",
     "model_name": "HTMLModel",
     "state": {
      "_dom_classes": [],
      "_model_module": "@jupyter-widgets/controls",
      "_model_module_version": "1.5.0",
      "_model_name": "HTMLModel",
      "_view_count": null,
      "_view_module": "@jupyter-widgets/controls",
      "_view_module_version": "1.5.0",
      "_view_name": "HTMLView",
      "description": "",
      "description_tooltip": null,
      "layout": "IPY_MODEL_bf2663f0efaf4705b8a784f2876f2580",
      "placeholder": "​",
      "style": "IPY_MODEL_711b2304d516471ba5554bc10907d5c7",
      "value": "Load sample metadata: 100%"
     }
    },
    "9eeb95f3f8194ac2ac014c6565de12b6": {
     "model_module": "@jupyter-widgets/controls",
     "model_module_version": "1.5.0",
     "model_name": "HTMLModel",
     "state": {
      "_dom_classes": [],
      "_model_module": "@jupyter-widgets/controls",
      "_model_module_version": "1.5.0",
      "_model_name": "HTMLModel",
      "_view_count": null,
      "_view_module": "@jupyter-widgets/controls",
      "_view_module_version": "1.5.0",
      "_view_name": "HTMLView",
      "description": "",
      "description_tooltip": null,
      "layout": "IPY_MODEL_d6c9d2a82f244b4a8a5a08fd1b5d2750",
      "placeholder": "​",
      "style": "IPY_MODEL_05eb37b19b5e4c11929c0ad72919cdec",
      "value": " 5/5 [00:02&lt;00:00,  2.56it/s]"
     }
    },
    "bf2663f0efaf4705b8a784f2876f2580": {
     "model_module": "@jupyter-widgets/base",
     "model_module_version": "1.2.0",
     "model_name": "LayoutModel",
     "state": {
      "_model_module": "@jupyter-widgets/base",
      "_model_module_version": "1.2.0",
      "_model_name": "LayoutModel",
      "_view_count": null,
      "_view_module": "@jupyter-widgets/base",
      "_view_module_version": "1.2.0",
      "_view_name": "LayoutView",
      "align_content": null,
      "align_items": null,
      "align_self": null,
      "border": null,
      "bottom": null,
      "display": null,
      "flex": null,
      "flex_flow": null,
      "grid_area": null,
      "grid_auto_columns": null,
      "grid_auto_flow": null,
      "grid_auto_rows": null,
      "grid_column": null,
      "grid_gap": null,
      "grid_row": null,
      "grid_template_areas": null,
      "grid_template_columns": null,
      "grid_template_rows": null,
      "height": null,
      "justify_content": null,
      "justify_items": null,
      "left": null,
      "margin": null,
      "max_height": null,
      "max_width": null,
      "min_height": null,
      "min_width": null,
      "object_fit": null,
      "object_position": null,
      "order": null,
      "overflow": null,
      "overflow_x": null,
      "overflow_y": null,
      "padding": null,
      "right": null,
      "top": null,
      "visibility": null,
      "width": null
     }
    },
    "c4e1e9cb70384eab9602b3ca38661539": {
     "model_module": "@jupyter-widgets/base",
     "model_module_version": "1.2.0",
     "model_name": "LayoutModel",
     "state": {
      "_model_module": "@jupyter-widgets/base",
      "_model_module_version": "1.2.0",
      "_model_name": "LayoutModel",
      "_view_count": null,
      "_view_module": "@jupyter-widgets/base",
      "_view_module_version": "1.2.0",
      "_view_name": "LayoutView",
      "align_content": null,
      "align_items": null,
      "align_self": null,
      "border": null,
      "bottom": null,
      "display": null,
      "flex": null,
      "flex_flow": null,
      "grid_area": null,
      "grid_auto_columns": null,
      "grid_auto_flow": null,
      "grid_auto_rows": null,
      "grid_column": null,
      "grid_gap": null,
      "grid_row": null,
      "grid_template_areas": null,
      "grid_template_columns": null,
      "grid_template_rows": null,
      "height": null,
      "justify_content": null,
      "justify_items": null,
      "left": null,
      "margin": null,
      "max_height": null,
      "max_width": null,
      "min_height": null,
      "min_width": null,
      "object_fit": null,
      "object_position": null,
      "order": null,
      "overflow": null,
      "overflow_x": null,
      "overflow_y": null,
      "padding": null,
      "right": null,
      "top": null,
      "visibility": null,
      "width": null
     }
    },
    "d6c9d2a82f244b4a8a5a08fd1b5d2750": {
     "model_module": "@jupyter-widgets/base",
     "model_module_version": "1.2.0",
     "model_name": "LayoutModel",
     "state": {
      "_model_module": "@jupyter-widgets/base",
      "_model_module_version": "1.2.0",
      "_model_name": "LayoutModel",
      "_view_count": null,
      "_view_module": "@jupyter-widgets/base",
      "_view_module_version": "1.2.0",
      "_view_name": "LayoutView",
      "align_content": null,
      "align_items": null,
      "align_self": null,
      "border": null,
      "bottom": null,
      "display": null,
      "flex": null,
      "flex_flow": null,
      "grid_area": null,
      "grid_auto_columns": null,
      "grid_auto_flow": null,
      "grid_auto_rows": null,
      "grid_column": null,
      "grid_gap": null,
      "grid_row": null,
      "grid_template_areas": null,
      "grid_template_columns": null,
      "grid_template_rows": null,
      "height": null,
      "justify_content": null,
      "justify_items": null,
      "left": null,
      "margin": null,
      "max_height": null,
      "max_width": null,
      "min_height": null,
      "min_width": null,
      "object_fit": null,
      "object_position": null,
      "order": null,
      "overflow": null,
      "overflow_x": null,
      "overflow_y": null,
      "padding": null,
      "right": null,
      "top": null,
      "visibility": null,
      "width": null
     }
    }
   }
  }
 },
 "nbformat": 4,
 "nbformat_minor": 4
}
