{
 "cells": [
  {
   "cell_type": "markdown",
   "metadata": {
    "id": "3UrQMDiTXghY"
   },
   "source": [
    "# Compute fst within the 3L chrom"
   ]
  },
  {
   "cell_type": "code",
   "execution_count": null,
   "metadata": {
    "id": "_r-bZjefXM7e"
   },
   "outputs": [],
   "source": [
    "!pip install -q malariagen_data\n",
    "!pip install -q scikit-allel\n",
    "!pip install -q petl"
   ]
  },
  {
   "cell_type": "markdown",
   "metadata": {
    "id": "SgxvcSHGX0eW"
   },
   "source": [
    "### importing necessary package"
   ]
  },
  {
   "cell_type": "code",
   "execution_count": null,
   "metadata": {
    "id": "ECFgL8yDXakn"
   },
   "outputs": [],
   "source": [
    "import allel\n",
    "import malariagen_data\n",
    "import numpy as np\n",
    "import pandas as pd\n",
    "import dask\n",
    "import dask.array as da\n",
    "# silence some dask warnings\n",
    "dask.config.set(**{'array.slicing.split_large_chunks': True})\n",
    "from dask.diagnostics.progress import ProgressBar"
   ]
  },
  {
   "cell_type": "code",
   "execution_count": null,
   "metadata": {
    "id": "nVFl0IwmU2m5"
   },
   "outputs": [],
   "source": [
    "import random\n",
    "import functools\n",
    "import petl as ptl\n",
    "import itertools\n",
    "import scipy\n",
    "from collections import Counter"
   ]
  },
  {
   "cell_type": "code",
   "execution_count": null,
   "metadata": {
    "id": "77zlahrtl8fp"
   },
   "outputs": [],
   "source": [
    "# plotting setup\n",
    "import matplotlib as mpl\n",
    "import matplotlib.pyplot as plt\n",
    "from matplotlib.colors import ListedColormap\n",
    "from matplotlib.gridspec import GridSpec\n",
    "import matplotlib_venn as venn\n",
    "import seaborn as sns"
   ]
  },
  {
   "cell_type": "code",
   "execution_count": null,
   "metadata": {
    "colab": {
     "base_uri": "https://localhost:8080/"
    },
    "executionInfo": {
     "elapsed": 38280,
     "status": "ok",
     "timestamp": 1660135753013,
     "user": {
      "displayName": "Mahamadi Kientega",
      "userId": "09005529550051576731"
     },
     "user_tz": 0
    },
    "id": "H2v1Rkp7p-zI",
    "outputId": "efe46639-9f4c-41ce-b410-671d6ed1e64a"
   },
   "outputs": [
    {
     "name": "stdout",
     "output_type": "stream",
     "text": [
      "Mounted at drive\n"
     ]
    }
   ],
   "source": [
    "#Mounting Google Drive\n",
    "import os\n",
    "from google.colab import drive\n",
    "drive.mount(\"drive\")\n",
    "\n",
    "# make dir\n",
    "results_dir = \"drive/MyDrive/Genomic/\"\n",
    "os.makedirs(results_dir, exist_ok=True)"
   ]
  },
  {
   "cell_type": "markdown",
   "metadata": {
    "id": "S-MllSLqYD9J"
   },
   "source": [
    "Importing malariagen data set    \n",
    "Let's select the the sample set from"
   ]
  },
  {
   "cell_type": "code",
   "execution_count": null,
   "metadata": {
    "id": "BFTWJ7ILXaqJ"
   },
   "outputs": [],
   "source": [
    "ag3 = malariagen_data.Ag3()\n",
    "#ag3\n",
    "sets = [\"1191-VO-MULTI-OLOUGHLIN-VMF00106\", \"1191-VO-MULTI-OLOUGHLIN-VMF00140\",\n",
    "             \"AG1000G-BF-A\", \"AG1000G-BF-B\", \"AG1000G-BF-C\"]\n",
    "df_samples = ag3.sample_metadata(sample_sets=sets)#.set_index(\"sample_id\")\n",
    "#bf_samples = df_samples.query('country == \"Burkina Faso\"')\n",
    "#bf_samples.groupby(['location', 'aim_species']).size()\n",
    "\n",
    "#To access to the genotypes within the 3L chromosomes\n",
    "chrom3L_gt = ag3.snp_calls(region=\"3L\", sample_sets=sets)\n",
    "\n",
    "# Take some SNP in the 3L chromosomes\n",
    "snps_pos = allel.SortedIndex(chrom3L_gt['variant_position'].values)"
   ]
  },
  {
   "cell_type": "code",
   "execution_count": null,
   "metadata": {
    "id": "6qrcslm9-y60"
   },
   "outputs": [],
   "source": [
    "#Create population column\n",
    "bf_samples = df_samples.query('country == \"Burkina Faso\" and year > 2004')\n",
    "s1, s2, pop_labels,pop_colors, = [], [], {}, {}\n",
    "for iso, species in zip(bf_samples.location, bf_samples.aim_species):\n",
    "    s1.append(iso[:4]+'_'+species[:3])\n",
    "bf_samples.insert(4, 'population', s1)\n",
    "bf_samples_sel = pd.concat([bf_samples, bf_samples])\n",
    "pop_ids = list(bf_samples.population.unique())\n",
    "\n",
    "#pop_id\n",
    "for idx, species in zip(bf_samples.location, bf_samples.aim_species):\n",
    "  w = idx.split(' ')[0][:4]\n",
    "  s2.append(w+' $An.'+species)\n",
    "val = list(Counter(s2).keys())\n",
    "for idx, vl in zip(pop_ids, val):\n",
    "    pop_labels[idx]=vl\n",
    "pop_labels\n",
    "\n",
    "#pop_labels\n",
    "colored = sns.color_palette(\"husl\", len(pop_ids))\n",
    "for i in range(len(pop_ids)):\n",
    "    pop_colors[pop_ids[i]] = colored[i]\n",
    "\n",
    "#pop_cohort\n",
    "coh_pop = dict([(f\"{p}\", list(df.index)) for (p), df in bf_samples.reset_index().groupby(['population'])])\n",
    "\n",
    "#remove some populations\n",
    "pop_rm = ['Bana_ara', 'Bana_int', 'Sour_ara',  'Pala_col', 'Pala_int']\n",
    "del s1, s2, val, colored\n",
    "# remove pop_function\n",
    "def remove_pop(list1, list2):\n",
    "  for item in list2:\n",
    "    list1.remove(item)\n",
    "  return list1\n",
    "pop_coh = remove_pop(pop_ids.copy(), pop_rm)"
   ]
  },
  {
   "cell_type": "code",
   "execution_count": null,
   "metadata": {
    "id": "IvErnkM2XatJ"
   },
   "outputs": [],
   "source": [
    "#To the genomics dataset of bf samples\n",
    "bf_snps = chrom3L_gt.sel(samples=df_samples.eval('country==\"Burkina Faso\" and year > 2004'))\n",
    "\n",
    "# Take some SNP in the 3L chromosomes\n",
    "bf_snps_pos = allel.SortedIndex(bf_snps['variant_position'].values)\n",
    "\n",
    "# To filter the SNP dataset and warp the dataset to GT array\n",
    "filt = 'gamb_colu_arab'\n",
    "filt_val = bf_snps[f\"variant_filter_pass_{filt}\"].values\n",
    "gt_filtered = allel.GenotypeDaskArray(bf_snps[\"call_genotype\"][filt_val].data)\n"
   ]
  },
  {
   "cell_type": "code",
   "execution_count": null,
   "metadata": {
    "colab": {
     "base_uri": "https://localhost:8080/"
    },
    "executionInfo": {
     "elapsed": 5190259,
     "status": "ok",
     "timestamp": 1660140965858,
     "user": {
      "displayName": "Mahamadi Kientega",
      "userId": "09005529550051576731"
     },
     "user_tz": 0
    },
    "id": "AMz6RWqRVQ65",
    "outputId": "c3cac1c8-56ab-4675-f206-d057d6fa4821"
   },
   "outputs": [
    {
     "name": "stdout",
     "output_type": "stream",
     "text": [
      "[########################################] | 100% Completed | 48.2s\n",
      "[########################################] | 100% Completed | 20min 23.1s\n",
      "[########################################] | 100% Completed |  8min 19.7s\n",
      "[########################################] | 100% Completed | 40.5s\n",
      "[########################################] | 100% Completed |  9min 22.1s\n",
      "[########################################] | 100% Completed |  1min 19.5s\n",
      "[########################################] | 100% Completed | 16min 46.8s\n",
      "[########################################] | 100% Completed | 41.8s\n",
      "[########################################] | 100% Completed | 41.8s\n",
      "[########################################] | 100% Completed | 14min 13.3s\n",
      "[########################################] | 100% Completed | 13min  8.4s\n"
     ]
    }
   ],
   "source": [
    "# compute allele counts\n",
    "#with ProgressBar():\n",
    "  #ac = gt_filtered.count_alleles(max_allele=3).compute()\n",
    "  #ac_pop = gt_filtered.count_alleles_subpops(coh_pop)\n",
    "\n",
    "ac_pop = {} ## compute allele counts pop - dict\n",
    "with ProgressBar():\n",
    "  for pop in coh_pop.keys():\n",
    "    ac_pop[pop] = gt_filtered.take(coh_pop[pop],axis=1).count_alleles(max_allele=3).compute()"
   ]
  },
  {
   "cell_type": "markdown",
   "metadata": {
    "id": "TyjWr3u6e8Uu"
   },
   "source": [
    "# Fst"
   ]
  },
  {
   "cell_type": "code",
   "execution_count": null,
   "metadata": {
    "id": "fHHzlexa5tQr"
   },
   "outputs": [],
   "source": [
    "@functools.lru_cache(maxsize=None)\n",
    "def load_ac(pop):\n",
    "    ac_popi = ac_pop[pop]\n",
    "    return ac_popi\n",
    "#load_ac(pop='Bana_col')"
   ]
  },
  {
   "cell_type": "code",
   "execution_count": null,
   "metadata": {
    "id": "jqef2ntaV3WG"
   },
   "outputs": [],
   "source": [
    "@functools.lru_cache(maxsize=None)\n",
    "def compute_pair_fst(pops, blen=10000):\n",
    "    # order is irrelevant\n",
    "    pop1, pop2 = pops\n",
    "    ac_pop1 = load_ac(pop=pop1)\n",
    "    ac_pop2 = load_ac(pop=pop2)\n",
    "    loc_pass = ac_pop1.is_segregating() & ac_pop2.is_segregating() & (ac_pop1.max_allele() <= 1) & (ac_pop2.max_allele() <= 1)\n",
    "    ac1 = ac_pop1[loc_pass]\n",
    "    ac2 = ac_pop2[loc_pass]\n",
    "\n",
    "    # compute Fst\n",
    "    fst, se, _, _ = allel.blockwise_hudson_fst(ac1, ac2, blen)\n",
    "\n",
    "    return fst, se"
   ]
  },
  {
   "cell_type": "code",
   "execution_count": null,
   "metadata": {
    "id": "LQYbaehTRyam"
   },
   "outputs": [],
   "source": [
    "def compute_pairwise_fst(pop_coh, blen=10000):\n",
    "    pairwise_fst = []\n",
    "    pairwise_fst_se = []\n",
    "    for pop1, pop2 in itertools.combinations(pop_coh, 2):\n",
    "        pops = tuple(sorted([pop1, pop2]))\n",
    "        fst, se = compute_pair_fst(pops=pops, blen=blen)\n",
    "        pairwise_fst.append(fst)\n",
    "        pairwise_fst_se.append(se)\n",
    "    return pairwise_fst, pairwise_fst_se"
   ]
  },
  {
   "cell_type": "code",
   "execution_count": null,
   "metadata": {
    "id": "IrnW8zhGzm2H"
   },
   "outputs": [],
   "source": [
    "def tabulate_pairwise_fst(pop_coh, blen=10000):\n",
    "    fst, se = compute_pairwise_fst(pop_coh, blen=blen)\n",
    "    fstsq = scipy.spatial.distance.squareform(fst)\n",
    "    sesq = scipy.spatial.distance.squareform(se)\n",
    "    data = [zip(r1, r2) for r1, r2 in zip(fstsq, sesq)]\n",
    "    tbl_fst = (ptl\n",
    "               .wrap(data)\n",
    "               .pushheader(pop_coh)\n",
    "               .convertall(lambda v: '' if v == (0, 0) else '%.04f (%.04f)' % v)\n",
    "               .addcolumn('population', pop_coh, index=0)\n",
    "               )\n",
    "    tbl_fst.displayall(index_header=False, caption='Fst (standard error)')"
   ]
  },
  {
   "cell_type": "code",
   "execution_count": null,
   "metadata": {
    "id": "gkHcvtPXPWXk"
   },
   "outputs": [],
   "source": [
    "def plot_pairwise_fst(fst, se, pop_coh, figsize=(7, 4), mask=True, ax=None, fig_name=None):\n",
    "\n",
    "    if ax is None:\n",
    "        fig, ax = plt.subplots(figsize=figsize)\n",
    "        sns.despine(ax=ax, top=False, bottom=True, offset=0)\n",
    "\n",
    "    # plot Fst\n",
    "    data = scipy.spatial.distance.squareform(fst).copy()\n",
    "    pop_indices = [pop_coh.index(p) for p in pop_coh]\n",
    "    data = data.take(pop_indices, axis=0).take(pop_indices, axis=1)\n",
    "    data[data < 0] = 0\n",
    "    mask = np.zeros_like(data)\n",
    "    mask[np.triu_indices_from(mask)] = True\n",
    "    sns.heatmap(data, ax=ax, vmin=0, cmap=(sns.light_palette((210, 90, 60), input=\"husl\")),\n",
    "                mask=mask, cbar=False, annot=True, fmt='.2f', )\n",
    "\n",
    "    # plot Z score\n",
    "    data = scipy.spatial.distance.squareform(np.array(fst)/np.array(se)).copy()\n",
    "    data = data.take(pop_indices, axis=0).take(pop_indices, axis=1)\n",
    "    data[data < 0] = 0\n",
    "    mask = np.zeros_like(data)\n",
    "    mask[np.tril_indices_from(mask)] = True\n",
    "    sns.heatmap(data, ax=ax, vmin=0, vmax=100, cmap='Greys',\n",
    "                mask=mask, cbar=False, annot=True, fmt='.1f', )\n",
    "\n",
    "    xtl = [pop_labels[p] for p in pop_coh]\n",
    "    ytl = list(xtl)#[::-1]\n",
    "    ax.xaxis.tick_top()\n",
    "    ax.set_xticks(np.arange(len(xtl)) + .5)\n",
    "    ax.set_xticklabels(xtl, rotation=45, ha='left', fontweight='bold')\n",
    "    ax.set_yticklabels(ytl, rotation=0, ha='right', fontweight='bold')\n",
    "    ax.tick_params(length=0, pad=3)\n",
    "    ax.set_xlabel('Chrom 3L - $F_{ST}$')\n",
    "    ax.set_ylabel('$Z$ score')\n",
    "    ax.yaxis.set_label_position('right')\n",
    "\n",
    "    fig.tight_layout()\n",
    "\n",
    "    #save fig\n",
    "    if fig_name:\n",
    "      fig.savefig(f'drive/MyDrive/Genomic/Fst/{fig_name}.png', dpi=300, bbox_inches='tight')\n"
   ]
  },
  {
   "cell_type": "code",
   "execution_count": null,
   "metadata": {
    "id": "2KMay9fz1QJz"
   },
   "outputs": [],
   "source": [
    "fst_pop, se_pop = compute_pairwise_fst(sorted(pop_coh), blen=50000)"
   ]
  },
  {
   "cell_type": "code",
   "execution_count": null,
   "metadata": {
    "colab": {
     "base_uri": "https://localhost:8080/",
     "height": 297
    },
    "executionInfo": {
     "elapsed": 2681,
     "status": "ok",
     "timestamp": 1660141009652,
     "user": {
      "displayName": "Mahamadi Kientega",
      "userId": "09005529550051576731"
     },
     "user_tz": 0
    },
    "id": "MsqGmVy2PWa4",
    "outputId": "d2bee2cd-cad2-4659-a3d8-d459f42ff77b"
   },
   "outputs": [
    {
     "data": {
      "image/png": "[encoded data removed]",
      "text/plain": [
       "<Figure size 504x288 with 1 Axes>"
      ]
     },
     "metadata": {
      "needs_background": "light"
     },
     "output_type": "display_data"
    }
   ],
   "source": [
    "plot_pairwise_fst(fst=fst_pop, se=se_pop, pop_coh=sorted(pop_coh), fig_name='3L_Fst')"
   ]
  },
  {
   "cell_type": "code",
   "execution_count": null,
   "metadata": {
    "colab": {
     "base_uri": "https://localhost:8080/",
     "height": 297
    },
    "executionInfo": {
     "elapsed": 986,
     "status": "ok",
     "timestamp": 1660141010627,
     "user": {
      "displayName": "Mahamadi Kientega",
      "userId": "09005529550051576731"
     },
     "user_tz": 0
    },
    "id": "rmCA__RBxY5y",
    "outputId": "fef0a5c1-6651-4e69-fc11-2f2041c3c71a"
   },
   "outputs": [
    {
     "data": {
      "image/png": "[encoded data removed]",
      "text/plain": [
       "<Figure size 504x288 with 1 Axes>"
      ]
     },
     "metadata": {
      "needs_background": "light"
     },
     "output_type": "display_data"
    }
   ],
   "source": [
    "plot_pairwise_fst(fst=fst_pop, se=se_pop, pop_coh=pop_coh)"
   ]
  },
  {
   "cell_type": "markdown",
   "metadata": {
    "id": "2B8xYrVoIk39"
   },
   "source": [
    "# Save data"
   ]
  },
  {
   "cell_type": "code",
   "execution_count": null,
   "metadata": {
    "colab": {
     "base_uri": "https://localhost:8080/"
    },
    "executionInfo": {
     "elapsed": 7,
     "status": "ok",
     "timestamp": 1660141317574,
     "user": {
      "displayName": "Mahamadi Kientega",
      "userId": "09005529550051576731"
     },
     "user_tz": 0
    },
    "id": "kMPKi5a4NuKf",
    "outputId": "8a2963a8-4aeb-4add-dff5-9f696adfb653"
   },
   "outputs": [
    {
     "name": "stdout",
     "output_type": "stream",
     "text": [
      "Done...!\n"
     ]
    }
   ],
   "source": [
    "## Save year to year fst data\n",
    "fst_3L = np.array([fst_pop, se_pop])\n",
    "np.save('drive/MyDrive/Genomic/Fst/data_fst/3L_fst', fst_3L)\n",
    "print('Done...!')"
   ]
  }
 ],
 "metadata": {
  "colab": {
   "provenance": [
    {
     "file_id": "1OK9LX5Fu9YwAr9xaWD2KV46OEBMq2LAR",
     "timestamp": 1648665759402
    },
    {
     "file_id": "1PR9qYe7-YY_1ClVCDS8k6-hbhOzuI8UE",
     "timestamp": 1648660320702
    },
    {
     "file_id": "1epngoLpj6gb7fx7TX88EUGaXrvh6ousC",
     "timestamp": 1648481940248
    },
    {
     "file_id": "1b-L4Q3sYhC22B6SkRbK7otOeRjDgmBko",
     "timestamp": 1647622276416
    },
    {
     "file_id": "19amoJl5xCzxYHZFyXe4adndUxP2oVVJQ",
     "timestamp": 1647520622527
    },
    {
     "file_id": "1D8TW3w9XCWXgic9XhpRB536XOzpTp4tT",
     "timestamp": 1647513242536
    }
   ]
  },
  "kernelspec": {
   "display_name": "Python 3 (ipykernel)",
   "language": "python",
   "name": "python3"
  },
  "language_info": {
   "codemirror_mode": {
    "name": "ipython",
    "version": 3
   },
   "file_extension": ".py",
   "mimetype": "text/x-python",
   "name": "python",
   "nbconvert_exporter": "python",
   "pygments_lexer": "ipython3",
   "version": "3.12.3"
  }
 },
 "nbformat": 4,
 "nbformat_minor": 4
}
