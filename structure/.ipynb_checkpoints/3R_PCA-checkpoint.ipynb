{
 "cells": [
  {
   "cell_type": "markdown",
   "metadata": {
    "id": "3UrQMDiTXghY"
   },
   "source": [
    "# Compute PCA within the 3R chrom"
   ]
  },
  {
   "cell_type": "code",
   "execution_count": 1,
   "metadata": {
    "colab": {
     "base_uri": "https://localhost:8080/"
    },
    "executionInfo": {
     "elapsed": 33656,
     "status": "ok",
     "timestamp": 1669115295677,
     "user": {
      "displayName": "Mahamadi Kientega",
      "userId": "09005529550051576731"
     },
     "user_tz": 0
    },
    "id": "_r-bZjefXM7e",
    "outputId": "b61018fc-76e6-4ae9-df79-80dce532597b"
   },
   "outputs": [
    {
     "name": "stdout",
     "output_type": "stream",
     "text": [
      "\u001b[K     |████████████████████████████████| 100 kB 9.7 MB/s \n",
      "\u001b[K     |████████████████████████████████| 3.6 MB 66.4 MB/s \n",
      "\u001b[K     |████████████████████████████████| 301 kB 86.2 MB/s \n",
      "\u001b[K     |████████████████████████████████| 185 kB 67.7 MB/s \n",
      "\u001b[K     |████████████████████████████████| 3.0 MB 75.6 MB/s \n",
      "\u001b[K     |████████████████████████████████| 5.7 MB 65.1 MB/s \n",
      "\u001b[K     |████████████████████████████████| 9.9 MB 77.4 MB/s \n",
      "\u001b[K     |████████████████████████████████| 3.7 MB 85.1 MB/s \n",
      "\u001b[K     |████████████████████████████████| 55 kB 4.6 MB/s \n",
      "\u001b[K     |████████████████████████████████| 1.6 MB 80.9 MB/s \n",
      "\u001b[K     |████████████████████████████████| 6.6 MB 53.5 MB/s \n",
      "\u001b[?25h  Building wheel for retrying (setup.py) ... \u001b[?25l\u001b[?25hdone\n",
      "  Building wheel for asciitree (setup.py) ... \u001b[?25l\u001b[?25hdone\n",
      "\u001b[K     |████████████████████████████████| 408 kB 33.8 MB/s \n",
      "\u001b[?25h  Installing build dependencies ... \u001b[?25l\u001b[?25hdone\n",
      "  Getting requirements to build wheel ... \u001b[?25l\u001b[?25hdone\n",
      "    Preparing wheel metadata ... \u001b[?25l\u001b[?25hdone\n",
      "  Building wheel for petl (PEP 517) ... \u001b[?25l\u001b[?25hdone\n"
     ]
    }
   ],
   "source": [
    "!pip install -q malariagen_data\n",
    "!pip install -q scikit-allel\n",
    "!pip install -q petl"
   ]
  },
  {
   "cell_type": "markdown",
   "metadata": {
    "id": "SgxvcSHGX0eW"
   },
   "source": [
    "### importing necessary package"
   ]
  },
  {
   "cell_type": "code",
   "execution_count": 2,
   "metadata": {
    "executionInfo": {
     "elapsed": 3156,
     "status": "ok",
     "timestamp": 1669115298825,
     "user": {
      "displayName": "Mahamadi Kientega",
      "userId": "09005529550051576731"
     },
     "user_tz": 0
    },
    "id": "ECFgL8yDXakn"
   },
   "outputs": [],
   "source": [
    "import allel\n",
    "import malariagen_data\n",
    "import numpy as np\n",
    "import pandas as pd\n",
    "import dask\n",
    "import dask.array as da\n",
    "# silence some dask warnings\n",
    "dask.config.set(**{'array.slicing.split_large_chunks': True})\n",
    "from dask.diagnostics.progress import ProgressBar"
   ]
  },
  {
   "cell_type": "code",
   "execution_count": 3,
   "metadata": {
    "executionInfo": {
     "elapsed": 4,
     "status": "ok",
     "timestamp": 1669115298826,
     "user": {
      "displayName": "Mahamadi Kientega",
      "userId": "09005529550051576731"
     },
     "user_tz": 0
    },
    "id": "nVFl0IwmU2m5"
   },
   "outputs": [],
   "source": [
    "import random\n",
    "#import functools\n",
    "#import petl as ptl\n",
    "#import itertools\n",
    "import scipy\n",
    "from pathlib import Path\n",
    "from collections import Counter"
   ]
  },
  {
   "cell_type": "code",
   "execution_count": 4,
   "metadata": {
    "executionInfo": {
     "elapsed": 633,
     "status": "ok",
     "timestamp": 1669115299455,
     "user": {
      "displayName": "Mahamadi Kientega",
      "userId": "09005529550051576731"
     },
     "user_tz": 0
    },
    "id": "77zlahrtl8fp"
   },
   "outputs": [],
   "source": [
    "# plotting setup\n",
    "import matplotlib as mpl\n",
    "import matplotlib.pyplot as plt\n",
    "from matplotlib.colors import ListedColormap\n",
    "from matplotlib.gridspec import GridSpec\n",
    "import matplotlib_venn as venn\n",
    "import seaborn as sns"
   ]
  },
  {
   "cell_type": "code",
   "execution_count": 16,
   "metadata": {
    "colab": {
     "base_uri": "https://localhost:8080/"
    },
    "executionInfo": {
     "elapsed": 78847,
     "status": "ok",
     "timestamp": 1669124477417,
     "user": {
      "displayName": "Mahamadi Kientega",
      "userId": "09005529550051576731"
     },
     "user_tz": 0
    },
    "id": "3FCc4yraxysY",
    "outputId": "48e8fc25-05ac-42ef-ab4c-1ecb6620f72c"
   },
   "outputs": [
    {
     "name": "stdout",
     "output_type": "stream",
     "text": [
      "Mounted at drive\n"
     ]
    }
   ],
   "source": [
    "#Mounting Google Drive\n",
    "import os\n",
    "from google.colab import drive\n",
    "drive.mount(\"drive\")\n",
    "\n",
    "# make dir \n",
    "results_dir = \"drive/MyDrive/Genomic/\"\n",
    "os.makedirs(results_dir, exist_ok=True)"
   ]
  },
  {
   "cell_type": "markdown",
   "metadata": {
    "id": "S-MllSLqYD9J"
   },
   "source": [
    "Importing malariagen data set    \n",
    "Let's select the the sample set from "
   ]
  },
  {
   "cell_type": "code",
   "execution_count": 5,
   "metadata": {
    "colab": {
     "base_uri": "https://localhost:8080/",
     "height": 49,
     "referenced_widgets": [
      "6844341f718946a59cbb299b079cc4d3",
      "8d1ead62469f4bb7af37d08025358692",
      "f071bb0c02004850a98db6690cda9ca7",
      "3841db340aea40e1adb0abf4b0da03cb",
      "f32d3e9f76684ea3b388e8c0cdaf1def",
      "3c91910a50c94b1d93b5068766004b64",
      "354c893aced6431387866187196018bc",
      "89d1e9c20f7b4bf48d9c37af98176828",
      "ebd9f01e18534545b98667c67a23fd6d",
      "c71dbc4481c749319aaa5559b5ee8c3a",
      "d3378022fc3646828df5d30d101ac111"
     ]
    },
    "executionInfo": {
     "elapsed": 3024,
     "status": "ok",
     "timestamp": 1669115302476,
     "user": {
      "displayName": "Mahamadi Kientega",
      "userId": "09005529550051576731"
     },
     "user_tz": 0
    },
    "id": "BFTWJ7ILXaqJ",
    "outputId": "231a1149-1d45-4a3d-8fdf-bc10edc8a37b"
   },
   "outputs": [
    {
     "data": {
      "application/vnd.jupyter.widget-view+json": {
       "model_id": "6844341f718946a59cbb299b079cc4d3",
       "version_major": 2,
       "version_minor": 0
      },
      "text/plain": [
       "Load sample metadata:   0%|          | 0/5 [00:00<?, ?it/s]"
      ]
     },
     "metadata": {},
     "output_type": "display_data"
    }
   ],
   "source": [
    "ag3 = malariagen_data.Ag3()\n",
    "#ag3\n",
    "sets = [\"1191-VO-MULTI-OLOUGHLIN-VMF00106\", \"1191-VO-MULTI-OLOUGHLIN-VMF00140\", \n",
    "             \"AG1000G-BF-A\", \"AG1000G-BF-B\", \"AG1000G-BF-C\"]\n",
    "df_samples = ag3.sample_metadata(sample_sets=sets)#.set_index(\"sample_id\")\n",
    "#bf_samples = df_samples.query('country == \"Burkina Faso\"')\n",
    "#bf_samples.groupby(['location', 'aim_species']).size()\n",
    "\n",
    "#To access to the snp genotypes within the 3R chromosomes\n",
    "chrom3R_gt = ag3.snp_calls(region=\"3R\", sample_sets=sets)\n",
    "\n",
    "# Take some SNP in the 3R chromosomes \n",
    "snps_pos = allel.SortedIndex(chrom3R_gt['variant_position'].values)"
   ]
  },
  {
   "cell_type": "code",
   "execution_count": 6,
   "metadata": {
    "executionInfo": {
     "elapsed": 873,
     "status": "ok",
     "timestamp": 1669115354794,
     "user": {
      "displayName": "Mahamadi Kientega",
      "userId": "09005529550051576731"
     },
     "user_tz": 0
    },
    "id": "6qrcslm9-y60"
   },
   "outputs": [],
   "source": [
    "# define population \n",
    "bf_samples = df_samples.query('country == \"Burkina Faso\" and year > 2004')\n",
    "s1, s2, pop_labels,pop_colors, = [], [], {}, {}\n",
    "for iso, species in zip(bf_samples.location, bf_samples.aim_species):\n",
    "    s1.append(iso[:4]+'_'+species[:3])\n",
    "bf_samples.insert(4, 'population', s1)\n",
    "bf_samples_sel = pd.concat([bf_samples, bf_samples])\n",
    "pop_ids = list(bf_samples.population.unique())\n",
    "\n",
    "#pop_id\n",
    "for idx, species in zip(bf_samples.location, bf_samples.aim_species):\n",
    "  w = idx.split(' ')[0][:14]\n",
    "  s2.append(w+' $An.'+species)\n",
    "val = list(Counter(s2).keys())\n",
    "for idx, vl in zip(pop_ids, val):\n",
    "    pop_labels[idx]=vl\n",
    "pop_labels\n",
    "\n",
    "#pop_labels & pop_colors\n",
    "colored = sns.color_palette(\"husl\", len(pop_ids))\n",
    "for i in range(len(pop_ids)):\n",
    "    pop_colors[pop_ids[i]] = colored[i]\n",
    "\n",
    "pop_color = {'Bana_col':'#7FFFD4', 'Pala_col':'#008000', 'Sour_col':'#9ACD32',\n",
    "             'Bana_gam':'#FF00FF', 'Pala_gam':'#C20078', 'Sour_gam':'#9A0EEA',\n",
    "             'Bana_ara':'#FFA500', 'Pala_ara':'#DAA520', 'Sour_ara':'#FF6347',\n",
    "             'Bana_int':'#580F41', 'Pala_int':'#01153E'\n",
    "             }\n",
    "\n",
    "#pop_cohort\n",
    "coh_pop = dict([(f\"{p}\", list(df.index)) for (p), df in bf_samples.reset_index().groupby(['population'])])\n",
    "ls1 = ['Pala_gam', 'Sour_gam', 'Sour_col', 'Bana_gam', 'Pala_ara', 'Bana_col']\n",
    "pop_idx = []\n",
    "for pop in ls1:\n",
    "  pop_idx = pop_idx + coh_pop[pop]\n",
    "len(pop_idx)\n",
    "\n",
    "#remove some populations \n",
    "pop_rm = ['Bana_ara', 'Bana_int', 'Sour_ara', 'Mono_gam', 'Pala_col']\n",
    "del s1, s2, val, colored"
   ]
  },
  {
   "cell_type": "code",
   "execution_count": 8,
   "metadata": {
    "colab": {
     "base_uri": "https://localhost:8080/"
    },
    "executionInfo": {
     "elapsed": 4390348,
     "status": "ok",
     "timestamp": 1669120082451,
     "user": {
      "displayName": "Mahamadi Kientega",
      "userId": "09005529550051576731"
     },
     "user_tz": 0
    },
    "id": "IvErnkM2XatJ",
    "outputId": "4304ce2e-ead6-4e1d-badf-fc3bf4cddbe8"
   },
   "outputs": [
    {
     "name": "stdout",
     "output_type": "stream",
     "text": [
      "[########################################] | 100% Completed |  1hr 11min 47.7s\n"
     ]
    }
   ],
   "source": [
    "#To the genomics dataset within the Target region and bf samples \n",
    "bf_snps = chrom3R_gt.sel(samples=df_samples.eval('country==\"Burkina Faso\" and year > 2004'))\n",
    "\n",
    "# Take some SNP in the 3R chromosomes \n",
    "bf_snps_pos = allel.SortedIndex(bf_snps['variant_position'].values)\n",
    "\n",
    "# To filter the SNP dataset and warp the dataset to GT array \n",
    "filt = 'gamb_colu_arab' \n",
    "filt_val = bf_snps[f\"variant_filter_pass_{filt}\"].values \n",
    "gt_filtered = allel.GenotypeDaskArray(bf_snps[\"call_genotype\"][filt_val].data)\n",
    "\n",
    "# compute allele counts\n",
    "with ProgressBar():\n",
    "  ac = gt_filtered.take(pop_idx, axis=1).count_alleles(max_allele=3).compute()\n",
    "#ac_pop = gt_filtered.count_alleles_subpops(coh_pop)"
   ]
  },
  {
   "cell_type": "markdown",
   "metadata": {
    "id": "QtKBinJnih4f"
   },
   "source": [
    "#PCA"
   ]
  },
  {
   "cell_type": "code",
   "execution_count": 9,
   "metadata": {
    "executionInfo": {
     "elapsed": 8555,
     "status": "ok",
     "timestamp": 1669120094897,
     "user": {
      "displayName": "Mahamadi Kientega",
      "userId": "09005529550051576731"
     },
     "user_tz": 0
    },
    "id": "tfQDyzoPPWhB"
   },
   "outputs": [],
   "source": [
    "#filter - to remove missing data\n",
    "filter_ac = (ac.max_allele() == 1) & (ac[:, :2].min(axis=1) > 1)\n",
    "gt_rm_miss = gt_filtered.compress(filter_ac, axis=0)\n",
    "geno_alt = gt_rm_miss.to_n_alt()"
   ]
  },
  {
   "cell_type": "code",
   "execution_count": 10,
   "metadata": {
    "executionInfo": {
     "elapsed": 479,
     "status": "ok",
     "timestamp": 1669120095368,
     "user": {
      "displayName": "Mahamadi Kientega",
      "userId": "09005529550051576731"
     },
     "user_tz": 0
    },
    "id": "SjclLxcri0HA"
   },
   "outputs": [],
   "source": [
    "#randomly select snps \n",
    "n=300000   \n",
    "rand_x = np.random.choice(geno_alt.shape[0], n, replace=False)\n",
    "rand_x.sort()\n",
    "gt_random = gt_rm_miss.take(rand_x, axis=0).to_n_alt()"
   ]
  },
  {
   "cell_type": "code",
   "execution_count": 11,
   "metadata": {
    "colab": {
     "base_uri": "https://localhost:8080/"
    },
    "executionInfo": {
     "elapsed": 20,
     "status": "ok",
     "timestamp": 1669120095370,
     "user": {
      "displayName": "Mahamadi Kientega",
      "userId": "09005529550051576731"
     },
     "user_tz": 0
    },
    "id": "xdT9I02wnl27",
    "outputId": "0bd2b7af-f009-41b3-efea-5d353b305926"
   },
   "outputs": [
    {
     "data": {
      "text/plain": [
       "PosixPath('pca_data.npz')"
      ]
     },
     "execution_count": 11,
     "metadata": {},
     "output_type": "execute_result"
    }
   ],
   "source": [
    "#define PCA path \n",
    "pca_data = Path('pca_data.npz')\n",
    "pca_data"
   ]
  },
  {
   "cell_type": "code",
   "execution_count": 12,
   "metadata": {
    "colab": {
     "base_uri": "https://localhost:8080/"
    },
    "executionInfo": {
     "elapsed": 404260,
     "status": "ok",
     "timestamp": 1669123583646,
     "user": {
      "displayName": "Mahamadi Kientega",
      "userId": "09005529550051576731"
     },
     "user_tz": 0
    },
    "id": "iYXPd7Efnl0I",
    "outputId": "545dbba3-de78-47d8-ef37-3118bb60658a"
   },
   "outputs": [
    {
     "metadata": {
      "tags": null
     },
     "name": "stdout",
     "output_type": "stream",
     "text": [
      "processing\n"
     ]
    }
   ],
   "source": [
    "if pca_data.is_file():\n",
    "    # file exist\n",
    "    pca = np.load('pca_data.npz')\n",
    "    coords = pca['coords']\n",
    "    loadings = pca['loadings']\n",
    "    variance = pca['variance']\n",
    "else:\n",
    "    print('processing')\n",
    "    coords, model = allel.pca(gt_random, n_components=20, scaler='patterson')"
   ]
  },
  {
   "cell_type": "code",
   "execution_count": 17,
   "metadata": {
    "executionInfo": {
     "elapsed": 1345,
     "status": "ok",
     "timestamp": 1669124481084,
     "user": {
      "displayName": "Mahamadi Kientega",
      "userId": "09005529550051576731"
     },
     "user_tz": 0
    },
    "id": "E5yLXzwhUuBm"
   },
   "outputs": [],
   "source": [
    "## save PCA data \n",
    "np.save('drive/MyDrive/Genomic/PCA1/3R_coords', coords)\n",
    "np.save('drive/MyDrive/Genomic/PCA1/3R_model', model)\n",
    "\n",
    "def load_coords(file='coords.npy'):\n",
    "  return np.load(f'drive/MyDrive/Genomic/PCA1/{file}')\n",
    "\n",
    "def load_model(file='model.npy'):\n",
    "  return np.load(f'drive/MyDrive/Genomic/PCA1/{file}', allow_pickle='TRUE').item()"
   ]
  },
  {
   "cell_type": "code",
   "execution_count": 13,
   "metadata": {
    "colab": {
     "base_uri": "https://localhost:8080/",
     "height": 388
    },
    "executionInfo": {
     "elapsed": 2,
     "status": "ok",
     "timestamp": 1669123583649,
     "user": {
      "displayName": "Mahamadi Kientega",
      "userId": "09005529550051576731"
     },
     "user_tz": 0
    },
    "id": "DebbLIC9nlwx",
    "outputId": "510b4a14-46fc-4924-e65c-9614c8c92e3a"
   },
   "outputs": [
    {
     "data": {
      "image/png": "[encoded data removed]",
      "text/plain": [
       "<Figure size 1440x432 with 1 Axes>"
      ]
     },
     "metadata": {
      "needs_background": "light"
     },
     "output_type": "display_data"
    }
   ],
   "source": [
    "fig = plt.figure(figsize=(20, 6))\n",
    "ax = fig.add_subplot(121)\n",
    "if 'variance' in globals():\n",
    "    ax.plot(variance, 'go')\n",
    "else:\n",
    "    ax.plot(model.explained_variance_ratio_, 'go')\n",
    "ax.set_xlabel(\"principal component\")\n",
    "ax.set_ylabel(\"variance explained\")\n",
    "plt.xticks(np.arange(0,20, 1));"
   ]
  },
  {
   "cell_type": "code",
   "execution_count": 14,
   "metadata": {
    "executionInfo": {
     "elapsed": 1,
     "status": "ok",
     "timestamp": 1669123583649,
     "user": {
      "displayName": "Mahamadi Kientega",
      "userId": "09005529550051576731"
     },
     "user_tz": 0
    },
    "id": "5xm9LPe_gCaj"
   },
   "outputs": [],
   "source": [
    "def marker_style (pop_ids):\n",
    "  marker = {}\n",
    "  for pop in pop_ids:\n",
    "    if pop.split('_')[1]=='gam':\n",
    "      marker[pop] = 'o'\n",
    "    elif pop.split('_')[1]=='col':\n",
    "      marker[pop] = 'D'\n",
    "    elif pop.split('_')[1]=='ara':\n",
    "      marker[pop] = 'v'\n",
    "    elif pop.split('_')[1]=='int':\n",
    "      marker[pop] = '*'\n",
    "    else:\n",
    "      marker[pop] = 'h'\n",
    "  return marker"
   ]
  },
  {
   "cell_type": "code",
   "execution_count": 22,
   "metadata": {
    "executionInfo": {
     "elapsed": 7,
     "status": "ok",
     "timestamp": 1669124692666,
     "user": {
      "displayName": "Mahamadi Kientega",
      "userId": "09005529550051576731"
     },
     "user_tz": 0
    },
    "id": "to-j4DPAnltu"
   },
   "outputs": [],
   "source": [
    "def plot_pca_coords(coords, model, pc1, pc2, ax, sample_population):\n",
    "    sns.despine(ax=ax, offset=5)\n",
    "    x = coords[:, pc1]\n",
    "    y = coords[:, pc2]\n",
    "    for pop in ls1:\n",
    "        flt = (sample_population == pop)\n",
    "        ax.plot(x[flt], y[flt], marker=marker_style(pop_ids)[pop], linestyle=' ', color=pop_color[pop], \n",
    "                label=pop, markersize=6, mec='k', mew=0.5)\n",
    "    ax.set_xlabel('PC%s (%.1f%%)' % (pc1+1, model[pc1]*100))\n",
    "    ax.set_ylabel('PC%s (%.1f%%)' % (pc2+1, model[pc2]*100))\n",
    "    "
   ]
  },
  {
   "cell_type": "code",
   "execution_count": 18,
   "metadata": {
    "executionInfo": {
     "elapsed": 1373,
     "status": "ok",
     "timestamp": 1669124623165,
     "user": {
      "displayName": "Mahamadi Kientega",
      "userId": "09005529550051576731"
     },
     "user_tz": 0
    },
    "id": "7WhgAiM-nlqt"
   },
   "outputs": [],
   "source": [
    "def fig_pca(coords, model, title, sample_population, fig_name=None):\n",
    "    # plot coords for PCs 1 vs 2, 3 vs 4\n",
    "    fig = plt.figure(figsize=(16, 10))\n",
    "    ax = fig.add_subplot(231)\n",
    "    plot_pca_coords(coords, model, 0, 1, ax, sample_population)\n",
    "\n",
    "    ax = fig.add_subplot(232)\n",
    "    plot_pca_coords(coords, model, 2, 3, ax, sample_population)\n",
    "    \n",
    "    ax = fig.add_subplot(233)\n",
    "    plot_pca_coords(coords, model, 4, 5, ax, sample_population)\n",
    "    \n",
    "    ax = fig.add_subplot(234)\n",
    "    plot_pca_coords(coords, model, 6, 7, ax, sample_population)\n",
    "    \n",
    "    ax = fig.add_subplot(235)\n",
    "    plot_pca_coords(coords, model, 8, 9, ax, sample_population)\n",
    "    \n",
    "    ax = fig.add_subplot(236)\n",
    "    plot_pca_coords(coords, model, 10, 11, ax, sample_population)\n",
    "\n",
    "    ax.legend(bbox_to_anchor=(1, 1), loc='upper left')\n",
    "    \n",
    "    fig.suptitle(title, y=1.02)\n",
    "    fig.tight_layout()\n",
    "    \n",
    "    if fig_name:\n",
    "      fig.savefig(f\"drive/MyDrive/Genomic/PCA/{fig_name}.png\", dpi=300, bbox_inches='tight')\n"
   ]
  },
  {
   "cell_type": "code",
   "execution_count": 24,
   "metadata": {
    "colab": {
     "base_uri": "https://localhost:8080/",
     "height": 755
    },
    "executionInfo": {
     "elapsed": 2794,
     "status": "ok",
     "timestamp": 1669126539938,
     "user": {
      "displayName": "Mahamadi Kientega",
      "userId": "09005529550051576731"
     },
     "user_tz": 0
    },
    "id": "Fnrj_x8exZM9",
    "outputId": "c61748ce-51a9-4caf-ae08-b64104bd0dff"
   },
   "outputs": [
    {
     "data": {
      "image/png": "[encoded data removed]",
      "text/plain": [
       "<Figure size 1152x720 with 6 Axes>"
      ]
     },
     "metadata": {
      "needs_background": "light"
     },
     "output_type": "display_data"
    }
   ],
   "source": [
    "fig_pca(coords, model.explained_variance_ratio_ ,'PCA - 3R', bf_samples.population.values)"
   ]
  },
  {
   "cell_type": "code",
   "execution_count": null,
   "metadata": {
    "id": "rmCA__RBxY5y"
   },
   "outputs": [],
   "source": [
    "def fig_pca1_2(coords, model, title, sample_population, fig_name=None):\n",
    "    # plot coords for PCs 1 vs 2\n",
    "    fig = plt.figure(figsize=(8, 5))\n",
    "    ax = fig.add_subplot()\n",
    "    plot_pca_coords(coords, model, 0, 1, ax, sample_population)\n",
    "    \n",
    "    ax.legend(bbox_to_anchor=(1.1, 1), loc='upper left')\n",
    "\n",
    "    fig.suptitle(title, y=1.02)\n",
    "    fig.tight_layout()\n",
    "\n",
    "    if fig_name:\n",
    "      fig.savefig(f\"drive/MyDrive/Genomic/PCA/{fig_name}.png\", dpi=300, bbox_inches='tight')\n"
   ]
  },
  {
   "cell_type": "code",
   "execution_count": null,
   "metadata": {
    "colab": {
     "base_uri": "https://localhost:8080/",
     "height": 387
    },
    "executionInfo": {
     "elapsed": 2206,
     "status": "ok",
     "timestamp": 1657649122587,
     "user": {
      "displayName": "Mahamadi Kientega",
      "userId": "09005529550051576731"
     },
     "user_tz": 0
    },
    "id": "2iD277kwhJpW",
    "outputId": "8d1888ab-0651-46a5-f853-f86905d712f3"
   },
   "outputs": [
    {
     "data": {
      "image/png": "[encoded data removed]",
      "text/plain": [
       "<Figure size 576x360 with 1 Axes>"
      ]
     },
     "metadata": {
      "needs_background": "light"
     },
     "output_type": "display_data"
    }
   ],
   "source": [
    "if 'variance' in globals():\n",
    "    fig_pca1_2(coords, variance ,'PCA12 - 3R', bf_samples.population.values, fig_name='3R_PCA12')\n",
    "else:\n",
    "    fig_pca1_2(coords, model.explained_variance_ratio_ ,'PCA12 - 3R', bf_samples.population.values, fig_name='3R_PCA12')"
   ]
  }
 ],
 "metadata": {
  "colab": {
   "authorship_tag": "ABX9TyOZWHqcfCy4VxpIhZYRYGGx",
   "provenance": [
    {
     "file_id": "19uIwTAP0EtdhkZR-if4bcm7fXDYvMIi9",
     "timestamp": 1648661190713
    },
    {
     "file_id": "1epngoLpj6gb7fx7TX88EUGaXrvh6ousC",
     "timestamp": 1647690484603
    },
    {
     "file_id": "1b-L4Q3sYhC22B6SkRbK7otOeRjDgmBko",
     "timestamp": 1647622276416
    },
    {
     "file_id": "19amoJl5xCzxYHZFyXe4adndUxP2oVVJQ",
     "timestamp": 1647520622527
    },
    {
     "file_id": "1D8TW3w9XCWXgic9XhpRB536XOzpTp4tT",
     "timestamp": 1647513242536
    }
   ]
  },
  "kernelspec": {
   "display_name": "Python 3 (ipykernel)",
   "language": "python",
   "name": "python3"
  },
  "language_info": {
   "codemirror_mode": {
    "name": "ipython",
    "version": 3
   },
   "file_extension": ".py",
   "mimetype": "text/x-python",
   "name": "python",
   "nbconvert_exporter": "python",
   "pygments_lexer": "ipython3",
   "version": "3.12.3"
  },
  "widgets": {
   "application/vnd.jupyter.widget-state+json": {
    "354c893aced6431387866187196018bc": {
     "model_module": "@jupyter-widgets/controls",
     "model_module_version": "1.5.0",
     "model_name": "DescriptionStyleModel",
     "state": {
      "_model_module": "@jupyter-widgets/controls",
      "_model_module_version": "1.5.0",
      "_model_name": "DescriptionStyleModel",
      "_view_count": null,
      "_view_module": "@jupyter-widgets/base",
      "_view_module_version": "1.2.0",
      "_view_name": "StyleView",
      "description_width": ""
     }
    },
    "3841db340aea40e1adb0abf4b0da03cb": {
     "model_module": "@jupyter-widgets/controls",
     "model_module_version": "1.5.0",
     "model_name": "HTMLModel",
     "state": {
      "_dom_classes": [],
      "_model_module": "@jupyter-widgets/controls",
      "_model_module_version": "1.5.0",
      "_model_name": "HTMLModel",
      "_view_count": null,
      "_view_module": "@jupyter-widgets/controls",
      "_view_module_version": "1.5.0",
      "_view_name": "HTMLView",
      "description": "",
      "description_tooltip": null,
      "layout": "IPY_MODEL_c71dbc4481c749319aaa5559b5ee8c3a",
      "placeholder": "​",
      "style": "IPY_MODEL_d3378022fc3646828df5d30d101ac111",
      "value": " 5/5 [00:01&lt;00:00,  4.72it/s]"
     }
    },
    "3c91910a50c94b1d93b5068766004b64": {
     "model_module": "@jupyter-widgets/base",
     "model_module_version": "1.2.0",
     "model_name": "LayoutModel",
     "state": {
      "_model_module": "@jupyter-widgets/base",
      "_model_module_version": "1.2.0",
      "_model_name": "LayoutModel",
      "_view_count": null,
      "_view_module": "@jupyter-widgets/base",
      "_view_module_version": "1.2.0",
      "_view_name": "LayoutView",
      "align_content": null,
      "align_items": null,
      "align_self": null,
      "border": null,
      "bottom": null,
      "display": null,
      "flex": null,
      "flex_flow": null,
      "grid_area": null,
      "grid_auto_columns": null,
      "grid_auto_flow": null,
      "grid_auto_rows": null,
      "grid_column": null,
      "grid_gap": null,
      "grid_row": null,
      "grid_template_areas": null,
      "grid_template_columns": null,
      "grid_template_rows": null,
      "height": null,
      "justify_content": null,
      "justify_items": null,
      "left": null,
      "margin": null,
      "max_height": null,
      "max_width": null,
      "min_height": null,
      "min_width": null,
      "object_fit": null,
      "object_position": null,
      "order": null,
      "overflow": null,
      "overflow_x": null,
      "overflow_y": null,
      "padding": null,
      "right": null,
      "top": null,
      "visibility": null,
      "width": null
     }
    },
    "6844341f718946a59cbb299b079cc4d3": {
     "model_module": "@jupyter-widgets/controls",
     "model_module_version": "1.5.0",
     "model_name": "HBoxModel",
     "state": {
      "_dom_classes": [],
      "_model_module": "@jupyter-widgets/controls",
      "_model_module_version": "1.5.0",
      "_model_name": "HBoxModel",
      "_view_count": null,
      "_view_module": "@jupyter-widgets/controls",
      "_view_module_version": "1.5.0",
      "_view_name": "HBoxView",
      "box_style": "",
      "children": [
       "IPY_MODEL_8d1ead62469f4bb7af37d08025358692",
       "IPY_MODEL_f071bb0c02004850a98db6690cda9ca7",
       "IPY_MODEL_3841db340aea40e1adb0abf4b0da03cb"
      ],
      "layout": "IPY_MODEL_f32d3e9f76684ea3b388e8c0cdaf1def"
     }
    },
    "89d1e9c20f7b4bf48d9c37af98176828": {
     "model_module": "@jupyter-widgets/base",
     "model_module_version": "1.2.0",
     "model_name": "LayoutModel",
     "state": {
      "_model_module": "@jupyter-widgets/base",
      "_model_module_version": "1.2.0",
      "_model_name": "LayoutModel",
      "_view_count": null,
      "_view_module": "@jupyter-widgets/base",
      "_view_module_version": "1.2.0",
      "_view_name": "LayoutView",
      "align_content": null,
      "align_items": null,
      "align_self": null,
      "border": null,
      "bottom": null,
      "display": null,
      "flex": null,
      "flex_flow": null,
      "grid_area": null,
      "grid_auto_columns": null,
      "grid_auto_flow": null,
      "grid_auto_rows": null,
      "grid_column": null,
      "grid_gap": null,
      "grid_row": null,
      "grid_template_areas": null,
      "grid_template_columns": null,
      "grid_template_rows": null,
      "height": null,
      "justify_content": null,
      "justify_items": null,
      "left": null,
      "margin": null,
      "max_height": null,
      "max_width": null,
      "min_height": null,
      "min_width": null,
      "object_fit": null,
      "object_position": null,
      "order": null,
      "overflow": null,
      "overflow_x": null,
      "overflow_y": null,
      "padding": null,
      "right": null,
      "top": null,
      "visibility": null,
      "width": null
     }
    },
    "8d1ead62469f4bb7af37d08025358692": {
     "model_module": "@jupyter-widgets/controls",
     "model_module_version": "1.5.0",
     "model_name": "HTMLModel",
     "state": {
      "_dom_classes": [],
      "_model_module": "@jupyter-widgets/controls",
      "_model_module_version": "1.5.0",
      "_model_name": "HTMLModel",
      "_view_count": null,
      "_view_module": "@jupyter-widgets/controls",
      "_view_module_version": "1.5.0",
      "_view_name": "HTMLView",
      "description": "",
      "description_tooltip": null,
      "layout": "IPY_MODEL_3c91910a50c94b1d93b5068766004b64",
      "placeholder": "​",
      "style": "IPY_MODEL_354c893aced6431387866187196018bc",
      "value": "Load sample metadata: 100%"
     }
    },
    "c71dbc4481c749319aaa5559b5ee8c3a": {
     "model_module": "@jupyter-widgets/base",
     "model_module_version": "1.2.0",
     "model_name": "LayoutModel",
     "state": {
      "_model_module": "@jupyter-widgets/base",
      "_model_module_version": "1.2.0",
      "_model_name": "LayoutModel",
      "_view_count": null,
      "_view_module": "@jupyter-widgets/base",
      "_view_module_version": "1.2.0",
      "_view_name": "LayoutView",
      "align_content": null,
      "align_items": null,
      "align_self": null,
      "border": null,
      "bottom": null,
      "display": null,
      "flex": null,
      "flex_flow": null,
      "grid_area": null,
      "grid_auto_columns": null,
      "grid_auto_flow": null,
      "grid_auto_rows": null,
      "grid_column": null,
      "grid_gap": null,
      "grid_row": null,
      "grid_template_areas": null,
      "grid_template_columns": null,
      "grid_template_rows": null,
      "height": null,
      "justify_content": null,
      "justify_items": null,
      "left": null,
      "margin": null,
      "max_height": null,
      "max_width": null,
      "min_height": null,
      "min_width": null,
      "object_fit": null,
      "object_position": null,
      "order": null,
      "overflow": null,
      "overflow_x": null,
      "overflow_y": null,
      "padding": null,
      "right": null,
      "top": null,
      "visibility": null,
      "width": null
     }
    },
    "d3378022fc3646828df5d30d101ac111": {
     "model_module": "@jupyter-widgets/controls",
     "model_module_version": "1.5.0",
     "model_name": "DescriptionStyleModel",
     "state": {
      "_model_module": "@jupyter-widgets/controls",
      "_model_module_version": "1.5.0",
      "_model_name": "DescriptionStyleModel",
      "_view_count": null,
      "_view_module": "@jupyter-widgets/base",
      "_view_module_version": "1.2.0",
      "_view_name": "StyleView",
      "description_width": ""
     }
    },
    "ebd9f01e18534545b98667c67a23fd6d": {
     "model_module": "@jupyter-widgets/controls",
     "model_module_version": "1.5.0",
     "model_name": "ProgressStyleModel",
     "state": {
      "_model_module": "@jupyter-widgets/controls",
      "_model_module_version": "1.5.0",
      "_model_name": "ProgressStyleModel",
      "_view_count": null,
      "_view_module": "@jupyter-widgets/base",
      "_view_module_version": "1.2.0",
      "_view_name": "StyleView",
      "bar_color": null,
      "description_width": ""
     }
    },
    "f071bb0c02004850a98db6690cda9ca7": {
     "model_module": "@jupyter-widgets/controls",
     "model_module_version": "1.5.0",
     "model_name": "FloatProgressModel",
     "state": {
      "_dom_classes": [],
      "_model_module": "@jupyter-widgets/controls",
      "_model_module_version": "1.5.0",
      "_model_name": "FloatProgressModel",
      "_view_count": null,
      "_view_module": "@jupyter-widgets/controls",
      "_view_module_version": "1.5.0",
      "_view_name": "ProgressView",
      "bar_style": "success",
      "description": "",
      "description_tooltip": null,
      "layout": "IPY_MODEL_89d1e9c20f7b4bf48d9c37af98176828",
      "max": 5,
      "min": 0,
      "orientation": "horizontal",
      "style": "IPY_MODEL_ebd9f01e18534545b98667c67a23fd6d",
      "value": 5
     }
    },
    "f32d3e9f76684ea3b388e8c0cdaf1def": {
     "model_module": "@jupyter-widgets/base",
     "model_module_version": "1.2.0",
     "model_name": "LayoutModel",
     "state": {
      "_model_module": "@jupyter-widgets/base",
      "_model_module_version": "1.2.0",
      "_model_name": "LayoutModel",
      "_view_count": null,
      "_view_module": "@jupyter-widgets/base",
      "_view_module_version": "1.2.0",
      "_view_name": "LayoutView",
      "align_content": null,
      "align_items": null,
      "align_self": null,
      "border": null,
      "bottom": null,
      "display": null,
      "flex": null,
      "flex_flow": null,
      "grid_area": null,
      "grid_auto_columns": null,
      "grid_auto_flow": null,
      "grid_auto_rows": null,
      "grid_column": null,
      "grid_gap": null,
      "grid_row": null,
      "grid_template_areas": null,
      "grid_template_columns": null,
      "grid_template_rows": null,
      "height": null,
      "justify_content": null,
      "justify_items": null,
      "left": null,
      "margin": null,
      "max_height": null,
      "max_width": null,
      "min_height": null,
      "min_width": null,
      "object_fit": null,
      "object_position": null,
      "order": null,
      "overflow": null,
      "overflow_x": null,
      "overflow_y": null,
      "padding": null,
      "right": null,
      "top": null,
      "visibility": null,
      "width": null
     }
    }
   }
  }
 },
 "nbformat": 4,
 "nbformat_minor": 4
}
