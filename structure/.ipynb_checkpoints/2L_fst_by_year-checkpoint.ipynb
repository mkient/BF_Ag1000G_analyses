{
 "cells": [
  {
   "cell_type": "markdown",
   "metadata": {
    "id": "3UrQMDiTXghY"
   },
   "source": [
    "# Compute fst within the 2L chrom"
   ]
  },
  {
   "cell_type": "code",
   "execution_count": null,
   "metadata": {
    "id": "_r-bZjefXM7e"
   },
   "outputs": [],
   "source": [
    "!pip install -q malariagen_data\n",
    "!pip install -q scikit-allel\n",
    "!pip install -q petl"
   ]
  },
  {
   "cell_type": "markdown",
   "metadata": {
    "id": "SgxvcSHGX0eW"
   },
   "source": [
    "### importing necessary package"
   ]
  },
  {
   "cell_type": "code",
   "execution_count": 2,
   "metadata": {
    "executionInfo": {
     "elapsed": 3761,
     "status": "ok",
     "timestamp": 1660130347606,
     "user": {
      "displayName": "Mahamadi Kientega",
      "userId": "09005529550051576731"
     },
     "user_tz": 0
    },
    "id": "ECFgL8yDXakn"
   },
   "outputs": [],
   "source": [
    "import allel\n",
    "import malariagen_data\n",
    "import numpy as np\n",
    "import pandas as pd\n",
    "import dask\n",
    "import dask.array as da\n",
    "# silence some dask warnings\n",
    "dask.config.set(**{'array.slicing.split_large_chunks': True})\n",
    "from dask.diagnostics.progress import ProgressBar"
   ]
  },
  {
   "cell_type": "code",
   "execution_count": 3,
   "metadata": {
    "executionInfo": {
     "elapsed": 21,
     "status": "ok",
     "timestamp": 1660130347606,
     "user": {
      "displayName": "Mahamadi Kientega",
      "userId": "09005529550051576731"
     },
     "user_tz": 0
    },
    "id": "nVFl0IwmU2m5"
   },
   "outputs": [],
   "source": [
    "import random\n",
    "import functools\n",
    "import petl as ptl\n",
    "import itertools\n",
    "import scipy\n",
    "from collections import Counter"
   ]
  },
  {
   "cell_type": "code",
   "execution_count": 4,
   "metadata": {
    "executionInfo": {
     "elapsed": 621,
     "status": "ok",
     "timestamp": 1660130348206,
     "user": {
      "displayName": "Mahamadi Kientega",
      "userId": "09005529550051576731"
     },
     "user_tz": 0
    },
    "id": "77zlahrtl8fp"
   },
   "outputs": [],
   "source": [
    "# plotting setup\n",
    "import matplotlib as mpl\n",
    "import matplotlib.pyplot as plt\n",
    "from matplotlib.colors import ListedColormap\n",
    "from matplotlib.gridspec import GridSpec\n",
    "import matplotlib_venn as venn\n",
    "import seaborn as sns"
   ]
  },
  {
   "cell_type": "code",
   "execution_count": 5,
   "metadata": {
    "colab": {
     "base_uri": "https://localhost:8080/"
    },
    "executionInfo": {
     "elapsed": 60278,
     "status": "ok",
     "timestamp": 1660130408477,
     "user": {
      "displayName": "Mahamadi Kientega",
      "userId": "09005529550051576731"
     },
     "user_tz": 0
    },
    "id": "skYmFdbzOK6e",
    "outputId": "258bc36f-0fcc-4b21-e30c-d951b0c95f27"
   },
   "outputs": [
    {
     "name": "stdout",
     "output_type": "stream",
     "text": [
      "Mounted at drive\n"
     ]
    }
   ],
   "source": [
    "#Mounting Google Drive\n",
    "import os\n",
    "from google.colab import drive\n",
    "drive.mount(\"drive\")\n",
    "\n",
    "# make dir \n",
    "results_dir = \"drive/MyDrive/Genomic/Fst\"\n",
    "os.makedirs(results_dir, exist_ok=True)"
   ]
  },
  {
   "cell_type": "markdown",
   "metadata": {
    "id": "S-MllSLqYD9J"
   },
   "source": [
    "Importing malariagen data set    \n",
    "Let's select the the sample set from "
   ]
  },
  {
   "cell_type": "code",
   "execution_count": 6,
   "metadata": {
    "colab": {
     "base_uri": "https://localhost:8080/",
     "height": 49,
     "referenced_widgets": [
      "1ec46c4cfff24020923cc4dcbe09dda4",
      "b1c61ed73ae7456391fdbcbd9bcf77ec",
      "d52d0044928f4b919285c3357dc4eebd",
      "b2c21e8d784c4d30a2aed8723815fb03",
      "19fec39d17544647a7f6cde3823a8944",
      "548f3409e74f414c943b2604ac468dd1",
      "c771f46903654bb38406cb0ace0a6922",
      "fd90461fb56644c98af790696a52e659",
      "060f3135bf3249e7bffeca52c71f84f3",
      "5ba267a0aefe47d5b998f0aa05318447",
      "981a3473435b48a1884ff8b5d62c2798"
     ]
    },
    "executionInfo": {
     "elapsed": 3663,
     "status": "ok",
     "timestamp": 1660130412128,
     "user": {
      "displayName": "Mahamadi Kientega",
      "userId": "09005529550051576731"
     },
     "user_tz": 0
    },
    "id": "BFTWJ7ILXaqJ",
    "outputId": "aa52f60f-b815-41a4-f29a-482ecc57e51e"
   },
   "outputs": [
    {
     "data": {
      "application/vnd.jupyter.widget-view+json": {
       "model_id": "1ec46c4cfff24020923cc4dcbe09dda4",
       "version_major": 2,
       "version_minor": 0
      },
      "text/plain": [
       "Load sample metadata:   0%|          | 0/5 [00:00<?, ?it/s]"
      ]
     },
     "metadata": {},
     "output_type": "display_data"
    }
   ],
   "source": [
    "ag3 = malariagen_data.Ag3()\n",
    "#ag3\n",
    "sets = [\"1191-VO-MULTI-OLOUGHLIN-VMF00106\", \"1191-VO-MULTI-OLOUGHLIN-VMF00140\", \n",
    "             \"AG1000G-BF-A\", \"AG1000G-BF-B\", \"AG1000G-BF-C\"]\n",
    "df_samples = ag3.sample_metadata(sample_sets=sets)#.set_index(\"sample_id\")\n",
    "bf_samples = df_samples.query('country == \"Burkina Faso\"')\n",
    "#bf_samples.groupby(['location', 'aim_species']).size()\n",
    "\n",
    "#To access to the genotypes within the 2L chromosomes\n",
    "chrom2L_gt = ag3.snp_calls(region=\"2L\", sample_sets=sets)\n",
    "\n",
    "# Take some SNP in the 2L chromosomes \n",
    "snps_pos = allel.SortedIndex(chrom2L_gt['variant_position'].values)"
   ]
  },
  {
   "cell_type": "code",
   "execution_count": 7,
   "metadata": {
    "executionInfo": {
     "elapsed": 605,
     "status": "ok",
     "timestamp": 1660130412723,
     "user": {
      "displayName": "Mahamadi Kientega",
      "userId": "09005529550051576731"
     },
     "user_tz": 0
    },
    "id": "6qrcslm9-y60"
   },
   "outputs": [],
   "source": [
    "from collections import Counter\n",
    "\n",
    "#Create population column \n",
    "bf_samples = df_samples.query('country == \"Burkina Faso\" and year > 2004')\n",
    "s1, s2, s3, y, sp_y, pop_labels, pop_colors, sp_labels, sp_colors = [], [], [], [], [], {}, {}, {}, {}\n",
    "for iso, species in zip(bf_samples.location, bf_samples.aim_species):\n",
    "    s1.append(iso[:4]+'_'+species[:3])\n",
    "bf_samples.insert(4, 'population', s1)\n",
    "bf_samples_sel = pd.concat([bf_samples, bf_samples])\n",
    "pop_ids = list(bf_samples.population.unique())\n",
    "\n",
    "# Pop_year \n",
    "for pop, year in zip(bf_samples.population, bf_samples.year):\n",
    "    y.append(pop+'_'+str(year))\n",
    "bf_samples.insert(5, 'pop_year', y)\n",
    "pop_year = list(bf_samples.pop_year.unique())\n",
    "\n",
    "# Species_year \n",
    "for species, year in zip(bf_samples.aim_species, bf_samples.year):\n",
    "    sp_y.append(species+'_'+str(year))\n",
    "bf_samples.insert(6, 'species_year', sp_y)\n",
    "species_year = list(bf_samples.species_year.unique())\n",
    "\n",
    "#pop_id\n",
    "for idx, species in zip(bf_samples.location, bf_samples.aim_species):\n",
    "  w = idx.split(' ')[0][:14]\n",
    "  s2.append(w+' $An.'+species)\n",
    "val = list(Counter(s2).keys())\n",
    "for idx, vl in zip(pop_ids, val):\n",
    "    pop_labels[idx]=vl\n",
    "pop_labels\n",
    "\n",
    "#sp labels \n",
    "for year, species in zip(bf_samples.year, bf_samples.aim_species):\n",
    "  s3.append(str(year)+' $An.'+species)\n",
    "val = list(Counter(s3).keys())\n",
    "for idx, vl in zip(species_year, val):\n",
    "    sp_labels[idx]=vl\n",
    "sp_labels\n",
    "\n",
    "#pop_labels color\n",
    "colored = sns.color_palette(\"husl\", len(pop_ids))\n",
    "for i in range(len(pop_ids)):\n",
    "    pop_colors[pop_ids[i]] = colored[i]\n",
    "\n",
    "#sp_labels color\n",
    "colored = sns.color_palette(\"husl\", len(species_year))\n",
    "for i in range(len(species_year)):\n",
    "    sp_colors[species_year[i]] = colored[i]\n",
    "\n",
    "#pop_cohort\n",
    "coh_pop = dict([(f\"{p}\", list(df.index)) for (p), df in bf_samples.reset_index().groupby(['population'])])\n",
    "coh_pop_year = dict([(f\"{p}\", list(df.index)) for (p), df in bf_samples.reset_index().groupby(['pop_year'])])\n",
    "coh_species_year = dict([(f\"{p}\", list(df.index)) for (p), df in bf_samples.reset_index().groupby(['species_year'])])\n",
    "\n",
    "#remove some populations \n",
    "pop_rm = ['Bana_ara', 'Bana_int', 'Sour_ara', 'Mono_gam', 'Pala_col']\n",
    "pop_year_rm = ['Bana_col_2012', 'Bana_col_2014', 'Bana_col_2015', 'Bana_col_2016', \n",
    "               'Bana_col_2017', 'Bana_gam_2012', 'Bana_gam_2014', 'Bana_gam_2015', 'Bana_gam_2016', \n",
    "               'Pala_ara_2014', 'Pala_ara_2015', 'Pala_ara_2016', 'Pala_col_2012', \n",
    "               'Pala_gam_2012', 'Pala_gam_2014', 'Pala_gam_2015', 'Pala_gam_2016', 'Pala_gam_2017', \n",
    "               'Sour_col_2012', 'Sour_col_2014', 'Sour_col_2015', 'Sour_col_2016', \n",
    "               'Sour_col_2017', 'Sour_gam_2012', 'Sour_gam_2014', 'Sour_gam_2015', 'Sour_gam_2016']\n",
    "del s1, s2, y, val, colored, sp_y\n",
    "pop_species_year = ['arabiensis_2014', 'arabiensis_2015', 'arabiensis_2016', 'arabiensis_2017', \n",
    "                    'coluzzii_2012', 'coluzzii_2014', 'coluzzii_2015', 'coluzzii_2016', 'coluzzii_2017', \n",
    "                    'gambiae_2012', 'gambiae_2014', 'gambiae_2015', 'gambiae_2016', 'gambiae_2017']\n",
    "pop_species_year_select = ['arabiensis_2014', 'arabiensis_2015', 'arabiensis_2016','coluzzii_2012', \n",
    "                           'coluzzii_2014', 'coluzzii_2015', 'coluzzii_2016', 'coluzzii_2017', \n",
    "                           'gambiae_2012', 'gambiae_2014', 'gambiae_2015', 'gambiae_2016', 'gambiae_2017']"
   ]
  },
  {
   "cell_type": "code",
   "execution_count": 8,
   "metadata": {
    "executionInfo": {
     "elapsed": 11488,
     "status": "ok",
     "timestamp": 1660130424204,
     "user": {
      "displayName": "Mahamadi Kientega",
      "userId": "09005529550051576731"
     },
     "user_tz": 0
    },
    "id": "IvErnkM2XatJ"
   },
   "outputs": [],
   "source": [
    "#To the genomics dataset of bf samples \n",
    "bf_snps = chrom2L_gt.sel(samples=df_samples.eval('country==\"Burkina Faso\"'))\n",
    "\n",
    "# Take some SNP in the 2L chromosomes \n",
    "bf_snps_pos = allel.SortedIndex(bf_snps['variant_position'].values)\n",
    "\n",
    "# To filter the SNP dataset and warp the dataset to GT array \n",
    "filt = 'gamb_colu_arab' \n",
    "filt_val = bf_snps[f\"variant_filter_pass_{filt}\"].values \n",
    "gt_filtered = allel.GenotypeDaskArray(bf_snps[\"call_genotype\"][filt_val].data)\n"
   ]
  },
  {
   "cell_type": "code",
   "execution_count": 9,
   "metadata": {
    "executionInfo": {
     "elapsed": 6200,
     "status": "ok",
     "timestamp": 1660130430401,
     "user": {
      "displayName": "Mahamadi Kientega",
      "userId": "09005529550051576731"
     },
     "user_tz": 0
    },
    "id": "TMcDUlkPeG32"
   },
   "outputs": [],
   "source": [
    "filterd_val = bf_snps[f\"variant_filter_pass_{filt}\"].values \n",
    "filtered_pos = allel.SortedIndex(bf_snps['variant_position'][filterd_val].values)\n",
    "#filtered_pos"
   ]
  },
  {
   "cell_type": "code",
   "execution_count": 10,
   "metadata": {
    "colab": {
     "base_uri": "https://localhost:8080/"
    },
    "executionInfo": {
     "elapsed": 4417904,
     "status": "ok",
     "timestamp": 1660134848262,
     "user": {
      "displayName": "Mahamadi Kientega",
      "userId": "09005529550051576731"
     },
     "user_tz": 0
    },
    "id": "AMz6RWqRVQ65",
    "outputId": "607402f0-7ec3-4293-e848-586075a5e86f"
   },
   "outputs": [
    {
     "name": "stdout",
     "output_type": "stream",
     "text": [
      "[########################################] | 100% Completed |  3min 50.8s\n",
      "[########################################] | 100% Completed |  7min 23.2s\n",
      "[########################################] | 100% Completed |  2min  2.9s\n",
      "[########################################] | 100% Completed | 55.0s\n",
      "[########################################] | 100% Completed |  4min 11.4s\n",
      "[########################################] | 100% Completed |  7min 22.1s\n",
      "[########################################] | 100% Completed |  8min 48.8s\n",
      "[########################################] | 100% Completed |  6min 57.7s\n",
      "[########################################] | 100% Completed |  5min 54.1s\n",
      "[########################################] | 100% Completed |  4min  0.1s\n",
      "[########################################] | 100% Completed |  6min 30.2s\n",
      "[########################################] | 100% Completed |  8min 13.4s\n",
      "[########################################] | 100% Completed |  5min 16.4s\n",
      "[########################################] | 100% Completed |  2min  4.0s\n"
     ]
    }
   ],
   "source": [
    "# compute allele counts  \n",
    "#with ProgressBar():\n",
    "  #ac = gt_filtered.count_alleles(max_allele=3).compute()\n",
    "  #ac_pop = gt_filtered.count_alleles_subpops(coh_pop)\n",
    "\n",
    "ac_pop_year = {} ## compute allele counts pop - dict\n",
    "with ProgressBar():\n",
    "  for pop in pop_species_year:\n",
    "    ac_pop_year[pop] = gt_filtered.take(coh_species_year[pop],axis=1).count_alleles(max_allele=3).compute()"
   ]
  },
  {
   "cell_type": "markdown",
   "metadata": {
    "id": "TyjWr3u6e8Uu"
   },
   "source": [
    "# Fst"
   ]
  },
  {
   "cell_type": "code",
   "execution_count": 11,
   "metadata": {
    "executionInfo": {
     "elapsed": 23,
     "status": "ok",
     "timestamp": 1660134848263,
     "user": {
      "displayName": "Mahamadi Kientega",
      "userId": "09005529550051576731"
     },
     "user_tz": 0
    },
    "id": "fHHzlexa5tQr"
   },
   "outputs": [],
   "source": [
    "@functools.lru_cache(maxsize=None)\n",
    "def load_ac(pop):\n",
    "    ac_popi = ac_pop_year[pop]\n",
    "    return ac_popi\n",
    "#load_ac(pop='Bana_col')"
   ]
  },
  {
   "cell_type": "code",
   "execution_count": 12,
   "metadata": {
    "executionInfo": {
     "elapsed": 21,
     "status": "ok",
     "timestamp": 1660134848264,
     "user": {
      "displayName": "Mahamadi Kientega",
      "userId": "09005529550051576731"
     },
     "user_tz": 0
    },
    "id": "jqef2ntaV3WG"
   },
   "outputs": [],
   "source": [
    "@functools.lru_cache(maxsize=None)\n",
    "def compute_pair_fst(pops, blen=10000):\n",
    "    # order is irrelevant\n",
    "    pop1, pop2 = pops\n",
    "    ac_pop1 = load_ac(pop=pop1)\n",
    "    ac_pop2 = load_ac(pop=pop2)\n",
    "    loc_pass = ac_pop1.is_segregating() & ac_pop2.is_segregating() & (ac_pop1.max_allele() <= 1) & (ac_pop2.max_allele() <= 1)\n",
    "    ac1 = ac_pop1[loc_pass]\n",
    "    ac2 = ac_pop2[loc_pass]\n",
    "    \n",
    "    # compute Fst\n",
    "    fst, se, _, _ = allel.blockwise_hudson_fst(ac1, ac2, blen)\n",
    "    \n",
    "    return fst, se"
   ]
  },
  {
   "cell_type": "code",
   "execution_count": 13,
   "metadata": {
    "executionInfo": {
     "elapsed": 21,
     "status": "ok",
     "timestamp": 1660134848265,
     "user": {
      "displayName": "Mahamadi Kientega",
      "userId": "09005529550051576731"
     },
     "user_tz": 0
    },
    "id": "LQYbaehTRyam"
   },
   "outputs": [],
   "source": [
    "def compute_pairwise_fst(pop_coh, blen=10000):\n",
    "    pairwise_fst = []\n",
    "    pairwise_fst_se = []\n",
    "    for pop1, pop2 in itertools.combinations(pop_coh, 2):\n",
    "        pops = tuple(sorted([pop1, pop2]))\n",
    "        fst, se = compute_pair_fst(pops=pops, blen=blen)\n",
    "        pairwise_fst.append(fst)\n",
    "        pairwise_fst_se.append(se)\n",
    "    return pairwise_fst, pairwise_fst_se"
   ]
  },
  {
   "cell_type": "code",
   "execution_count": 14,
   "metadata": {
    "executionInfo": {
     "elapsed": 23,
     "status": "ok",
     "timestamp": 1660134848267,
     "user": {
      "displayName": "Mahamadi Kientega",
      "userId": "09005529550051576731"
     },
     "user_tz": 0
    },
    "id": "IrnW8zhGzm2H"
   },
   "outputs": [],
   "source": [
    "def tabulate_pairwise_fst(pop_coh, blen=10000):\n",
    "    fst, se = compute_pairwise_fst(pop_coh, blen=blen)\n",
    "    fstsq = scipy.spatial.distance.squareform(fst)\n",
    "    sesq = scipy.spatial.distance.squareform(se)\n",
    "    data = [zip(r1, r2) for r1, r2 in zip(fstsq, sesq)]\n",
    "    tbl_fst = (ptl\n",
    "               .wrap(data)\n",
    "               .pushheader(pop_coh)\n",
    "               .convertall(lambda v: '' if v == (0, 0) else '%.04f (%.04f)' % v)\n",
    "               .addcolumn('population', pop_coh, index=0)\n",
    "               )\n",
    "    tbl_fst.displayall(index_header=False, caption='Fst (standard error)')"
   ]
  },
  {
   "cell_type": "code",
   "execution_count": 15,
   "metadata": {
    "executionInfo": {
     "elapsed": 26,
     "status": "ok",
     "timestamp": 1660134848272,
     "user": {
      "displayName": "Mahamadi Kientega",
      "userId": "09005529550051576731"
     },
     "user_tz": 0
    },
    "id": "gkHcvtPXPWXk"
   },
   "outputs": [],
   "source": [
    "def plot_pairwise_fst_z(fst, se, pop_coh, figsize=(7, 4), mask=True,ax=None):\n",
    "    \n",
    "    if ax is None:\n",
    "        fig, ax = plt.subplots(figsize=figsize)\n",
    "        sns.despine(ax=ax, top=False, bottom=True, offset=0)\n",
    "\n",
    "    # plot Fst\n",
    "    data = scipy.spatial.distance.squareform(fst).copy()\n",
    "    pop_indices = [pop_coh.index(p) for p in pop_coh]\n",
    "    data = data.take(pop_indices, axis=0).take(pop_indices, axis=1)\n",
    "    data[data < 0] = 0\n",
    "    mask = np.zeros_like(data)\n",
    "    mask[np.triu_indices_from(mask)] = True\n",
    "    sns.heatmap(data, ax=ax, vmin=0, cmap=(sns.light_palette((210, 90, 60), input=\"husl\")), \n",
    "                mask=mask, cbar=False, annot=True, fmt='.2f', )\n",
    "\n",
    "    # plot Z score\n",
    "    data = scipy.spatial.distance.squareform(np.array(fst)/np.array(se)).copy()\n",
    "    data = data.take(pop_indices, axis=0).take(pop_indices, axis=1)\n",
    "    data[data < 0] = 0\n",
    "    mask = np.zeros_like(data)\n",
    "    mask[np.tril_indices_from(mask)] = True\n",
    "    sns.heatmap(data, ax=ax, vmin=0, vmax=100, cmap='Greys', \n",
    "                mask=mask, cbar=False, annot=True, fmt='.1f', )\n",
    "    \n",
    "    xtl = [pop_labels[p] for p in pop_coh]\n",
    "    ytl = list(xtl)#[::-1]\n",
    "    ax.xaxis.tick_top()\n",
    "    ax.set_xticks(np.arange(len(xtl)) + .5)\n",
    "    ax.set_xticklabels(xtl, rotation=45, ha='left', fontweight='bold')\n",
    "    ax.set_yticklabels(ytl, rotation=0, ha='right', fontweight='bold')\n",
    "    ax.tick_params(length=0, pad=3)\n",
    "    ax.set_xlabel('Chrom 2L - $F_{ST}$')\n",
    "    ax.set_ylabel('$Z$ score')\n",
    "    ax.yaxis.set_label_position('right')\n",
    "    return ax"
   ]
  },
  {
   "cell_type": "code",
   "execution_count": 16,
   "metadata": {
    "executionInfo": {
     "elapsed": 26,
     "status": "ok",
     "timestamp": 1660134848273,
     "user": {
      "displayName": "Mahamadi Kientega",
      "userId": "09005529550051576731"
     },
     "user_tz": 0
    },
    "id": "TaBrHpMA0Jq9"
   },
   "outputs": [],
   "source": [
    "def plot_pairwise_fst(fst, se, pop_coh, pop_labels, figsize=(7, 4), mask=True, ax=None, \n",
    "                      fig_name=None):\n",
    "    \n",
    "    if ax is None:\n",
    "        fig, ax = plt.subplots(figsize=figsize)\n",
    "        sns.despine(ax=ax, top=False, bottom=True, offset=0)\n",
    "\n",
    "    # plot Fst\n",
    "    data = scipy.spatial.distance.squareform(fst).copy()\n",
    "    pop_indices = [pop_coh.index(p) for p in pop_coh]\n",
    "    data = data.take(pop_indices, axis=0).take(pop_indices, axis=1)\n",
    "    data[data < 0] = 0\n",
    "    mask = np.zeros_like(data)\n",
    "    mask[np.triu_indices_from(mask)] = True\n",
    "    sns.heatmap(data, ax=ax, vmin=0, cmap=(sns.light_palette((210, 90, 60), input=\"husl\")), \n",
    "                mask=mask, cbar=False, annot=True, fmt='.4f', )\n",
    "\n",
    "    # plot Z score\n",
    "    data = scipy.spatial.distance.squareform(np.array(fst)/np.array(se)).copy()\n",
    "    data = data.take(pop_indices, axis=0).take(pop_indices, axis=1)\n",
    "    data[data < 0] = 0\n",
    "    mask = np.zeros_like(data)\n",
    "    mask[np.tril_indices_from(mask)] = True\n",
    "    sns.heatmap(data, ax=ax, vmin=0, vmax=100, cmap='Greys', \n",
    "                mask=mask, cbar=False, annot=True, fmt='.1f', )\n",
    "    \n",
    "    xtl = [pop_labels[p] for p in pop_coh]\n",
    "    ytl = list(xtl)#[::-1]\n",
    "    ax.xaxis.tick_top()\n",
    "    ax.set_xticks(np.arange(len(xtl)) + .5)\n",
    "    ax.set_xticklabels(xtl, rotation=45, ha='left', fontweight='bold')\n",
    "    ax.set_yticklabels(ytl, rotation=0, ha='right', fontweight='bold')\n",
    "    ax.tick_params(length=0, pad=3)\n",
    "    ax.set_xlabel('Chrom 2L - $F_{ST}$')\n",
    "    ax.set_ylabel('$Z$ score')\n",
    "    ax.yaxis.set_label_position('right')\n",
    "\n",
    "    # Save fig\n",
    "    if fig_name:\n",
    "      fig.savefig(f\"drive/MyDrive/Genomic/Fst/{fig_name}.png\", dpi=300, bbox_inches='tight')"
   ]
  },
  {
   "cell_type": "code",
   "execution_count": 17,
   "metadata": {
    "executionInfo": {
     "elapsed": 25,
     "status": "ok",
     "timestamp": 1660134848274,
     "user": {
      "displayName": "Mahamadi Kientega",
      "userId": "09005529550051576731"
     },
     "user_tz": 0
    },
    "id": "ojj4Bcz6dRc1"
   },
   "outputs": [],
   "source": [
    "## Define function to compute window pair_fst\n",
    "#@functools.lru_cache(maxsize=None)\n",
    "def compute_windowed_pair_fst(pops, filt_pos, size):\n",
    "    # order is irrelevant\n",
    "    pop1, pop2 = pops\n",
    "    ac_pop1 = load_ac(pop=pop1)\n",
    "    ac_pop2 = load_ac(pop=pop2)\n",
    "    loc_pass = ac_pop1.is_segregating() & ac_pop2.is_segregating() & (ac_pop1.max_allele() <= 1) & (ac_pop2.max_allele() <= 1)\n",
    "    # Find selected SNPs pos\n",
    "    pos=filt_pos[loc_pass]\n",
    "    # compute windowed_fst\n",
    "    fst_wind,windows,counts = allel.windowed_hudson_fst(pos, ac_pop1[loc_pass], ac_pop2[loc_pass],size=size)\n",
    "    return fst_wind,windows,counts \n",
    "  \n",
    "def compute_windowed_pairwise_fst(coh_list, pos_filt, size):\n",
    "    pairwise_fst = {}\n",
    "    wind_pairwise_fst = {}\n",
    "    for pop1, pop2 in itertools.combinations(coh_list, 2):\n",
    "        pops = tuple(sorted([pop1, pop2]))\n",
    "        fst, wind, _ = compute_windowed_pair_fst(pops=pops,filt_pos=pos_filt,size=size)\n",
    "        pairwise_fst[f'fst_{pop1}_{pop2}'] = fst\n",
    "        wind_pairwise_fst[f'wind_{pop1}_{pop2}'] = wind\n",
    "    return pairwise_fst, wind_pairwise_fst"
   ]
  },
  {
   "cell_type": "code",
   "execution_count": 18,
   "metadata": {
    "colab": {
     "base_uri": "https://localhost:8080/"
    },
    "executionInfo": {
     "elapsed": 38539,
     "status": "ok",
     "timestamp": 1660134886789,
     "user": {
      "displayName": "Mahamadi Kientega",
      "userId": "09005529550051576731"
     },
     "user_tz": 0
    },
    "id": "ogYI8dNodl4k",
    "outputId": "0b62b474-914a-4227-fe06-e32c5de0546d"
   },
   "outputs": [
    {
     "name": "stdout",
     "output_type": "stream",
     "text": [
      "done\n"
     ]
    }
   ],
   "source": [
    "# compute fst and windows\n",
    "gamb = ['gambiae_2012', 'gambiae_2014', 'gambiae_2015', 'gambiae_2016', 'gambiae_2017']\n",
    "fst_dict_ag, wind_fst_dict_ag = compute_windowed_pairwise_fst(coh_list=gamb, pos_filt=filtered_pos, size=100000) \n",
    "# warp fst data to dataframe\n",
    "df_fst=pd.DataFrame(fst_dict_ag)\n",
    "df_wind=pd.DataFrame(np.mean(wind_fst_dict_ag['wind_gambiae_2012_gambiae_2014'], axis=1), columns=['wind_mean'])\n",
    "data_fst_ag=pd.concat([df_wind, df_fst], axis=1)\n",
    "ag_fst = data_fst_ag.copy()\n",
    "ag_fst[ag_fst<0]=0\n",
    "print('done')\n",
    "\n",
    "# Warp to df\n",
    "data_fst_ag = ag_fst.melt('wind_mean', var_name='year_Pop', value_name='pair_fst')\n",
    "xlim1 = list(ag_fst.wind_mean)"
   ]
  },
  {
   "cell_type": "code",
   "execution_count": 19,
   "metadata": {
    "executionInfo": {
     "elapsed": 4,
     "status": "ok",
     "timestamp": 1660134886789,
     "user": {
      "displayName": "Mahamadi Kientega",
      "userId": "09005529550051576731"
     },
     "user_tz": 0
    },
    "id": "DHCLZn3UgdEX"
   },
   "outputs": [],
   "source": [
    "def plot_fst_year(data=data_fst_ag, figsize=(12,4), ax=None, title = None, xlab=None,\n",
    "                  ylab=None, legend_loc=None, fig_name=None):\n",
    "\n",
    "  if ax is None:\n",
    "    fig, ax = plt.subplots(figsize=figsize)\n",
    "    sns.despine(ax=ax, offset=5)\n",
    "  \n",
    "  #Plot fst\n",
    "  sns.lineplot(x = 'wind_mean', y = 'pair_fst', hue='year_Pop', data=data, ax=ax,  linewidth=.5)\n",
    "  \n",
    "  # set ax title\n",
    "  if title:\n",
    "    ax.set_title (title = f'{title}')\n",
    "  if xlab:\n",
    "    ax.set_xlabel(f'{xlab}')\n",
    "  if ylab:\n",
    "    ax.set_ylabel(f'{ylab}')\n",
    "\n",
    "  #set legend\n",
    "  if legend_loc:\n",
    "    ax.legend(loc='best', bbox_to_anchor=legend_loc)\n",
    "  \n",
    "  # set ax lim\n",
    "  xlim=[xlim1[0], xlim1[-1]]\n",
    "  ax.set_ylim(0,0.25)\n",
    "  ax.set_xlim(*xlim)\n",
    "  ax.set_xticklabels(['{:,}'.format(int(v)) for v in ax.get_xticks()])\n",
    "\n",
    "  # Save fig\n",
    "  if fig_name:\n",
    "    fig.savefig(f\"drive/MyDrive/Genomic/Fst/{fig_name}.png\", dpi=300, bbox_inches='tight')"
   ]
  },
  {
   "cell_type": "code",
   "execution_count": 20,
   "metadata": {
    "executionInfo": {
     "elapsed": 4,
     "status": "ok",
     "timestamp": 1660134886790,
     "user": {
      "displayName": "Mahamadi Kientega",
      "userId": "09005529550051576731"
     },
     "user_tz": 0
    },
    "id": "7DuP9zr-i9Dc"
   },
   "outputs": [],
   "source": [
    "#plot_fst_year(data=data_fst_ag, xlab='Chrom 2L (bp)', ylab='Pairwise $F_{ST}$ in 100kb windows',\n",
    "#              legend_loc=(0.7, 0.2))"
   ]
  },
  {
   "cell_type": "markdown",
   "metadata": {
    "id": "L_8-f12sz7Wo"
   },
   "source": [
    "#### Year to year Fst between An. gambiae ss populations \n",
    "\n"
   ]
  },
  {
   "cell_type": "code",
   "execution_count": 21,
   "metadata": {
    "executionInfo": {
     "elapsed": 36568,
     "status": "ok",
     "timestamp": 1660134923354,
     "user": {
      "displayName": "Mahamadi Kientega",
      "userId": "09005529550051576731"
     },
     "user_tz": 0
    },
    "id": "G9NTd0jwwblt"
   },
   "outputs": [],
   "source": [
    "gamb = ['gambiae_2012', 'gambiae_2014', 'gambiae_2015', 'gambiae_2016', 'gambiae_2017']\n",
    "fst_gamb, se_gamb = compute_pairwise_fst(gamb, blen=100000)\n",
    "#plot_pairwise_fst(fst=fst_gamb, se=se_gamb, pop_coh=gamb, pop_labels=sp_labels)"
   ]
  },
  {
   "cell_type": "code",
   "execution_count": 22,
   "metadata": {
    "colab": {
     "base_uri": "https://localhost:8080/",
     "height": 351
    },
    "executionInfo": {
     "elapsed": 1499,
     "status": "ok",
     "timestamp": 1660134924818,
     "user": {
      "displayName": "Mahamadi Kientega",
      "userId": "09005529550051576731"
     },
     "user_tz": 0
    },
    "id": "LHUso9KQ5Phy",
    "outputId": "b98cfa44-9adb-487f-ff25-17de9fbacf5d"
   },
   "outputs": [
    {
     "data": {
      "image/png": "[encoded data removed]",
      "text/plain": [
       "<Figure size 504x288 with 1 Axes>"
      ]
     },
     "metadata": {
      "needs_background": "light"
     },
     "output_type": "display_data"
    }
   ],
   "source": [
    "plot_pairwise_fst(fst=fst_gamb, se=se_gamb, pop_coh=gamb, pop_labels=sp_labels, fig_name='Ag_2L_yty_fst')"
   ]
  },
  {
   "cell_type": "code",
   "execution_count": 23,
   "metadata": {
    "colab": {
     "base_uri": "https://localhost:8080/",
     "height": 288
    },
    "executionInfo": {
     "elapsed": 2284,
     "status": "ok",
     "timestamp": 1660134927093,
     "user": {
      "displayName": "Mahamadi Kientega",
      "userId": "09005529550051576731"
     },
     "user_tz": 0
    },
    "id": "dCzSYazXCp3v",
    "outputId": "605ce00c-c6b6-4ffa-850e-b0405867ae51"
   },
   "outputs": [
    {
     "data": {
      "image/png": "[encoded data removed]",
      "text/plain": [
       "<Figure size 864x288 with 1 Axes>"
      ]
     },
     "metadata": {
      "needs_background": "light"
     },
     "output_type": "display_data"
    }
   ],
   "source": [
    "## Compute An. gambiae Fst \n",
    "fig, ax = plt.subplots(figsize=(12, 4))\n",
    "sns.despine(ax=ax, offset=5)\n",
    "plot_fst_year(data=data_fst_ag, ax=ax, xlab='Chrom 2L (bp)', ylab='Pairwise $F_{ST}$ in 100kb windows', \n",
    "              legend_loc=(0.7, 0.2))\n",
    "\n",
    "#ax.axvspan(2358158, 2431617, color='magenta', alpha=0.2, lw=0.3)\n",
    "ax.annotate('$vgsc$ region', xy=(2431617, 0.08), xytext=(600000, 0.15), \n",
    "            color='darkred', arrowprops=dict(arrowstyle=\"->\", color='slategrey'))\n",
    "\n",
    "#ax.axvspan(25363652, 25434556, color='magenta', alpha=0.2, lw=0.3)\n",
    "ax.annotate('$rdl$ region', xy=(np.mean([25363652, 25434556]), 0.03), xytext=(23500000, 0.1), \n",
    "            color='darkred', arrowprops=dict(arrowstyle=\"->\", color='slategrey'))\n",
    "\n",
    "# Save fig\n",
    "fig.savefig(f\"drive/MyDrive/Genomic/Fst/Ag_2L_window_yty_fst.png\", dpi=300, bbox_inches='tight')"
   ]
  },
  {
   "cell_type": "markdown",
   "metadata": {
    "id": "ccH2aD880XaI"
   },
   "source": [
    "### Year to Year Fst between An. coluzzii population "
   ]
  },
  {
   "cell_type": "code",
   "execution_count": 24,
   "metadata": {
    "executionInfo": {
     "elapsed": 36346,
     "status": "ok",
     "timestamp": 1660134963428,
     "user": {
      "displayName": "Mahamadi Kientega",
      "userId": "09005529550051576731"
     },
     "user_tz": 0
    },
    "id": "2KMay9fz1QJz"
   },
   "outputs": [],
   "source": [
    "coluzzii = ['coluzzii_2012', 'coluzzii_2014', 'coluzzii_2015', 'coluzzii_2016', 'coluzzii_2017']\n",
    "fst_coluzzii, se_coluzzii = compute_pairwise_fst(coluzzii, blen=100000)"
   ]
  },
  {
   "cell_type": "code",
   "execution_count": 25,
   "metadata": {
    "colab": {
     "base_uri": "https://localhost:8080/",
     "height": 346
    },
    "executionInfo": {
     "elapsed": 1503,
     "status": "ok",
     "timestamp": 1660134964893,
     "user": {
      "displayName": "Mahamadi Kientega",
      "userId": "09005529550051576731"
     },
     "user_tz": 0
    },
    "id": "_g4kb0hw5YF3",
    "outputId": "e64a9812-6a90-4f64-db81-55b59ed6b618"
   },
   "outputs": [
    {
     "data": {
      "image/png": "[encoded data removed]",
      "text/plain": [
       "<Figure size 504x288 with 1 Axes>"
      ]
     },
     "metadata": {
      "needs_background": "light"
     },
     "output_type": "display_data"
    }
   ],
   "source": [
    "plot_pairwise_fst(fst=fst_coluzzii, se=se_coluzzii, pop_coh=coluzzii, pop_labels=sp_labels, fig_name='Ac_2L_yty_fst')"
   ]
  },
  {
   "cell_type": "code",
   "execution_count": 26,
   "metadata": {
    "colab": {
     "base_uri": "https://localhost:8080/"
    },
    "executionInfo": {
     "elapsed": 37341,
     "status": "ok",
     "timestamp": 1660135002228,
     "user": {
      "displayName": "Mahamadi Kientega",
      "userId": "09005529550051576731"
     },
     "user_tz": 0
    },
    "id": "wOxmcdLh_pf8",
    "outputId": "32122b3b-5501-4629-dbf2-4d1bb8cfb9b8"
   },
   "outputs": [
    {
     "name": "stdout",
     "output_type": "stream",
     "text": [
      "done\n"
     ]
    }
   ],
   "source": [
    "# compute fst and windows\n",
    "coluzzii = ['coluzzii_2012', 'coluzzii_2014', 'coluzzii_2015', 'coluzzii_2016', 'coluzzii_2017']\n",
    "fst_dict_ac, wind_fst_dict_ac = compute_windowed_pairwise_fst(coh_list=coluzzii, pos_filt=filtered_pos, size=100000) \n",
    "# warp fst data to dataframe\n",
    "df_fst=pd.DataFrame(fst_dict_ac)\n",
    "df_wind=pd.DataFrame(np.mean(wind_fst_dict_ac['wind_coluzzii_2012_coluzzii_2014'], axis=1), columns=['wind_mean'])\n",
    "data_fst_ac=pd.concat([df_wind, df_fst], axis=1)\n",
    "ac_fst = data_fst_ac.copy()\n",
    "ac_fst[ac_fst<0]=0\n",
    "print('done')\n",
    "\n",
    "# Warp to df\n",
    "data_fst_ac = ac_fst.melt('wind_mean', var_name='year_Pop', value_name='pair_fst')\n",
    "xlim1 = list(ac_fst.wind_mean)"
   ]
  },
  {
   "cell_type": "code",
   "execution_count": 27,
   "metadata": {
    "colab": {
     "base_uri": "https://localhost:8080/",
     "height": 288
    },
    "executionInfo": {
     "elapsed": 1948,
     "status": "ok",
     "timestamp": 1660135004169,
     "user": {
      "displayName": "Mahamadi Kientega",
      "userId": "09005529550051576731"
     },
     "user_tz": 0
    },
    "id": "4InnSN8ZBq-z",
    "outputId": "f766f72e-53b0-46c6-bd43-32b165fba7c2"
   },
   "outputs": [
    {
     "data": {
      "image/png": "[encoded data removed]",
      "text/plain": [
       "<Figure size 864x288 with 1 Axes>"
      ]
     },
     "metadata": {
      "needs_background": "light"
     },
     "output_type": "display_data"
    }
   ],
   "source": [
    "# Compute An. coluzzii Fst \n",
    "fig, ax = plt.subplots(figsize=(12, 4))\n",
    "sns.despine(ax=ax, offset=5)\n",
    "plot_fst_year(data=data_fst_ac, ax=ax, xlab='Chrom 2L (bp)', ylab='Pairwise $F_{ST}$ in 100kb windows', legend_loc=(0.7, 0.2))\n",
    "\n",
    "#ax.axvspan(2358158, 2431617, color='magenta', alpha=0.2, lw=0.3)\n",
    "ax.annotate('$vgsc$ region', xy=(2431617, 0.11), xytext=(600000, 0.15), \n",
    "            color='darkred', arrowprops=dict(arrowstyle=\"->\", color='slategrey'))\n",
    "\n",
    "#ax.axvspan(25363652, 25434556, color='magenta', alpha=0.2, lw=0.3)\n",
    "ax.annotate('$rdl$ region', xy=(np.mean([25363652, 25434556]), 0.03), xytext=(23500000, 0.1), \n",
    "            color='darkred', arrowprops=dict(arrowstyle=\"->\", color='slategrey'))\n",
    "\n",
    "# Save fig\n",
    "fig.savefig(f\"drive/MyDrive/Genomic/Fst/Ac_2L_window_yty_fst.png\", dpi=300, bbox_inches='tight')"
   ]
  },
  {
   "cell_type": "markdown",
   "metadata": {
    "id": "6A3rx8SR1vPS"
   },
   "source": [
    "### Year to Year Fst between *An. arabiensis* population "
   ]
  },
  {
   "cell_type": "code",
   "execution_count": 28,
   "metadata": {
    "executionInfo": {
     "elapsed": 8635,
     "status": "ok",
     "timestamp": 1660135012799,
     "user": {
      "displayName": "Mahamadi Kientega",
      "userId": "09005529550051576731"
     },
     "user_tz": 0
    },
    "id": "0EnvIrEYylpy"
   },
   "outputs": [],
   "source": [
    "arabiensis = ['arabiensis_2014', 'arabiensis_2015', 'arabiensis_2016']\n",
    "fst_arabiensis, se_arabiensis = compute_pairwise_fst(arabiensis, blen=100000)"
   ]
  },
  {
   "cell_type": "code",
   "execution_count": 29,
   "metadata": {
    "colab": {
     "base_uri": "https://localhost:8080/",
     "height": 358
    },
    "executionInfo": {
     "elapsed": 1612,
     "status": "ok",
     "timestamp": 1660135014401,
     "user": {
      "displayName": "Mahamadi Kientega",
      "userId": "09005529550051576731"
     },
     "user_tz": 0
    },
    "id": "EU_mxdHn5ctr",
    "outputId": "bebe8cd4-2098-4635-9147-4531e6baaa20"
   },
   "outputs": [
    {
     "data": {
      "image/png": "[encoded data removed]",
      "text/plain": [
       "<Figure size 504x288 with 1 Axes>"
      ]
     },
     "metadata": {
      "needs_background": "light"
     },
     "output_type": "display_data"
    }
   ],
   "source": [
    "plot_pairwise_fst(fst=fst_arabiensis, se=se_arabiensis, pop_coh=arabiensis, pop_labels=sp_labels, fig_name='Aa_2L_yty_fst')"
   ]
  },
  {
   "cell_type": "code",
   "execution_count": 30,
   "metadata": {
    "colab": {
     "base_uri": "https://localhost:8080/"
    },
    "executionInfo": {
     "elapsed": 9208,
     "status": "ok",
     "timestamp": 1660135023600,
     "user": {
      "displayName": "Mahamadi Kientega",
      "userId": "09005529550051576731"
     },
     "user_tz": 0
    },
    "id": "KmFSLVP0A6pc",
    "outputId": "ddae9bff-6c8d-4883-b63c-020570134f9a"
   },
   "outputs": [
    {
     "name": "stdout",
     "output_type": "stream",
     "text": [
      "done\n"
     ]
    }
   ],
   "source": [
    "# compute fst and windows\n",
    "arabiensis = ['arabiensis_2014', 'arabiensis_2015', 'arabiensis_2016']\n",
    "fst_dict_aa, wind_fst_dict_aa = compute_windowed_pairwise_fst(coh_list=arabiensis, pos_filt=filtered_pos, size=100000) \n",
    "# warp fst data to dataframe\n",
    "df_fst=pd.DataFrame(fst_dict_aa)\n",
    "df_wind=pd.DataFrame(np.mean(wind_fst_dict_aa['wind_arabiensis_2014_arabiensis_2015'], axis=1), columns=['wind_mean'])\n",
    "data_fst_aa=pd.concat([df_wind, df_fst], axis=1)\n",
    "aa_fst = data_fst_aa.copy()\n",
    "aa_fst[aa_fst<0]=0\n",
    "print('done')\n",
    "\n",
    "# Warp to df\n",
    "data_fst_aa = aa_fst.melt('wind_mean', var_name='year_Pop', value_name='pair_fst')\n",
    "xlim1 = list(aa_fst.wind_mean)"
   ]
  },
  {
   "cell_type": "code",
   "execution_count": 31,
   "metadata": {
    "colab": {
     "base_uri": "https://localhost:8080/",
     "height": 288
    },
    "executionInfo": {
     "elapsed": 1240,
     "status": "ok",
     "timestamp": 1660135024830,
     "user": {
      "displayName": "Mahamadi Kientega",
      "userId": "09005529550051576731"
     },
     "user_tz": 0
    },
    "id": "NN95IH6bB4y0",
    "outputId": "d07059ab-c845-4d95-88df-3c838e5d5eec"
   },
   "outputs": [
    {
     "data": {
      "image/png": "[encoded data removed]",
      "text/plain": [
       "<Figure size 864x288 with 1 Axes>"
      ]
     },
     "metadata": {
      "needs_background": "light"
     },
     "output_type": "display_data"
    }
   ],
   "source": [
    "fig, ax = plt.subplots(figsize=(12, 4))\n",
    "sns.despine(ax=ax, offset=5)\n",
    "plot_fst_year(data=data_fst_aa, ax=ax, xlab='Chrom 2L (bp)', ylab='Pairwise $F_{ST}$ in 100kb windows', legend_loc=(0.7, 0.5))\n",
    "\n",
    "#ax.axvspan(2358158, 2431617, color='magenta', alpha=0.2, lw=0.3)\n",
    "#ax.annotate('$vgsc$ region', xy=(2431617, 0.08), xytext=(600000, 0.15), \n",
    "            #color='darkred', arrowprops=dict(arrowstyle=\"->\", color='crimson'))\n",
    "\n",
    "#ax.axvspan(25363652, 25434556, color='magenta', alpha=0.2, lw=0.3)\n",
    "#ax.annotate('$rdl$ region', xy=(np.mean([25363652, 25434556]), 0.03), xytext=(23000000, 0.1), \n",
    "#            color='darkred', arrowprops=dict(arrowstyle=\"->\", color='crimson'))\n",
    "\n",
    "# Save fig\n",
    "fig.savefig(f\"drive/MyDrive/Genomic/Fst/Aa_2L_window_yty_fst.png\", dpi=300, bbox_inches='tight')"
   ]
  },
  {
   "cell_type": "markdown",
   "metadata": {
    "id": "z1dFLJ5-5k_n"
   },
   "source": [
    "##Conclusion   \n",
    "\n",
    "These results showed a weak year to year differentiation of the An. coluzzii population.  \n",
    "The others populations (An. gambiae ss and An. arabiensis) may exhibit a year to year differentiation but at a very slow pace, undetectable in our data.  "
   ]
  },
  {
   "cell_type": "markdown",
   "metadata": {
    "id": "IdBlH36oyWMV"
   },
   "source": [
    "# Save data"
   ]
  },
  {
   "cell_type": "code",
   "execution_count": 33,
   "metadata": {
    "colab": {
     "base_uri": "https://localhost:8080/"
    },
    "executionInfo": {
     "elapsed": 361,
     "status": "ok",
     "timestamp": 1660135604814,
     "user": {
      "displayName": "Mahamadi Kientega",
      "userId": "09005529550051576731"
     },
     "user_tz": 0
    },
    "id": "SWcLCaYn0i4s",
    "outputId": "9b1f158e-a171-4404-efe7-2d07ee56268d"
   },
   "outputs": [
    {
     "name": "stdout",
     "output_type": "stream",
     "text": [
      "Done...!\n"
     ]
    }
   ],
   "source": [
    "## Save window fst data \n",
    "data_fst_ag.to_csv('drive/MyDrive/Genomic/Fst/data_fst/2L_window_gambiae_fst.csv')\n",
    "data_fst_ac.to_csv('drive/MyDrive/Genomic/Fst/data_fst/2L_window_coluzzii_fst.csv')\n",
    "data_fst_aa.to_csv('drive/MyDrive/Genomic/Fst/data_fst/2L_window_arabiensis_fst.csv')\n",
    "\n",
    "## Save year to year fst data \n",
    "yty_fst_gambiae = np.array([fst_gamb, se_gamb])\n",
    "np.save('drive/MyDrive/Genomic/Fst/data_fst/2L_yty_fst_gambiae', yty_fst_gambiae)\n",
    "yty_fst_coluzzii = np.array([fst_coluzzii, se_coluzzii ])\n",
    "np.save('drive/MyDrive/Genomic/Fst/data_fst/2L_yty_fst_coluzzii', yty_fst_coluzzii)\n",
    "yty_fst_arabiensis = np.array([fst_arabiensis, se_arabiensis])\n",
    "np.save('drive/MyDrive/Genomic/Fst/data_fst/2L_yty_fst_arab', yty_fst_arabiensis)\n",
    "print('Done...!')"
   ]
  }
 ],
 "metadata": {
  "colab": {
   "collapsed_sections": [],
   "name": "2L_fst_by_year.ipynb",
   "provenance": [
    {
     "file_id": "1IEiE-Dp0Zxly_M_5ZBMf-oBdIu8Gx8Lw",
     "timestamp": 1649158009113
    },
    {
     "file_id": "1OK9LX5Fu9YwAr9xaWD2KV46OEBMq2LAR",
     "timestamp": 1648665759402
    },
    {
     "file_id": "1PR9qYe7-YY_1ClVCDS8k6-hbhOzuI8UE",
     "timestamp": 1648660320702
    },
    {
     "file_id": "1epngoLpj6gb7fx7TX88EUGaXrvh6ousC",
     "timestamp": 1648481940248
    },
    {
     "file_id": "1b-L4Q3sYhC22B6SkRbK7otOeRjDgmBko",
     "timestamp": 1647622276416
    },
    {
     "file_id": "19amoJl5xCzxYHZFyXe4adndUxP2oVVJQ",
     "timestamp": 1647520622527
    },
    {
     "file_id": "1D8TW3w9XCWXgic9XhpRB536XOzpTp4tT",
     "timestamp": 1647513242536
    }
   ]
  },
  "kernelspec": {
   "display_name": "Python 3 (ipykernel)",
   "language": "python",
   "name": "python3"
  },
  "language_info": {
   "codemirror_mode": {
    "name": "ipython",
    "version": 3
   },
   "file_extension": ".py",
   "mimetype": "text/x-python",
   "name": "python",
   "nbconvert_exporter": "python",
   "pygments_lexer": "ipython3",
   "version": "3.12.3"
  },
  "widgets": {
   "application/vnd.jupyter.widget-state+json": {
    "060f3135bf3249e7bffeca52c71f84f3": {
     "model_module": "@jupyter-widgets/controls",
     "model_module_version": "1.5.0",
     "model_name": "ProgressStyleModel",
     "state": {
      "_model_module": "@jupyter-widgets/controls",
      "_model_module_version": "1.5.0",
      "_model_name": "ProgressStyleModel",
      "_view_count": null,
      "_view_module": "@jupyter-widgets/base",
      "_view_module_version": "1.2.0",
      "_view_name": "StyleView",
      "bar_color": null,
      "description_width": ""
     }
    },
    "19fec39d17544647a7f6cde3823a8944": {
     "model_module": "@jupyter-widgets/base",
     "model_module_version": "1.2.0",
     "model_name": "LayoutModel",
     "state": {
      "_model_module": "@jupyter-widgets/base",
      "_model_module_version": "1.2.0",
      "_model_name": "LayoutModel",
      "_view_count": null,
      "_view_module": "@jupyter-widgets/base",
      "_view_module_version": "1.2.0",
      "_view_name": "LayoutView",
      "align_content": null,
      "align_items": null,
      "align_self": null,
      "border": null,
      "bottom": null,
      "display": null,
      "flex": null,
      "flex_flow": null,
      "grid_area": null,
      "grid_auto_columns": null,
      "grid_auto_flow": null,
      "grid_auto_rows": null,
      "grid_column": null,
      "grid_gap": null,
      "grid_row": null,
      "grid_template_areas": null,
      "grid_template_columns": null,
      "grid_template_rows": null,
      "height": null,
      "justify_content": null,
      "justify_items": null,
      "left": null,
      "margin": null,
      "max_height": null,
      "max_width": null,
      "min_height": null,
      "min_width": null,
      "object_fit": null,
      "object_position": null,
      "order": null,
      "overflow": null,
      "overflow_x": null,
      "overflow_y": null,
      "padding": null,
      "right": null,
      "top": null,
      "visibility": null,
      "width": null
     }
    },
    "1ec46c4cfff24020923cc4dcbe09dda4": {
     "model_module": "@jupyter-widgets/controls",
     "model_module_version": "1.5.0",
     "model_name": "HBoxModel",
     "state": {
      "_dom_classes": [],
      "_model_module": "@jupyter-widgets/controls",
      "_model_module_version": "1.5.0",
      "_model_name": "HBoxModel",
      "_view_count": null,
      "_view_module": "@jupyter-widgets/controls",
      "_view_module_version": "1.5.0",
      "_view_name": "HBoxView",
      "box_style": "",
      "children": [
       "IPY_MODEL_b1c61ed73ae7456391fdbcbd9bcf77ec",
       "IPY_MODEL_d52d0044928f4b919285c3357dc4eebd",
       "IPY_MODEL_b2c21e8d784c4d30a2aed8723815fb03"
      ],
      "layout": "IPY_MODEL_19fec39d17544647a7f6cde3823a8944"
     }
    },
    "548f3409e74f414c943b2604ac468dd1": {
     "model_module": "@jupyter-widgets/base",
     "model_module_version": "1.2.0",
     "model_name": "LayoutModel",
     "state": {
      "_model_module": "@jupyter-widgets/base",
      "_model_module_version": "1.2.0",
      "_model_name": "LayoutModel",
      "_view_count": null,
      "_view_module": "@jupyter-widgets/base",
      "_view_module_version": "1.2.0",
      "_view_name": "LayoutView",
      "align_content": null,
      "align_items": null,
      "align_self": null,
      "border": null,
      "bottom": null,
      "display": null,
      "flex": null,
      "flex_flow": null,
      "grid_area": null,
      "grid_auto_columns": null,
      "grid_auto_flow": null,
      "grid_auto_rows": null,
      "grid_column": null,
      "grid_gap": null,
      "grid_row": null,
      "grid_template_areas": null,
      "grid_template_columns": null,
      "grid_template_rows": null,
      "height": null,
      "justify_content": null,
      "justify_items": null,
      "left": null,
      "margin": null,
      "max_height": null,
      "max_width": null,
      "min_height": null,
      "min_width": null,
      "object_fit": null,
      "object_position": null,
      "order": null,
      "overflow": null,
      "overflow_x": null,
      "overflow_y": null,
      "padding": null,
      "right": null,
      "top": null,
      "visibility": null,
      "width": null
     }
    },
    "5ba267a0aefe47d5b998f0aa05318447": {
     "model_module": "@jupyter-widgets/base",
     "model_module_version": "1.2.0",
     "model_name": "LayoutModel",
     "state": {
      "_model_module": "@jupyter-widgets/base",
      "_model_module_version": "1.2.0",
      "_model_name": "LayoutModel",
      "_view_count": null,
      "_view_module": "@jupyter-widgets/base",
      "_view_module_version": "1.2.0",
      "_view_name": "LayoutView",
      "align_content": null,
      "align_items": null,
      "align_self": null,
      "border": null,
      "bottom": null,
      "display": null,
      "flex": null,
      "flex_flow": null,
      "grid_area": null,
      "grid_auto_columns": null,
      "grid_auto_flow": null,
      "grid_auto_rows": null,
      "grid_column": null,
      "grid_gap": null,
      "grid_row": null,
      "grid_template_areas": null,
      "grid_template_columns": null,
      "grid_template_rows": null,
      "height": null,
      "justify_content": null,
      "justify_items": null,
      "left": null,
      "margin": null,
      "max_height": null,
      "max_width": null,
      "min_height": null,
      "min_width": null,
      "object_fit": null,
      "object_position": null,
      "order": null,
      "overflow": null,
      "overflow_x": null,
      "overflow_y": null,
      "padding": null,
      "right": null,
      "top": null,
      "visibility": null,
      "width": null
     }
    },
    "981a3473435b48a1884ff8b5d62c2798": {
     "model_module": "@jupyter-widgets/controls",
     "model_module_version": "1.5.0",
     "model_name": "DescriptionStyleModel",
     "state": {
      "_model_module": "@jupyter-widgets/controls",
      "_model_module_version": "1.5.0",
      "_model_name": "DescriptionStyleModel",
      "_view_count": null,
      "_view_module": "@jupyter-widgets/base",
      "_view_module_version": "1.2.0",
      "_view_name": "StyleView",
      "description_width": ""
     }
    },
    "b1c61ed73ae7456391fdbcbd9bcf77ec": {
     "model_module": "@jupyter-widgets/controls",
     "model_module_version": "1.5.0",
     "model_name": "HTMLModel",
     "state": {
      "_dom_classes": [],
      "_model_module": "@jupyter-widgets/controls",
      "_model_module_version": "1.5.0",
      "_model_name": "HTMLModel",
      "_view_count": null,
      "_view_module": "@jupyter-widgets/controls",
      "_view_module_version": "1.5.0",
      "_view_name": "HTMLView",
      "description": "",
      "description_tooltip": null,
      "layout": "IPY_MODEL_548f3409e74f414c943b2604ac468dd1",
      "placeholder": "​",
      "style": "IPY_MODEL_c771f46903654bb38406cb0ace0a6922",
      "value": "Load sample metadata: 100%"
     }
    },
    "b2c21e8d784c4d30a2aed8723815fb03": {
     "model_module": "@jupyter-widgets/controls",
     "model_module_version": "1.5.0",
     "model_name": "HTMLModel",
     "state": {
      "_dom_classes": [],
      "_model_module": "@jupyter-widgets/controls",
      "_model_module_version": "1.5.0",
      "_model_name": "HTMLModel",
      "_view_count": null,
      "_view_module": "@jupyter-widgets/controls",
      "_view_module_version": "1.5.0",
      "_view_name": "HTMLView",
      "description": "",
      "description_tooltip": null,
      "layout": "IPY_MODEL_5ba267a0aefe47d5b998f0aa05318447",
      "placeholder": "​",
      "style": "IPY_MODEL_981a3473435b48a1884ff8b5d62c2798",
      "value": " 5/5 [00:02&lt;00:00,  3.33it/s]"
     }
    },
    "c771f46903654bb38406cb0ace0a6922": {
     "model_module": "@jupyter-widgets/controls",
     "model_module_version": "1.5.0",
     "model_name": "DescriptionStyleModel",
     "state": {
      "_model_module": "@jupyter-widgets/controls",
      "_model_module_version": "1.5.0",
      "_model_name": "DescriptionStyleModel",
      "_view_count": null,
      "_view_module": "@jupyter-widgets/base",
      "_view_module_version": "1.2.0",
      "_view_name": "StyleView",
      "description_width": ""
     }
    },
    "d52d0044928f4b919285c3357dc4eebd": {
     "model_module": "@jupyter-widgets/controls",
     "model_module_version": "1.5.0",
     "model_name": "FloatProgressModel",
     "state": {
      "_dom_classes": [],
      "_model_module": "@jupyter-widgets/controls",
      "_model_module_version": "1.5.0",
      "_model_name": "FloatProgressModel",
      "_view_count": null,
      "_view_module": "@jupyter-widgets/controls",
      "_view_module_version": "1.5.0",
      "_view_name": "ProgressView",
      "bar_style": "success",
      "description": "",
      "description_tooltip": null,
      "layout": "IPY_MODEL_fd90461fb56644c98af790696a52e659",
      "max": 5,
      "min": 0,
      "orientation": "horizontal",
      "style": "IPY_MODEL_060f3135bf3249e7bffeca52c71f84f3",
      "value": 5
     }
    },
    "fd90461fb56644c98af790696a52e659": {
     "model_module": "@jupyter-widgets/base",
     "model_module_version": "1.2.0",
     "model_name": "LayoutModel",
     "state": {
      "_model_module": "@jupyter-widgets/base",
      "_model_module_version": "1.2.0",
      "_model_name": "LayoutModel",
      "_view_count": null,
      "_view_module": "@jupyter-widgets/base",
      "_view_module_version": "1.2.0",
      "_view_name": "LayoutView",
      "align_content": null,
      "align_items": null,
      "align_self": null,
      "border": null,
      "bottom": null,
      "display": null,
      "flex": null,
      "flex_flow": null,
      "grid_area": null,
      "grid_auto_columns": null,
      "grid_auto_flow": null,
      "grid_auto_rows": null,
      "grid_column": null,
      "grid_gap": null,
      "grid_row": null,
      "grid_template_areas": null,
      "grid_template_columns": null,
      "grid_template_rows": null,
      "height": null,
      "justify_content": null,
      "justify_items": null,
      "left": null,
      "margin": null,
      "max_height": null,
      "max_width": null,
      "min_height": null,
      "min_width": null,
      "object_fit": null,
      "object_position": null,
      "order": null,
      "overflow": null,
      "overflow_x": null,
      "overflow_y": null,
      "padding": null,
      "right": null,
      "top": null,
      "visibility": null,
      "width": null
     }
    }
   }
  }
 },
 "nbformat": 4,
 "nbformat_minor": 4
}
