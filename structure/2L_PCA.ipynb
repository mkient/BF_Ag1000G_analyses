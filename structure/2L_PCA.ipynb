{
 "cells": [
  {
   "cell_type": "markdown",
   "metadata": {
    "id": "3UrQMDiTXghY"
   },
   "source": [
    "# Compute PCA within the 2L chrom"
   ]
  },
  {
   "cell_type": "code",
   "execution_count": null,
   "metadata": {
    "colab": {
     "base_uri": "https://localhost:8080/"
    },
    "executionInfo": {
     "elapsed": 32952,
     "status": "ok",
     "timestamp": 1669113262400,
     "user": {
      "displayName": "Mahamadi Kientega",
      "userId": "09005529550051576731"
     },
     "user_tz": 0
    },
    "id": "_r-bZjefXM7e",
    "outputId": "1dfc82b2-26dc-425e-c154-3fb5152f53b3"
   },
   "outputs": [
    {
     "name": "stdout",
     "output_type": "stream",
     "text": [
      "\u001b[?25l\r",
      "\u001b[K     |███▎                            | 10 kB 25.0 MB/s eta 0:00:01\r",
      "\u001b[K     |██████▌                         | 20 kB 29.8 MB/s eta 0:00:01\r",
      "\u001b[K     |█████████▉                      | 30 kB 39.2 MB/s eta 0:00:01\r",
      "\u001b[K     |█████████████                   | 40 kB 27.4 MB/s eta 0:00:01\r",
      "\u001b[K     |████████████████▎               | 51 kB 31.5 MB/s eta 0:00:01\r",
      "\u001b[K     |███████████████████▋            | 61 kB 35.9 MB/s eta 0:00:01\r",
      "\u001b[K     |██████████████████████▉         | 71 kB 29.6 MB/s eta 0:00:01\r",
      "\u001b[K     |██████████████████████████      | 81 kB 32.0 MB/s eta 0:00:01\r",
      "\u001b[K     |█████████████████████████████▍  | 92 kB 30.7 MB/s eta 0:00:01\r",
      "\u001b[K     |████████████████████████████████| 100 kB 9.2 MB/s \n",
      "\u001b[K     |████████████████████████████████| 301 kB 69.0 MB/s \n",
      "\u001b[K     |████████████████████████████████| 3.6 MB 54.2 MB/s \n",
      "\u001b[K     |████████████████████████████████| 185 kB 53.3 MB/s \n",
      "\u001b[K     |████████████████████████████████| 3.7 MB 67.0 MB/s \n",
      "\u001b[K     |████████████████████████████████| 9.9 MB 51.0 MB/s \n",
      "\u001b[K     |████████████████████████████████| 5.7 MB 64.8 MB/s \n",
      "\u001b[K     |████████████████████████████████| 3.0 MB 58.7 MB/s \n",
      "\u001b[K     |████████████████████████████████| 55 kB 3.5 MB/s \n",
      "\u001b[K     |████████████████████████████████| 1.6 MB 66.9 MB/s \n",
      "\u001b[K     |████████████████████████████████| 6.6 MB 52.8 MB/s \n",
      "\u001b[?25h  Building wheel for retrying (setup.py) ... \u001b[?25l\u001b[?25hdone\n",
      "  Building wheel for asciitree (setup.py) ... \u001b[?25l\u001b[?25hdone\n",
      "\u001b[K     |████████████████████████████████| 408 kB 26.2 MB/s \n",
      "\u001b[?25h  Installing build dependencies ... \u001b[?25l\u001b[?25hdone\n",
      "  Getting requirements to build wheel ... \u001b[?25l\u001b[?25hdone\n",
      "    Preparing wheel metadata ... \u001b[?25l\u001b[?25hdone\n",
      "  Building wheel for petl (PEP 517) ... \u001b[?25l\u001b[?25hdone\n"
     ]
    }
   ],
   "source": [
    "!pip install -q malariagen_data\n",
    "!pip install -q scikit-allel\n",
    "!pip install -q petl"
   ]
  },
  {
   "cell_type": "markdown",
   "metadata": {
    "id": "SgxvcSHGX0eW"
   },
   "source": [
    "### importing necessary package"
   ]
  },
  {
   "cell_type": "code",
   "execution_count": null,
   "metadata": {
    "id": "ECFgL8yDXakn"
   },
   "outputs": [],
   "source": [
    "import allel\n",
    "import malariagen_data\n",
    "import numpy as np\n",
    "import pandas as pd\n",
    "import dask\n",
    "import dask.array as da\n",
    "# silence some dask warnings\n",
    "dask.config.set(**{'array.slicing.split_large_chunks': True})\n",
    "from dask.diagnostics.progress import ProgressBar"
   ]
  },
  {
   "cell_type": "code",
   "execution_count": null,
   "metadata": {
    "id": "nVFl0IwmU2m5"
   },
   "outputs": [],
   "source": [
    "import random\n",
    "#import functools\n",
    "#import petl as ptl\n",
    "#import itertools\n",
    "import scipy\n",
    "from pathlib import Path\n",
    "from collections import Counter"
   ]
  },
  {
   "cell_type": "code",
   "execution_count": null,
   "metadata": {
    "id": "77zlahrtl8fp"
   },
   "outputs": [],
   "source": [
    "# plotting setup\n",
    "import matplotlib as mpl\n",
    "import matplotlib.pyplot as plt\n",
    "from matplotlib.colors import ListedColormap\n",
    "from matplotlib.gridspec import GridSpec\n",
    "import matplotlib_venn as venn\n",
    "import seaborn as sns"
   ]
  },
  {
   "cell_type": "code",
   "execution_count": 20,
   "metadata": {
    "colab": {
     "base_uri": "https://localhost:8080/"
    },
    "executionInfo": {
     "elapsed": 21118,
     "status": "ok",
     "timestamp": 1669121488749,
     "user": {
      "displayName": "Mahamadi Kientega",
      "userId": "09005529550051576731"
     },
     "user_tz": 0
    },
    "id": "5hKQ24R9qiGI",
    "outputId": "0ae4a790-10db-4c6d-cd23-42e4a1bd17c0"
   },
   "outputs": [
    {
     "name": "stdout",
     "output_type": "stream",
     "text": [
      "Mounted at drive\n"
     ]
    }
   ],
   "source": [
    "#Mounting Google Drive\n",
    "import os\n",
    "from google.colab import drive\n",
    "drive.mount(\"drive\")\n",
    "\n",
    "# make dir \n",
    "results_dir = \"drive/MyDrive/Genomic/\"\n",
    "os.makedirs(results_dir, exist_ok=True)"
   ]
  },
  {
   "cell_type": "markdown",
   "metadata": {
    "id": "S-MllSLqYD9J"
   },
   "source": [
    "Importing malariagen data set    \n",
    "Let's select the the sample set from "
   ]
  },
  {
   "cell_type": "code",
   "execution_count": null,
   "metadata": {
    "colab": {
     "base_uri": "https://localhost:8080/",
     "height": 49,
     "referenced_widgets": [
      "1b8401ef35e0403586c7f35c4fd3dc58",
      "67d1ebd7aa5c45ab97e1f8d55ec7c23a",
      "c152f47f2dcc4287aa4a2d0f9aa2e96d",
      "77a12bf192154412bce5587eef302b3e",
      "7d6b9fb7e49543cda7917ea55b3a743e",
      "750c459c869849ae8c7d41077352d279",
      "f95167af3de54da193a98fee1f941774",
      "6f98a9275a9f4ddfa2c09c8b35820a7b",
      "197b0f09eb754365a15a0a8bf3f786db",
      "0107e0a81841466d81527f7170bfa8e9",
      "5df5f67f11f8452e902d107b05733bcf"
     ]
    },
    "executionInfo": {
     "elapsed": 2815,
     "status": "ok",
     "timestamp": 1669113269765,
     "user": {
      "displayName": "Mahamadi Kientega",
      "userId": "09005529550051576731"
     },
     "user_tz": 0
    },
    "id": "BFTWJ7ILXaqJ",
    "outputId": "a80bda17-7bbf-4daa-82e3-7264bdd811e7"
   },
   "outputs": [
    {
     "data": {
      "application/vnd.jupyter.widget-view+json": {
       "model_id": "1b8401ef35e0403586c7f35c4fd3dc58",
       "version_major": 2,
       "version_minor": 0
      },
      "text/plain": [
       "Load sample metadata:   0%|          | 0/5 [00:00<?, ?it/s]"
      ]
     },
     "metadata": {},
     "output_type": "display_data"
    }
   ],
   "source": [
    "ag3 = malariagen_data.Ag3(\"gs://vo_agam_release/\", pre=True)\n",
    "#ag3\n",
    "sets = [\"1191-VO-MULTI-OLOUGHLIN-VMF00106\", \"1191-VO-MULTI-OLOUGHLIN-VMF00140\", \n",
    "             \"AG1000G-BF-A\", \"AG1000G-BF-B\", \"AG1000G-BF-C\"]\n",
    "df_samples = ag3.sample_metadata(sample_sets=sets)#.set_index(\"sample_id\")\n",
    "#bf_samples = df_samples.query('country == \"Burkina Faso\"')\n",
    "#bf_samples.groupby(['location', 'aim_species']).size()\n",
    "\n",
    "#To access to the snp genotypes within the 2L chromosomes\n",
    "chrom2L_gt = ag3.snp_calls(region=\"2L\", sample_sets=sets)\n"
   ]
  },
  {
   "cell_type": "code",
   "execution_count": null,
   "metadata": {
    "id": "6qrcslm9-y60"
   },
   "outputs": [],
   "source": [
    "# define population \n",
    "bf_samples = df_samples.query('country == \"Burkina Faso\" and year > 2004')\n",
    "s1, s2, pop_labels,pop_colors, = [], [], {}, {}\n",
    "for iso, species in zip(bf_samples.location, bf_samples.aim_species):\n",
    "    s1.append(iso[:4]+'_'+species[:3])\n",
    "bf_samples.insert(4, 'population', s1)\n",
    "bf_samples_sel = pd.concat([bf_samples, bf_samples])\n",
    "pop_ids = list(bf_samples.population.unique())\n",
    "\n",
    "#pop_id\n",
    "for idx, species in zip(bf_samples.location, bf_samples.aim_species):\n",
    "  w = idx.split(' ')[0][:14]\n",
    "  s2.append(w+' $An.'+species)\n",
    "val = list(Counter(s2).keys())\n",
    "for idx, vl in zip(pop_ids, val):\n",
    "    pop_labels[idx]=vl\n",
    "pop_labels\n",
    "\n",
    "#pop_labels & pop_colors\n",
    "colored = sns.color_palette(\"husl\", len(pop_ids))\n",
    "for i in range(len(pop_ids)):\n",
    "    pop_colors[pop_ids[i]] = colored[i]\n",
    "\n",
    "pop_color = {'Bana_col':'#7FFFD4', 'Pala_col':'#008000', 'Sour_col':'#9ACD32',\n",
    "             'Bana_gam':'#FF00FF', 'Pala_gam':'#C20078', 'Sour_gam':'#9A0EEA',\n",
    "             'Bana_ara':'#FFA500', 'Pala_ara':'#DAA520', 'Sour_ara':'#FF6347',\n",
    "             'Bana_int':'#580F41', 'Pala_int':'#01153E'\n",
    "             }\n",
    "#pop_cohort\n",
    "coh_pop = dict([(f\"{p}\", list(df.index)) for (p), df in bf_samples.reset_index().groupby(['population'])])\n",
    "ls1 = ['Pala_gam', 'Sour_gam', 'Sour_col', 'Bana_gam', 'Pala_ara', 'Bana_col']\n",
    "pop_idx = []\n",
    "for pop in ls1:\n",
    "  pop_idx = pop_idx + coh_pop[pop]\n",
    "len(pop_idx)\n",
    "\n",
    "#remove some populations \n",
    "pop_rm = ['Bana_ara', 'Bana_int', 'Sour_ara', 'Mono_gam', 'Pala_col']\n",
    "del s1, s2, val, colored"
   ]
  },
  {
   "cell_type": "code",
   "execution_count": null,
   "metadata": {
    "colab": {
     "base_uri": "https://localhost:8080/"
    },
    "executionInfo": {
     "elapsed": 15,
     "status": "ok",
     "timestamp": 1669113269769,
     "user": {
      "displayName": "Mahamadi Kientega",
      "userId": "09005529550051576731"
     },
     "user_tz": 0
    },
    "id": "Io6egVr4n3Me",
    "outputId": "3b5400e5-ac99-492a-c199-c5aac34ea5d1"
   },
   "outputs": [
    {
     "data": {
      "text/plain": [
       "array(['Pala_gam', 'Sour_gam', 'Sour_col', 'Bana_gam', 'Pala_ara',\n",
       "       'Bana_col', 'Pala_int', 'Sour_ara', 'Bana_int', 'Pala_col',\n",
       "       'Bana_ara'], dtype=object)"
      ]
     },
     "execution_count": 8,
     "metadata": {},
     "output_type": "execute_result"
    }
   ],
   "source": [
    "bf_samples.population.unique()"
   ]
  },
  {
   "cell_type": "code",
   "execution_count": 9,
   "metadata": {
    "colab": {
     "base_uri": "https://localhost:8080/"
    },
    "executionInfo": {
     "elapsed": 3917303,
     "status": "ok",
     "timestamp": 1669117711361,
     "user": {
      "displayName": "Mahamadi Kientega",
      "userId": "09005529550051576731"
     },
     "user_tz": 0
    },
    "id": "IvErnkM2XatJ",
    "outputId": "90967a66-2607-4d68-bf61-ee371e1f8f1e"
   },
   "outputs": [
    {
     "name": "stdout",
     "output_type": "stream",
     "text": [
      "[########################################] | 100% Completed |  1hr 12min 22.7s\n"
     ]
    }
   ],
   "source": [
    "#To the genomics dataset within the Target region and bf samples \n",
    "bf_snps = chrom2L_gt.sel(samples=df_samples.eval('country==\"Burkina Faso\" and year>2004'))\n",
    "\n",
    "# Take some SNP in the 2R chromosomes \n",
    "bf_snps_pos = allel.SortedIndex(bf_snps['variant_position'].values)\n",
    "\n",
    "# To filter the SNP dataset and warp the dataset to GT array \n",
    "filt = 'gamb_colu_arab' \n",
    "filt_val = bf_snps[f\"variant_filter_pass_{filt}\"].values \n",
    "gt_filtered = allel.GenotypeDaskArray(bf_snps[\"call_genotype\"][filt_val].data)\n",
    "\n",
    "# compute allele counts\n",
    "with ProgressBar():\n",
    "  ac = gt_filtered.take(pop_idx, axis=1).count_alleles(max_allele=3).compute()\n",
    "#ac_pop = gt_filtered.count_alleles_subpops(coh_pop)"
   ]
  },
  {
   "cell_type": "markdown",
   "metadata": {
    "id": "QtKBinJnih4f"
   },
   "source": [
    "#PCA"
   ]
  },
  {
   "cell_type": "code",
   "execution_count": 10,
   "metadata": {
    "executionInfo": {
     "elapsed": 1728,
     "status": "ok",
     "timestamp": 1669117713087,
     "user": {
      "displayName": "Mahamadi Kientega",
      "userId": "09005529550051576731"
     },
     "user_tz": 0
    },
    "id": "tfQDyzoPPWhB"
   },
   "outputs": [],
   "source": [
    "#filter - to remove missing data\n",
    "filter_ac = (ac.max_allele() == 1) & (ac[:, :2].min(axis=1) > 1)\n",
    "gt_rm_miss = gt_filtered.compress(filter_ac, axis=0)\n",
    "geno_alt = gt_rm_miss.to_n_alt()"
   ]
  },
  {
   "cell_type": "code",
   "execution_count": 11,
   "metadata": {
    "executionInfo": {
     "elapsed": 3,
     "status": "ok",
     "timestamp": 1669117713091,
     "user": {
      "displayName": "Mahamadi Kientega",
      "userId": "09005529550051576731"
     },
     "user_tz": 0
    },
    "id": "SjclLxcri0HA"
   },
   "outputs": [],
   "source": [
    "#randomly select snps \n",
    "n=300000   \n",
    "rand_x = np.random.choice(geno_alt.shape[0], n, replace=False)\n",
    "rand_x.sort()\n",
    "gt_random = gt_rm_miss.take(rand_x, axis=0).to_n_alt()"
   ]
  },
  {
   "cell_type": "code",
   "execution_count": 12,
   "metadata": {
    "colab": {
     "base_uri": "https://localhost:8080/"
    },
    "executionInfo": {
     "elapsed": 4,
     "status": "ok",
     "timestamp": 1669117713092,
     "user": {
      "displayName": "Mahamadi Kientega",
      "userId": "09005529550051576731"
     },
     "user_tz": 0
    },
    "id": "xdT9I02wnl27",
    "outputId": "bbf23ff6-162e-45c7-9a49-0f77a5fcf020"
   },
   "outputs": [
    {
     "data": {
      "text/plain": [
       "PosixPath('pca_data.npz')"
      ]
     },
     "execution_count": 12,
     "metadata": {},
     "output_type": "execute_result"
    }
   ],
   "source": [
    "#define PCA path \n",
    "pca_data = Path('pca_data.npz')\n",
    "pca_data"
   ]
  },
  {
   "cell_type": "code",
   "execution_count": 13,
   "metadata": {
    "colab": {
     "base_uri": "https://localhost:8080/"
    },
    "executionInfo": {
     "elapsed": 3347196,
     "status": "ok",
     "timestamp": 1669121060287,
     "user": {
      "displayName": "Mahamadi Kientega",
      "userId": "09005529550051576731"
     },
     "user_tz": 0
    },
    "id": "iYXPd7Efnl0I",
    "outputId": "0170d5bb-388c-4292-fe95-84251f05f2da"
   },
   "outputs": [
    {
     "name": "stdout",
     "output_type": "stream",
     "text": [
      "processing\n"
     ]
    }
   ],
   "source": [
    "if pca_data.is_file():\n",
    "    # file exist\n",
    "    pca = np.load('pca_data.npz')\n",
    "    coords = pca['coords']\n",
    "    loadings = pca['loadings']\n",
    "    variance = pca['variance']\n",
    "else:\n",
    "    print('processing')\n",
    "    coords, model = allel.pca(gt_random, n_components=20, scaler='patterson')"
   ]
  },
  {
   "cell_type": "code",
   "execution_count": 23,
   "metadata": {
    "executionInfo": {
     "elapsed": 323,
     "status": "ok",
     "timestamp": 1669121616678,
     "user": {
      "displayName": "Mahamadi Kientega",
      "userId": "09005529550051576731"
     },
     "user_tz": 0
    },
    "id": "Vgn8ObfbUeHm"
   },
   "outputs": [],
   "source": [
    "## save PCA data \n",
    "np.save('drive/MyDrive/Genomic/PCA1/2L_coords', coords)\n",
    "np.save('drive/MyDrive/Genomic/PCA1/2L_model', model)\n",
    "\n",
    "def load_coords(file='coords.npy'):\n",
    "  return np.load(f'drive/MyDrive/Genomic/PCA1/{file}')\n",
    "\n",
    "def load_model(file='model.npy'):\n",
    "  return np.load(f'drive/MyDrive/Genomic/PCA1/{file}', allow_pickle='TRUE').item()"
   ]
  },
  {
   "cell_type": "code",
   "execution_count": null,
   "metadata": {
    "id": "DebbLIC9nlwx"
   },
   "outputs": [],
   "source": [
    "fig = plt.figure(figsize=(20, 6))\n",
    "ax = fig.add_subplot(121)\n",
    "if 'variance' in globals():\n",
    "    ax.plot(variance, 'go')\n",
    "else:\n",
    "    ax.plot(model.explained_variance_ratio_, 'go')\n",
    "ax.set_xlabel(\"principal component\")\n",
    "ax.set_ylabel(\"variance explained\")\n",
    "plt.xticks(np.arange(0,20, 1));"
   ]
  },
  {
   "cell_type": "code",
   "execution_count": null,
   "metadata": {
    "id": "5xm9LPe_gCaj"
   },
   "outputs": [],
   "source": [
    "def marker_style (pop_ids):\n",
    "  marker = {}\n",
    "  for pop in pop_ids:\n",
    "    if pop.split('_')[1]=='gam':\n",
    "      marker[pop] = 'o'\n",
    "    elif pop.split('_')[1]=='col':\n",
    "      marker[pop] = 'D'\n",
    "    elif pop.split('_')[1]=='ara':\n",
    "      marker[pop] = 'v'\n",
    "    elif pop.split('_')[1]=='int':\n",
    "      marker[pop] = '*'\n",
    "    else:\n",
    "      marker[pop] = 'h'\n",
    "  return marker"
   ]
  },
  {
   "cell_type": "code",
   "execution_count": null,
   "metadata": {
    "id": "to-j4DPAnltu"
   },
   "outputs": [],
   "source": [
    "def plot_pca_coords(coords, model, pc1, pc2, ax, sample_population):\n",
    "    sns.despine(ax=ax, offset=5)\n",
    "    x = coords[:, pc1]\n",
    "    y = coords[:, pc2]\n",
    "    for pop in pop_idx:\n",
    "        flt = (sample_population == pop)\n",
    "        ax.plot(x[flt], y[flt], marker=marker_style(pop_ids)[pop], linestyle=' ', color=pop_color[pop], \n",
    "                label=pop, markersize=6, mec='k', mew=0.4)\n",
    "    ax.set_xlabel('PC%s (%.1f%%)' % (pc1+1, model[pc1]*100))\n",
    "    ax.set_ylabel('PC%s (%.1f%%)' % (pc2+1, model[pc2]*100))\n",
    "    "
   ]
  },
  {
   "cell_type": "code",
   "execution_count": null,
   "metadata": {
    "id": "7WhgAiM-nlqt"
   },
   "outputs": [],
   "source": [
    "def fig_pca(coords, model, title, sample_population, fig_name=None):\n",
    "    # plot coords for PCs 1 vs 2, 3 vs 4\n",
    "    fig = plt.figure(figsize=(16, 10))\n",
    "    ax = fig.add_subplot(231)\n",
    "    plot_pca_coords(coords, model, 0, 1, ax, sample_population)\n",
    "\n",
    "    ax = fig.add_subplot(232)\n",
    "    plot_pca_coords(coords, model, 2, 3, ax, sample_population)\n",
    "    \n",
    "    ax = fig.add_subplot(233)\n",
    "    plot_pca_coords(coords, model, 4, 5, ax, sample_population)\n",
    "    \n",
    "    ax = fig.add_subplot(234)\n",
    "    plot_pca_coords(coords, model, 6, 7, ax, sample_population)\n",
    "    \n",
    "    ax = fig.add_subplot(235)\n",
    "    plot_pca_coords(coords, model, 8, 9, ax, sample_population)\n",
    "    \n",
    "    ax = fig.add_subplot(236)\n",
    "    plot_pca_coords(coords, model, 10, 11, ax, sample_population)\n",
    "\n",
    "    ax.legend(bbox_to_anchor=(1, 1), loc='upper left')\n",
    "    \n",
    "    fig.suptitle(title, y=1.02)\n",
    "    fig.tight_layout()\n",
    "    \n",
    "    if fig_name:\n",
    "      fig.savefig(f\"drive/MyDrive/Genomic/PCA/{fig_name}.png\", dpi=300, bbox_inches='tight')\n"
   ]
  },
  {
   "cell_type": "code",
   "execution_count": null,
   "metadata": {
    "id": "Fnrj_x8exZM9"
   },
   "outputs": [],
   "source": [
    "if 'variance' in globals():\n",
    "    fig_pca(coords, variance ,'PCA - 2L', bf_samples.population.values, fig_name='2L_PCA')\n",
    "else:\n",
    "    fig_pca(coords, model.explained_variance_ratio_ ,'PCA - 2L', bf_samples.population.values, fig_name='2L_PCA')"
   ]
  },
  {
   "cell_type": "code",
   "execution_count": null,
   "metadata": {
    "executionInfo": {
     "elapsed": 1,
     "status": "aborted",
     "timestamp": 1669121063746,
     "user": {
      "displayName": "Mahamadi Kientega",
      "userId": "09005529550051576731"
     },
     "user_tz": 0
    },
    "id": "rmCA__RBxY5y"
   },
   "outputs": [],
   "source": [
    "def fig_pca1_2(coords, model, title, sample_population, fig_name=None):\n",
    "    # plot coords for PCs 1 vs 2\n",
    "    fig = plt.figure(figsize=(8, 5))\n",
    "    ax = fig.add_subplot()\n",
    "    plot_pca_coords(coords, model, 0, 1, ax, sample_population)\n",
    "\n",
    "    ax.legend(bbox_to_anchor=(1.1, 1), loc='upper left')\n",
    "    \n",
    "    fig.suptitle(title, y=1.02)\n",
    "    fig.tight_layout()\n",
    "\n",
    "    if fig_name:\n",
    "      fig.savefig(f\"drive/MyDrive/Genomic/PCA/{fig_name}.png\", dpi=300, bbox_inches='tight')\n"
   ]
  },
  {
   "cell_type": "code",
   "execution_count": null,
   "metadata": {
    "executionInfo": {
     "elapsed": 3,
     "status": "aborted",
     "timestamp": 1669121063748,
     "user": {
      "displayName": "Mahamadi Kientega",
      "userId": "09005529550051576731"
     },
     "user_tz": 0
    },
    "id": "jgof0oSFOfun"
   },
   "outputs": [],
   "source": [
    "if 'variance' in globals():\n",
    "    fig_pca1_2(coords, variance ,'PCA1_2 - 2L', bf_samples.population.values, fig_name='2L_PCA12')\n",
    "else:\n",
    "    fig_pca1_2(coords, model.explained_variance_ratio_ ,'PCA1_2 - 2L', bf_samples.population.values, fig_name='2L_PCA12')"
   ]
  }
 ],
 "metadata": {
  "colab": {
   "authorship_tag": "ABX9TyPKwlu6vvFkgvYzvRU883A7",
   "provenance": [
    {
     "file_id": "1i33j44YdtV2VWJc4ObsuheHVzWlsR9ws",
     "timestamp": 1648668774316
    },
    {
     "file_id": "19uIwTAP0EtdhkZR-if4bcm7fXDYvMIi9",
     "timestamp": 1648661190713
    },
    {
     "file_id": "1epngoLpj6gb7fx7TX88EUGaXrvh6ousC",
     "timestamp": 1647690484603
    },
    {
     "file_id": "1b-L4Q3sYhC22B6SkRbK7otOeRjDgmBko",
     "timestamp": 1647622276416
    },
    {
     "file_id": "19amoJl5xCzxYHZFyXe4adndUxP2oVVJQ",
     "timestamp": 1647520622527
    },
    {
     "file_id": "1D8TW3w9XCWXgic9XhpRB536XOzpTp4tT",
     "timestamp": 1647513242536
    }
   ]
  },
  "kernelspec": {
   "display_name": "Python 3 (ipykernel)",
   "language": "python",
   "name": "python3"
  },
  "language_info": {
   "codemirror_mode": {
    "name": "ipython",
    "version": 3
   },
   "file_extension": ".py",
   "mimetype": "text/x-python",
   "name": "python",
   "nbconvert_exporter": "python",
   "pygments_lexer": "ipython3",
   "version": "3.12.3"
  },
  "widgets": {
   "application/vnd.jupyter.widget-state+json": {
    "0107e0a81841466d81527f7170bfa8e9": {
     "model_module": "@jupyter-widgets/base",
     "model_module_version": "1.2.0",
     "model_name": "LayoutModel",
     "state": {
      "_model_module": "@jupyter-widgets/base",
      "_model_module_version": "1.2.0",
      "_model_name": "LayoutModel",
      "_view_count": null,
      "_view_module": "@jupyter-widgets/base",
      "_view_module_version": "1.2.0",
      "_view_name": "LayoutView",
      "align_content": null,
      "align_items": null,
      "align_self": null,
      "border": null,
      "bottom": null,
      "display": null,
      "flex": null,
      "flex_flow": null,
      "grid_area": null,
      "grid_auto_columns": null,
      "grid_auto_flow": null,
      "grid_auto_rows": null,
      "grid_column": null,
      "grid_gap": null,
      "grid_row": null,
      "grid_template_areas": null,
      "grid_template_columns": null,
      "grid_template_rows": null,
      "height": null,
      "justify_content": null,
      "justify_items": null,
      "left": null,
      "margin": null,
      "max_height": null,
      "max_width": null,
      "min_height": null,
      "min_width": null,
      "object_fit": null,
      "object_position": null,
      "order": null,
      "overflow": null,
      "overflow_x": null,
      "overflow_y": null,
      "padding": null,
      "right": null,
      "top": null,
      "visibility": null,
      "width": null
     }
    },
    "197b0f09eb754365a15a0a8bf3f786db": {
     "model_module": "@jupyter-widgets/controls",
     "model_module_version": "1.5.0",
     "model_name": "ProgressStyleModel",
     "state": {
      "_model_module": "@jupyter-widgets/controls",
      "_model_module_version": "1.5.0",
      "_model_name": "ProgressStyleModel",
      "_view_count": null,
      "_view_module": "@jupyter-widgets/base",
      "_view_module_version": "1.2.0",
      "_view_name": "StyleView",
      "bar_color": null,
      "description_width": ""
     }
    },
    "1b8401ef35e0403586c7f35c4fd3dc58": {
     "model_module": "@jupyter-widgets/controls",
     "model_module_version": "1.5.0",
     "model_name": "HBoxModel",
     "state": {
      "_dom_classes": [],
      "_model_module": "@jupyter-widgets/controls",
      "_model_module_version": "1.5.0",
      "_model_name": "HBoxModel",
      "_view_count": null,
      "_view_module": "@jupyter-widgets/controls",
      "_view_module_version": "1.5.0",
      "_view_name": "HBoxView",
      "box_style": "",
      "children": [
       "IPY_MODEL_67d1ebd7aa5c45ab97e1f8d55ec7c23a",
       "IPY_MODEL_c152f47f2dcc4287aa4a2d0f9aa2e96d",
       "IPY_MODEL_77a12bf192154412bce5587eef302b3e"
      ],
      "layout": "IPY_MODEL_7d6b9fb7e49543cda7917ea55b3a743e"
     }
    },
    "5df5f67f11f8452e902d107b05733bcf": {
     "model_module": "@jupyter-widgets/controls",
     "model_module_version": "1.5.0",
     "model_name": "DescriptionStyleModel",
     "state": {
      "_model_module": "@jupyter-widgets/controls",
      "_model_module_version": "1.5.0",
      "_model_name": "DescriptionStyleModel",
      "_view_count": null,
      "_view_module": "@jupyter-widgets/base",
      "_view_module_version": "1.2.0",
      "_view_name": "StyleView",
      "description_width": ""
     }
    },
    "67d1ebd7aa5c45ab97e1f8d55ec7c23a": {
     "model_module": "@jupyter-widgets/controls",
     "model_module_version": "1.5.0",
     "model_name": "HTMLModel",
     "state": {
      "_dom_classes": [],
      "_model_module": "@jupyter-widgets/controls",
      "_model_module_version": "1.5.0",
      "_model_name": "HTMLModel",
      "_view_count": null,
      "_view_module": "@jupyter-widgets/controls",
      "_view_module_version": "1.5.0",
      "_view_name": "HTMLView",
      "description": "",
      "description_tooltip": null,
      "layout": "IPY_MODEL_750c459c869849ae8c7d41077352d279",
      "placeholder": "​",
      "style": "IPY_MODEL_f95167af3de54da193a98fee1f941774",
      "value": "Load sample metadata: 100%"
     }
    },
    "6f98a9275a9f4ddfa2c09c8b35820a7b": {
     "model_module": "@jupyter-widgets/base",
     "model_module_version": "1.2.0",
     "model_name": "LayoutModel",
     "state": {
      "_model_module": "@jupyter-widgets/base",
      "_model_module_version": "1.2.0",
      "_model_name": "LayoutModel",
      "_view_count": null,
      "_view_module": "@jupyter-widgets/base",
      "_view_module_version": "1.2.0",
      "_view_name": "LayoutView",
      "align_content": null,
      "align_items": null,
      "align_self": null,
      "border": null,
      "bottom": null,
      "display": null,
      "flex": null,
      "flex_flow": null,
      "grid_area": null,
      "grid_auto_columns": null,
      "grid_auto_flow": null,
      "grid_auto_rows": null,
      "grid_column": null,
      "grid_gap": null,
      "grid_row": null,
      "grid_template_areas": null,
      "grid_template_columns": null,
      "grid_template_rows": null,
      "height": null,
      "justify_content": null,
      "justify_items": null,
      "left": null,
      "margin": null,
      "max_height": null,
      "max_width": null,
      "min_height": null,
      "min_width": null,
      "object_fit": null,
      "object_position": null,
      "order": null,
      "overflow": null,
      "overflow_x": null,
      "overflow_y": null,
      "padding": null,
      "right": null,
      "top": null,
      "visibility": null,
      "width": null
     }
    },
    "750c459c869849ae8c7d41077352d279": {
     "model_module": "@jupyter-widgets/base",
     "model_module_version": "1.2.0",
     "model_name": "LayoutModel",
     "state": {
      "_model_module": "@jupyter-widgets/base",
      "_model_module_version": "1.2.0",
      "_model_name": "LayoutModel",
      "_view_count": null,
      "_view_module": "@jupyter-widgets/base",
      "_view_module_version": "1.2.0",
      "_view_name": "LayoutView",
      "align_content": null,
      "align_items": null,
      "align_self": null,
      "border": null,
      "bottom": null,
      "display": null,
      "flex": null,
      "flex_flow": null,
      "grid_area": null,
      "grid_auto_columns": null,
      "grid_auto_flow": null,
      "grid_auto_rows": null,
      "grid_column": null,
      "grid_gap": null,
      "grid_row": null,
      "grid_template_areas": null,
      "grid_template_columns": null,
      "grid_template_rows": null,
      "height": null,
      "justify_content": null,
      "justify_items": null,
      "left": null,
      "margin": null,
      "max_height": null,
      "max_width": null,
      "min_height": null,
      "min_width": null,
      "object_fit": null,
      "object_position": null,
      "order": null,
      "overflow": null,
      "overflow_x": null,
      "overflow_y": null,
      "padding": null,
      "right": null,
      "top": null,
      "visibility": null,
      "width": null
     }
    },
    "77a12bf192154412bce5587eef302b3e": {
     "model_module": "@jupyter-widgets/controls",
     "model_module_version": "1.5.0",
     "model_name": "HTMLModel",
     "state": {
      "_dom_classes": [],
      "_model_module": "@jupyter-widgets/controls",
      "_model_module_version": "1.5.0",
      "_model_name": "HTMLModel",
      "_view_count": null,
      "_view_module": "@jupyter-widgets/controls",
      "_view_module_version": "1.5.0",
      "_view_name": "HTMLView",
      "description": "",
      "description_tooltip": null,
      "layout": "IPY_MODEL_0107e0a81841466d81527f7170bfa8e9",
      "placeholder": "​",
      "style": "IPY_MODEL_5df5f67f11f8452e902d107b05733bcf",
      "value": " 5/5 [00:01&lt;00:00,  4.21it/s]"
     }
    },
    "7d6b9fb7e49543cda7917ea55b3a743e": {
     "model_module": "@jupyter-widgets/base",
     "model_module_version": "1.2.0",
     "model_name": "LayoutModel",
     "state": {
      "_model_module": "@jupyter-widgets/base",
      "_model_module_version": "1.2.0",
      "_model_name": "LayoutModel",
      "_view_count": null,
      "_view_module": "@jupyter-widgets/base",
      "_view_module_version": "1.2.0",
      "_view_name": "LayoutView",
      "align_content": null,
      "align_items": null,
      "align_self": null,
      "border": null,
      "bottom": null,
      "display": null,
      "flex": null,
      "flex_flow": null,
      "grid_area": null,
      "grid_auto_columns": null,
      "grid_auto_flow": null,
      "grid_auto_rows": null,
      "grid_column": null,
      "grid_gap": null,
      "grid_row": null,
      "grid_template_areas": null,
      "grid_template_columns": null,
      "grid_template_rows": null,
      "height": null,
      "justify_content": null,
      "justify_items": null,
      "left": null,
      "margin": null,
      "max_height": null,
      "max_width": null,
      "min_height": null,
      "min_width": null,
      "object_fit": null,
      "object_position": null,
      "order": null,
      "overflow": null,
      "overflow_x": null,
      "overflow_y": null,
      "padding": null,
      "right": null,
      "top": null,
      "visibility": null,
      "width": null
     }
    },
    "c152f47f2dcc4287aa4a2d0f9aa2e96d": {
     "model_module": "@jupyter-widgets/controls",
     "model_module_version": "1.5.0",
     "model_name": "FloatProgressModel",
     "state": {
      "_dom_classes": [],
      "_model_module": "@jupyter-widgets/controls",
      "_model_module_version": "1.5.0",
      "_model_name": "FloatProgressModel",
      "_view_count": null,
      "_view_module": "@jupyter-widgets/controls",
      "_view_module_version": "1.5.0",
      "_view_name": "ProgressView",
      "bar_style": "success",
      "description": "",
      "description_tooltip": null,
      "layout": "IPY_MODEL_6f98a9275a9f4ddfa2c09c8b35820a7b",
      "max": 5,
      "min": 0,
      "orientation": "horizontal",
      "style": "IPY_MODEL_197b0f09eb754365a15a0a8bf3f786db",
      "value": 5
     }
    },
    "f95167af3de54da193a98fee1f941774": {
     "model_module": "@jupyter-widgets/controls",
     "model_module_version": "1.5.0",
     "model_name": "DescriptionStyleModel",
     "state": {
      "_model_module": "@jupyter-widgets/controls",
      "_model_module_version": "1.5.0",
      "_model_name": "DescriptionStyleModel",
      "_view_count": null,
      "_view_module": "@jupyter-widgets/base",
      "_view_module_version": "1.2.0",
      "_view_name": "StyleView",
      "description_width": ""
     }
    }
   }
  }
 },
 "nbformat": 4,
 "nbformat_minor": 4
}
