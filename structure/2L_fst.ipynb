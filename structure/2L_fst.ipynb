{
 "cells": [
  {
   "cell_type": "markdown",
   "metadata": {
    "id": "3UrQMDiTXghY"
   },
   "source": [
    "# Compute fst within the 2L chrom"
   ]
  },
  {
   "cell_type": "code",
   "execution_count": null,
   "metadata": {
    "id": "_r-bZjefXM7e"
   },
   "outputs": [],
   "source": [
    "!pip install malariagen_data\n",
    "!pip install scikit-allel\n",
    "!pip install petl"
   ]
  },
  {
   "cell_type": "markdown",
   "metadata": {
    "id": "SgxvcSHGX0eW"
   },
   "source": [
    "### importing necessary package"
   ]
  },
  {
   "cell_type": "code",
   "execution_count": 2,
   "metadata": {
    "executionInfo": {
     "elapsed": 4184,
     "status": "ok",
     "timestamp": 1660065019050,
     "user": {
      "displayName": "Mahamadi Kientega",
      "userId": "09005529550051576731"
     },
     "user_tz": 0
    },
    "id": "ECFgL8yDXakn"
   },
   "outputs": [],
   "source": [
    "import allel\n",
    "import malariagen_data\n",
    "import numpy as np\n",
    "import pandas as pd\n",
    "import dask\n",
    "import dask.array as da\n",
    "# silence some dask warnings\n",
    "dask.config.set(**{'array.slicing.split_large_chunks': True})\n",
    "from dask.diagnostics.progress import ProgressBar"
   ]
  },
  {
   "cell_type": "code",
   "execution_count": 3,
   "metadata": {
    "executionInfo": {
     "elapsed": 473,
     "status": "ok",
     "timestamp": 1660065019520,
     "user": {
      "displayName": "Mahamadi Kientega",
      "userId": "09005529550051576731"
     },
     "user_tz": 0
    },
    "id": "nVFl0IwmU2m5"
   },
   "outputs": [],
   "source": [
    "import random\n",
    "import functools\n",
    "import petl as ptl\n",
    "import itertools\n",
    "import scipy\n",
    "from collections import Counter"
   ]
  },
  {
   "cell_type": "code",
   "execution_count": 4,
   "metadata": {
    "executionInfo": {
     "elapsed": 512,
     "status": "ok",
     "timestamp": 1660065020029,
     "user": {
      "displayName": "Mahamadi Kientega",
      "userId": "09005529550051576731"
     },
     "user_tz": 0
    },
    "id": "77zlahrtl8fp"
   },
   "outputs": [],
   "source": [
    "# plotting setup\n",
    "import matplotlib as mpl\n",
    "import matplotlib.pyplot as plt\n",
    "from matplotlib.colors import ListedColormap\n",
    "from matplotlib.gridspec import GridSpec\n",
    "import matplotlib_venn as venn\n",
    "import seaborn as sns"
   ]
  },
  {
   "cell_type": "code",
   "execution_count": 6,
   "metadata": {
    "colab": {
     "base_uri": "https://localhost:8080/"
    },
    "executionInfo": {
     "elapsed": 19759,
     "status": "ok",
     "timestamp": 1660065048730,
     "user": {
      "displayName": "Mahamadi Kientega",
      "userId": "09005529550051576731"
     },
     "user_tz": 0
    },
    "id": "ncN1GBEsp6WC",
    "outputId": "f5178adb-f7d6-427c-d3b6-49eb13505faf"
   },
   "outputs": [
    {
     "name": "stdout",
     "output_type": "stream",
     "text": [
      "Mounted at drive\n"
     ]
    }
   ],
   "source": [
    "#Mounting Google Drive\n",
    "import os\n",
    "from google.colab import drive\n",
    "drive.mount(\"drive\")\n",
    "\n",
    "# make dir \n",
    "results_dir = \"drive/MyDrive/Genomic/\"\n",
    "os.makedirs(results_dir, exist_ok=True)"
   ]
  },
  {
   "cell_type": "markdown",
   "metadata": {
    "id": "S-MllSLqYD9J"
   },
   "source": [
    "Importing malariagen data set    \n",
    "Let's select the the sample set from "
   ]
  },
  {
   "cell_type": "code",
   "execution_count": 7,
   "metadata": {
    "colab": {
     "base_uri": "https://localhost:8080/",
     "height": 49,
     "referenced_widgets": [
      "8b050899a2b84ef0b7bc1ed2f150fca9",
      "1b0abca2d217435590b89f17a57c440c",
      "1be9a4f4c83242f59e99fe3996d3b205",
      "d2872ed962b948079459124bcdb8d1e4",
      "5cac7dab2b95447a877ae56cebaff743",
      "c20a7721c7dc4058900f983aef369e55",
      "583459362fef4601996e277f36a7d0e6",
      "e22f64171f2f46f89c07af9e5cb5305c",
      "ec58cf6701b9422ba0a4bf6f1d81b5b8",
      "8a7e826ef4bd4d79a3612deab2309d0e",
      "33828b220a75483696989746fd1170d9"
     ]
    },
    "executionInfo": {
     "elapsed": 5992,
     "status": "ok",
     "timestamp": 1660065054719,
     "user": {
      "displayName": "Mahamadi Kientega",
      "userId": "09005529550051576731"
     },
     "user_tz": 0
    },
    "id": "BFTWJ7ILXaqJ",
    "outputId": "b292a306-8286-42a8-9fcc-a100da9d859e"
   },
   "outputs": [
    {
     "data": {
      "application/vnd.jupyter.widget-view+json": {
       "model_id": "8b050899a2b84ef0b7bc1ed2f150fca9",
       "version_major": 2,
       "version_minor": 0
      },
      "text/plain": [
       "Load sample metadata:   0%|          | 0/5 [00:00<?, ?it/s]"
      ]
     },
     "metadata": {},
     "output_type": "display_data"
    }
   ],
   "source": [
    "ag3 = malariagen_data.Ag3()\n",
    "#ag3\n",
    "sets = [\"1191-VO-MULTI-OLOUGHLIN-VMF00106\", \"1191-VO-MULTI-OLOUGHLIN-VMF00140\", \n",
    "             \"AG1000G-BF-A\", \"AG1000G-BF-B\", \"AG1000G-BF-C\"]\n",
    "df_samples = ag3.sample_metadata(sample_sets=sets)#.set_index(\"sample_id\")\n",
    "bf_samples = df_samples.query('country == \"Burkina Faso\"')\n",
    "#bf_samples.groupby(['location', 'aim_species']).size()\n",
    "\n",
    "#To access to the genotypes within the 2L chromosomes\n",
    "chrom2L_gt = ag3.snp_calls(region=\"2L\", sample_sets=sets)\n",
    "\n",
    "# Take some SNP in the 2R chromosomes \n",
    "snps_pos = allel.SortedIndex(chrom2L_gt['variant_position'].values)"
   ]
  },
  {
   "cell_type": "code",
   "execution_count": 8,
   "metadata": {
    "executionInfo": {
     "elapsed": 3,
     "status": "ok",
     "timestamp": 1660065054719,
     "user": {
      "displayName": "Mahamadi Kientega",
      "userId": "09005529550051576731"
     },
     "user_tz": 0
    },
    "id": "6qrcslm9-y60"
   },
   "outputs": [],
   "source": [
    "#Create population column \n",
    "bf_samples = df_samples.query('country == \"Burkina Faso\" and year > 2004')\n",
    "s1, s2, pop_labels,pop_colors, = [], [], {}, {}\n",
    "for iso, species in zip(bf_samples.location, bf_samples.aim_species):\n",
    "    s1.append(iso[:4]+'_'+species[:3])\n",
    "bf_samples.insert(4, 'population', s1)\n",
    "bf_samples_sel = pd.concat([bf_samples, bf_samples])\n",
    "pop_ids = list(bf_samples.population.unique())\n",
    "\n",
    "#pop_id\n",
    "for idx, species in zip(bf_samples.location, bf_samples.aim_species):\n",
    "  w = idx.split(' ')[0][:4]\n",
    "  s2.append(w+' $An.'+species)\n",
    "val = list(Counter(s2).keys())\n",
    "for idx, vl in zip(pop_ids, val):\n",
    "    pop_labels[idx]=vl\n",
    "pop_labels\n",
    "\n",
    "#pop_labels\n",
    "colored = sns.color_palette(\"husl\", len(pop_ids))\n",
    "for i in range(len(pop_ids)):\n",
    "    pop_colors[pop_ids[i]] = colored[i]\n",
    "\n",
    "#pop_cohort\n",
    "coh_pop = dict([(f\"{p}\", list(df.index)) for (p), df in bf_samples.reset_index().groupby(['population'])])\n",
    "\n",
    "#remove some populations \n",
    "pop_rm = ['Bana_ara', 'Bana_int', 'Sour_ara', 'Pala_col', 'Pala_int']\n",
    "del s1, s2, val, colored\n",
    "# remove pop_function\n",
    "def remove_pop(list1, list2):\n",
    "  for item in list2:\n",
    "    list1.remove(item)\n",
    "  return list1\n",
    "pop_coh = remove_pop(pop_ids.copy(), pop_rm)"
   ]
  },
  {
   "cell_type": "code",
   "execution_count": 9,
   "metadata": {
    "executionInfo": {
     "elapsed": 14274,
     "status": "ok",
     "timestamp": 1660065069272,
     "user": {
      "displayName": "Mahamadi Kientega",
      "userId": "09005529550051576731"
     },
     "user_tz": 0
    },
    "id": "IvErnkM2XatJ"
   },
   "outputs": [],
   "source": [
    "#To the genomics dataset of bf samples \n",
    "bf_snps = chrom2L_gt.sel(samples=df_samples.eval('country==\"Burkina Faso\" and year > 2004'))\n",
    "\n",
    "# Take some SNP in the 2R chromosomes \n",
    "bf_snps_pos = allel.SortedIndex(bf_snps['variant_position'].values)\n",
    "\n",
    "# To filter the SNP dataset and warp the dataset to GT array \n",
    "filt = 'gamb_colu_arab' \n",
    "filt_val = bf_snps[f\"variant_filter_pass_{filt}\"].values \n",
    "gt_filtered = allel.GenotypeDaskArray(bf_snps[\"call_genotype\"][filt_val].data)\n"
   ]
  },
  {
   "cell_type": "code",
   "execution_count": 10,
   "metadata": {
    "colab": {
     "base_uri": "https://localhost:8080/"
    },
    "executionInfo": {
     "elapsed": 6379326,
     "status": "ok",
     "timestamp": 1660071448592,
     "user": {
      "displayName": "Mahamadi Kientega",
      "userId": "09005529550051576731"
     },
     "user_tz": 0
    },
    "id": "AMz6RWqRVQ65",
    "outputId": "c203281b-8a57-4d96-9d89-567ae3e9a2a2"
   },
   "outputs": [
    {
     "name": "stdout",
     "output_type": "stream",
     "text": [
      "[########################################] | 100% Completed | 57.1s\n",
      "[########################################] | 100% Completed | 24min 48.6s\n",
      "[########################################] | 100% Completed | 10min 35.7s\n",
      "[########################################] | 100% Completed | 51.6s\n",
      "[########################################] | 100% Completed | 12min 11.1s\n",
      "[########################################] | 100% Completed |  1min 31.2s\n",
      "[########################################] | 100% Completed | 20min 24.4s\n",
      "[########################################] | 100% Completed | 53.0s\n",
      "[########################################] | 100% Completed | 49.7s\n",
      "[########################################] | 100% Completed | 17min 57.5s\n",
      "[########################################] | 100% Completed | 15min 12.0s\n"
     ]
    }
   ],
   "source": [
    "# compute allele counts  \n",
    "#with ProgressBar():\n",
    "  #ac = gt_filtered.count_alleles(max_allele=3).compute()\n",
    "  #ac_pop = gt_filtered.count_alleles_subpops(coh_pop)\n",
    "\n",
    "ac_pop = {} ## compute allele counts pop - dict\n",
    "with ProgressBar():\n",
    "  for pop in coh_pop.keys():\n",
    "    ac_pop[pop] = gt_filtered.take(coh_pop[pop],axis=1).count_alleles(max_allele=3).compute()"
   ]
  },
  {
   "cell_type": "markdown",
   "metadata": {
    "id": "TyjWr3u6e8Uu"
   },
   "source": [
    "# Fst"
   ]
  },
  {
   "cell_type": "code",
   "execution_count": 11,
   "metadata": {
    "executionInfo": {
     "elapsed": 6,
     "status": "ok",
     "timestamp": 1660071448593,
     "user": {
      "displayName": "Mahamadi Kientega",
      "userId": "09005529550051576731"
     },
     "user_tz": 0
    },
    "id": "fHHzlexa5tQr"
   },
   "outputs": [],
   "source": [
    "@functools.lru_cache(maxsize=None)\n",
    "def load_ac(pop):\n",
    "    ac_popi = ac_pop[pop]\n",
    "    return ac_popi\n",
    "#load_ac(pop='Bana_col')"
   ]
  },
  {
   "cell_type": "code",
   "execution_count": 12,
   "metadata": {
    "executionInfo": {
     "elapsed": 5,
     "status": "ok",
     "timestamp": 1660071448593,
     "user": {
      "displayName": "Mahamadi Kientega",
      "userId": "09005529550051576731"
     },
     "user_tz": 0
    },
    "id": "jqef2ntaV3WG"
   },
   "outputs": [],
   "source": [
    "@functools.lru_cache(maxsize=None)\n",
    "def compute_pair_fst(pops, blen=10000):\n",
    "    # order is irrelevant\n",
    "    pop1, pop2 = pops\n",
    "    ac_pop1 = load_ac(pop=pop1)\n",
    "    ac_pop2 = load_ac(pop=pop2)\n",
    "    loc_pass = ac_pop1.is_segregating() & ac_pop2.is_segregating() & (ac_pop1.max_allele() <= 1) & (ac_pop2.max_allele() <= 1)\n",
    "    ac1 = ac_pop1[loc_pass]\n",
    "    ac2 = ac_pop2[loc_pass]\n",
    "    \n",
    "    # compute Fst\n",
    "    fst, se, _, _ = allel.blockwise_hudson_fst(ac1, ac2, blen)\n",
    "    \n",
    "    return fst, se"
   ]
  },
  {
   "cell_type": "code",
   "execution_count": 13,
   "metadata": {
    "executionInfo": {
     "elapsed": 4,
     "status": "ok",
     "timestamp": 1660071448593,
     "user": {
      "displayName": "Mahamadi Kientega",
      "userId": "09005529550051576731"
     },
     "user_tz": 0
    },
    "id": "LQYbaehTRyam"
   },
   "outputs": [],
   "source": [
    "def compute_pairwise_fst(pop_coh, blen=10000):\n",
    "    pairwise_fst = []\n",
    "    pairwise_fst_se = []\n",
    "    for pop1, pop2 in itertools.combinations(pop_coh, 2):\n",
    "        pops = tuple(sorted([pop1, pop2]))\n",
    "        fst, se = compute_pair_fst(pops=pops, blen=blen)\n",
    "        pairwise_fst.append(fst)\n",
    "        pairwise_fst_se.append(se)\n",
    "    return pairwise_fst, pairwise_fst_se"
   ]
  },
  {
   "cell_type": "code",
   "execution_count": 14,
   "metadata": {
    "executionInfo": {
     "elapsed": 5,
     "status": "ok",
     "timestamp": 1660071448594,
     "user": {
      "displayName": "Mahamadi Kientega",
      "userId": "09005529550051576731"
     },
     "user_tz": 0
    },
    "id": "IrnW8zhGzm2H"
   },
   "outputs": [],
   "source": [
    "def tabulate_pairwise_fst(pop_coh, blen=10000):\n",
    "    fst, se = compute_pairwise_fst(pop_coh, blen=blen)\n",
    "    fstsq = scipy.spatial.distance.squareform(fst)\n",
    "    sesq = scipy.spatial.distance.squareform(se)\n",
    "    data = [zip(r1, r2) for r1, r2 in zip(fstsq, sesq)]\n",
    "    tbl_fst = (ptl\n",
    "               .wrap(data)\n",
    "               .pushheader(pop_coh)\n",
    "               .convertall(lambda v: '' if v == (0, 0) else '%.04f (%.04f)' % v)\n",
    "               .addcolumn('population', pop_coh, index=0)\n",
    "               )\n",
    "    tbl_fst.displayall(index_header=False, caption='Fst (standard error)')"
   ]
  },
  {
   "cell_type": "code",
   "execution_count": 15,
   "metadata": {
    "executionInfo": {
     "elapsed": 5,
     "status": "ok",
     "timestamp": 1660071448594,
     "user": {
      "displayName": "Mahamadi Kientega",
      "userId": "09005529550051576731"
     },
     "user_tz": 0
    },
    "id": "gkHcvtPXPWXk"
   },
   "outputs": [],
   "source": [
    "def plot_pairwise_fst(fst, se, pop_coh, figsize=(7, 4), mask=True, ax=None, fig_name=None):\n",
    "    \n",
    "    if ax is None:\n",
    "        fig, ax = plt.subplots(figsize=figsize)\n",
    "        sns.despine(ax=ax, top=False, bottom=True, offset=0)\n",
    "\n",
    "    # plot Fst\n",
    "    data = scipy.spatial.distance.squareform(fst).copy()\n",
    "    pop_indices = [pop_coh.index(p) for p in pop_coh]\n",
    "    data = data.take(pop_indices, axis=0).take(pop_indices, axis=1)\n",
    "    data[data < 0] = 0\n",
    "    mask = np.zeros_like(data)\n",
    "    mask[np.triu_indices_from(mask)] = True\n",
    "    sns.heatmap(data, ax=ax, vmin=0, cmap=(sns.light_palette((210, 90, 60), input=\"husl\")), \n",
    "                mask=mask, cbar=False, annot=True, fmt='.2f', )\n",
    "\n",
    "    # plot Z score\n",
    "    data = scipy.spatial.distance.squareform(np.array(fst)/np.array(se)).copy()\n",
    "    data = data.take(pop_indices, axis=0).take(pop_indices, axis=1)\n",
    "    data[data < 0] = 0\n",
    "    mask = np.zeros_like(data)\n",
    "    mask[np.tril_indices_from(mask)] = True\n",
    "    sns.heatmap(data, ax=ax, vmin=0, vmax=100, cmap='Greys', \n",
    "                mask=mask, cbar=False, annot=True, fmt='.1f', )\n",
    "    \n",
    "    xtl = [pop_labels[p] for p in pop_coh]\n",
    "    ytl = list(xtl)#[::-1]\n",
    "    ax.xaxis.tick_top()\n",
    "    ax.set_xticks(np.arange(len(xtl)) + .5)\n",
    "    ax.set_xticklabels(xtl, rotation=45, ha='left', fontweight='bold')\n",
    "    ax.set_yticklabels(ytl, rotation=0, ha='right', fontweight='bold')\n",
    "    ax.tick_params(length=0, pad=3)\n",
    "    ax.set_xlabel('Chrom 2L - $F_{ST}$')\n",
    "    ax.set_ylabel('$Z$ score')\n",
    "    ax.yaxis.set_label_position('right')\n",
    "\n",
    "    fig.tight_layout()\n",
    "\n",
    "    #save fig\n",
    "    if fig_name:\n",
    "      fig.savefig(f'drive/MyDrive/Genomic/Fst/{fig_name}.png', dpi=300, bbox_inches='tight')\n"
   ]
  },
  {
   "cell_type": "code",
   "execution_count": 16,
   "metadata": {
    "executionInfo": {
     "elapsed": 56130,
     "status": "ok",
     "timestamp": 1660071504719,
     "user": {
      "displayName": "Mahamadi Kientega",
      "userId": "09005529550051576731"
     },
     "user_tz": 0
    },
    "id": "2KMay9fz1QJz"
   },
   "outputs": [],
   "source": [
    "fst_pop, se_pop = compute_pairwise_fst(sorted(pop_coh), blen=50000)"
   ]
  },
  {
   "cell_type": "code",
   "execution_count": 18,
   "metadata": {
    "colab": {
     "base_uri": "https://localhost:8080/",
     "height": 297
    },
    "executionInfo": {
     "elapsed": 1646,
     "status": "ok",
     "timestamp": 1660072062390,
     "user": {
      "displayName": "Mahamadi Kientega",
      "userId": "09005529550051576731"
     },
     "user_tz": 0
    },
    "id": "MsqGmVy2PWa4",
    "outputId": "89a2f968-bd2d-47c2-e38d-317f7d4471b8"
   },
   "outputs": [
    {
     "data": {
      "image/png": "[encoded data removed]",
      "text/plain": [
       "<Figure size 504x288 with 1 Axes>"
      ]
     },
     "metadata": {
      "needs_background": "light"
     },
     "output_type": "display_data"
    }
   ],
   "source": [
    "plot_pairwise_fst(fst=fst_pop, se=se_pop, pop_coh=sorted(pop_coh), fig_name='2L_Fst')"
   ]
  },
  {
   "cell_type": "markdown",
   "metadata": {
    "id": "5MPGFAOJAXkX"
   },
   "source": [
    "# Save data"
   ]
  },
  {
   "cell_type": "code",
   "execution_count": 22,
   "metadata": {
    "colab": {
     "base_uri": "https://localhost:8080/"
    },
    "executionInfo": {
     "elapsed": 374,
     "status": "ok",
     "timestamp": 1660072414564,
     "user": {
      "displayName": "Mahamadi Kientega",
      "userId": "09005529550051576731"
     },
     "user_tz": 0
    },
    "id": "rmCA__RBxY5y",
    "outputId": "68f7e308-a3c6-441e-fa80-0ce6eddcb6cf"
   },
   "outputs": [
    {
     "name": "stdout",
     "output_type": "stream",
     "text": [
      "Done...!\n"
     ]
    }
   ],
   "source": [
    "## Save year to year fst data \n",
    "fst_2L = np.array([fst_pop, se_pop])\n",
    "np.save('drive/MyDrive/Genomic/Fst/data_fst/2L_fst', fst_2L)\n",
    "print('Done...!')"
   ]
  },
  {
   "cell_type": "code",
   "execution_count": null,
   "metadata": {
    "id": "AjuWHbwPAreh"
   },
   "outputs": [],
   "source": []
  }
 ],
 "metadata": {
  "colab": {
   "collapsed_sections": [],
   "name": "2L_fst.ipynb",
   "provenance": [
    {
     "file_id": "1OK9LX5Fu9YwAr9xaWD2KV46OEBMq2LAR",
     "timestamp": 1648665759402
    },
    {
     "file_id": "1PR9qYe7-YY_1ClVCDS8k6-hbhOzuI8UE",
     "timestamp": 1648660320702
    },
    {
     "file_id": "1epngoLpj6gb7fx7TX88EUGaXrvh6ousC",
     "timestamp": 1648481940248
    },
    {
     "file_id": "1b-L4Q3sYhC22B6SkRbK7otOeRjDgmBko",
     "timestamp": 1647622276416
    },
    {
     "file_id": "19amoJl5xCzxYHZFyXe4adndUxP2oVVJQ",
     "timestamp": 1647520622527
    },
    {
     "file_id": "1D8TW3w9XCWXgic9XhpRB536XOzpTp4tT",
     "timestamp": 1647513242536
    }
   ]
  },
  "kernelspec": {
   "display_name": "Python 3 (ipykernel)",
   "language": "python",
   "name": "python3"
  },
  "language_info": {
   "codemirror_mode": {
    "name": "ipython",
    "version": 3
   },
   "file_extension": ".py",
   "mimetype": "text/x-python",
   "name": "python",
   "nbconvert_exporter": "python",
   "pygments_lexer": "ipython3",
   "version": "3.12.3"
  },
  "widgets": {
   "application/vnd.jupyter.widget-state+json": {
    "1b0abca2d217435590b89f17a57c440c": {
     "model_module": "@jupyter-widgets/controls",
     "model_module_version": "1.5.0",
     "model_name": "HTMLModel",
     "state": {
      "_dom_classes": [],
      "_model_module": "@jupyter-widgets/controls",
      "_model_module_version": "1.5.0",
      "_model_name": "HTMLModel",
      "_view_count": null,
      "_view_module": "@jupyter-widgets/controls",
      "_view_module_version": "1.5.0",
      "_view_name": "HTMLView",
      "description": "",
      "description_tooltip": null,
      "layout": "IPY_MODEL_c20a7721c7dc4058900f983aef369e55",
      "placeholder": "​",
      "style": "IPY_MODEL_583459362fef4601996e277f36a7d0e6",
      "value": "Load sample metadata: 100%"
     }
    },
    "1be9a4f4c83242f59e99fe3996d3b205": {
     "model_module": "@jupyter-widgets/controls",
     "model_module_version": "1.5.0",
     "model_name": "FloatProgressModel",
     "state": {
      "_dom_classes": [],
      "_model_module": "@jupyter-widgets/controls",
      "_model_module_version": "1.5.0",
      "_model_name": "FloatProgressModel",
      "_view_count": null,
      "_view_module": "@jupyter-widgets/controls",
      "_view_module_version": "1.5.0",
      "_view_name": "ProgressView",
      "bar_style": "success",
      "description": "",
      "description_tooltip": null,
      "layout": "IPY_MODEL_e22f64171f2f46f89c07af9e5cb5305c",
      "max": 5,
      "min": 0,
      "orientation": "horizontal",
      "style": "IPY_MODEL_ec58cf6701b9422ba0a4bf6f1d81b5b8",
      "value": 5
     }
    },
    "33828b220a75483696989746fd1170d9": {
     "model_module": "@jupyter-widgets/controls",
     "model_module_version": "1.5.0",
     "model_name": "DescriptionStyleModel",
     "state": {
      "_model_module": "@jupyter-widgets/controls",
      "_model_module_version": "1.5.0",
      "_model_name": "DescriptionStyleModel",
      "_view_count": null,
      "_view_module": "@jupyter-widgets/base",
      "_view_module_version": "1.2.0",
      "_view_name": "StyleView",
      "description_width": ""
     }
    },
    "583459362fef4601996e277f36a7d0e6": {
     "model_module": "@jupyter-widgets/controls",
     "model_module_version": "1.5.0",
     "model_name": "DescriptionStyleModel",
     "state": {
      "_model_module": "@jupyter-widgets/controls",
      "_model_module_version": "1.5.0",
      "_model_name": "DescriptionStyleModel",
      "_view_count": null,
      "_view_module": "@jupyter-widgets/base",
      "_view_module_version": "1.2.0",
      "_view_name": "StyleView",
      "description_width": ""
     }
    },
    "5cac7dab2b95447a877ae56cebaff743": {
     "model_module": "@jupyter-widgets/base",
     "model_module_version": "1.2.0",
     "model_name": "LayoutModel",
     "state": {
      "_model_module": "@jupyter-widgets/base",
      "_model_module_version": "1.2.0",
      "_model_name": "LayoutModel",
      "_view_count": null,
      "_view_module": "@jupyter-widgets/base",
      "_view_module_version": "1.2.0",
      "_view_name": "LayoutView",
      "align_content": null,
      "align_items": null,
      "align_self": null,
      "border": null,
      "bottom": null,
      "display": null,
      "flex": null,
      "flex_flow": null,
      "grid_area": null,
      "grid_auto_columns": null,
      "grid_auto_flow": null,
      "grid_auto_rows": null,
      "grid_column": null,
      "grid_gap": null,
      "grid_row": null,
      "grid_template_areas": null,
      "grid_template_columns": null,
      "grid_template_rows": null,
      "height": null,
      "justify_content": null,
      "justify_items": null,
      "left": null,
      "margin": null,
      "max_height": null,
      "max_width": null,
      "min_height": null,
      "min_width": null,
      "object_fit": null,
      "object_position": null,
      "order": null,
      "overflow": null,
      "overflow_x": null,
      "overflow_y": null,
      "padding": null,
      "right": null,
      "top": null,
      "visibility": null,
      "width": null
     }
    },
    "8a7e826ef4bd4d79a3612deab2309d0e": {
     "model_module": "@jupyter-widgets/base",
     "model_module_version": "1.2.0",
     "model_name": "LayoutModel",
     "state": {
      "_model_module": "@jupyter-widgets/base",
      "_model_module_version": "1.2.0",
      "_model_name": "LayoutModel",
      "_view_count": null,
      "_view_module": "@jupyter-widgets/base",
      "_view_module_version": "1.2.0",
      "_view_name": "LayoutView",
      "align_content": null,
      "align_items": null,
      "align_self": null,
      "border": null,
      "bottom": null,
      "display": null,
      "flex": null,
      "flex_flow": null,
      "grid_area": null,
      "grid_auto_columns": null,
      "grid_auto_flow": null,
      "grid_auto_rows": null,
      "grid_column": null,
      "grid_gap": null,
      "grid_row": null,
      "grid_template_areas": null,
      "grid_template_columns": null,
      "grid_template_rows": null,
      "height": null,
      "justify_content": null,
      "justify_items": null,
      "left": null,
      "margin": null,
      "max_height": null,
      "max_width": null,
      "min_height": null,
      "min_width": null,
      "object_fit": null,
      "object_position": null,
      "order": null,
      "overflow": null,
      "overflow_x": null,
      "overflow_y": null,
      "padding": null,
      "right": null,
      "top": null,
      "visibility": null,
      "width": null
     }
    },
    "8b050899a2b84ef0b7bc1ed2f150fca9": {
     "model_module": "@jupyter-widgets/controls",
     "model_module_version": "1.5.0",
     "model_name": "HBoxModel",
     "state": {
      "_dom_classes": [],
      "_model_module": "@jupyter-widgets/controls",
      "_model_module_version": "1.5.0",
      "_model_name": "HBoxModel",
      "_view_count": null,
      "_view_module": "@jupyter-widgets/controls",
      "_view_module_version": "1.5.0",
      "_view_name": "HBoxView",
      "box_style": "",
      "children": [
       "IPY_MODEL_1b0abca2d217435590b89f17a57c440c",
       "IPY_MODEL_1be9a4f4c83242f59e99fe3996d3b205",
       "IPY_MODEL_d2872ed962b948079459124bcdb8d1e4"
      ],
      "layout": "IPY_MODEL_5cac7dab2b95447a877ae56cebaff743"
     }
    },
    "c20a7721c7dc4058900f983aef369e55": {
     "model_module": "@jupyter-widgets/base",
     "model_module_version": "1.2.0",
     "model_name": "LayoutModel",
     "state": {
      "_model_module": "@jupyter-widgets/base",
      "_model_module_version": "1.2.0",
      "_model_name": "LayoutModel",
      "_view_count": null,
      "_view_module": "@jupyter-widgets/base",
      "_view_module_version": "1.2.0",
      "_view_name": "LayoutView",
      "align_content": null,
      "align_items": null,
      "align_self": null,
      "border": null,
      "bottom": null,
      "display": null,
      "flex": null,
      "flex_flow": null,
      "grid_area": null,
      "grid_auto_columns": null,
      "grid_auto_flow": null,
      "grid_auto_rows": null,
      "grid_column": null,
      "grid_gap": null,
      "grid_row": null,
      "grid_template_areas": null,
      "grid_template_columns": null,
      "grid_template_rows": null,
      "height": null,
      "justify_content": null,
      "justify_items": null,
      "left": null,
      "margin": null,
      "max_height": null,
      "max_width": null,
      "min_height": null,
      "min_width": null,
      "object_fit": null,
      "object_position": null,
      "order": null,
      "overflow": null,
      "overflow_x": null,
      "overflow_y": null,
      "padding": null,
      "right": null,
      "top": null,
      "visibility": null,
      "width": null
     }
    },
    "d2872ed962b948079459124bcdb8d1e4": {
     "model_module": "@jupyter-widgets/controls",
     "model_module_version": "1.5.0",
     "model_name": "HTMLModel",
     "state": {
      "_dom_classes": [],
      "_model_module": "@jupyter-widgets/controls",
      "_model_module_version": "1.5.0",
      "_model_name": "HTMLModel",
      "_view_count": null,
      "_view_module": "@jupyter-widgets/controls",
      "_view_module_version": "1.5.0",
      "_view_name": "HTMLView",
      "description": "",
      "description_tooltip": null,
      "layout": "IPY_MODEL_8a7e826ef4bd4d79a3612deab2309d0e",
      "placeholder": "​",
      "style": "IPY_MODEL_33828b220a75483696989746fd1170d9",
      "value": " 5/5 [00:02&lt;00:00,  2.72it/s]"
     }
    },
    "e22f64171f2f46f89c07af9e5cb5305c": {
     "model_module": "@jupyter-widgets/base",
     "model_module_version": "1.2.0",
     "model_name": "LayoutModel",
     "state": {
      "_model_module": "@jupyter-widgets/base",
      "_model_module_version": "1.2.0",
      "_model_name": "LayoutModel",
      "_view_count": null,
      "_view_module": "@jupyter-widgets/base",
      "_view_module_version": "1.2.0",
      "_view_name": "LayoutView",
      "align_content": null,
      "align_items": null,
      "align_self": null,
      "border": null,
      "bottom": null,
      "display": null,
      "flex": null,
      "flex_flow": null,
      "grid_area": null,
      "grid_auto_columns": null,
      "grid_auto_flow": null,
      "grid_auto_rows": null,
      "grid_column": null,
      "grid_gap": null,
      "grid_row": null,
      "grid_template_areas": null,
      "grid_template_columns": null,
      "grid_template_rows": null,
      "height": null,
      "justify_content": null,
      "justify_items": null,
      "left": null,
      "margin": null,
      "max_height": null,
      "max_width": null,
      "min_height": null,
      "min_width": null,
      "object_fit": null,
      "object_position": null,
      "order": null,
      "overflow": null,
      "overflow_x": null,
      "overflow_y": null,
      "padding": null,
      "right": null,
      "top": null,
      "visibility": null,
      "width": null
     }
    },
    "ec58cf6701b9422ba0a4bf6f1d81b5b8": {
     "model_module": "@jupyter-widgets/controls",
     "model_module_version": "1.5.0",
     "model_name": "ProgressStyleModel",
     "state": {
      "_model_module": "@jupyter-widgets/controls",
      "_model_module_version": "1.5.0",
      "_model_name": "ProgressStyleModel",
      "_view_count": null,
      "_view_module": "@jupyter-widgets/base",
      "_view_module_version": "1.2.0",
      "_view_name": "StyleView",
      "bar_color": null,
      "description_width": ""
     }
    }
   }
  }
 },
 "nbformat": 4,
 "nbformat_minor": 4
}
